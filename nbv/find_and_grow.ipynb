{
 "cells": [
  {
   "cell_type": "code",
   "execution_count": 35,
   "metadata": {},
   "outputs": [],
   "source": [
    "import open3d as o3d\n",
    "import numpy as np\n",
    "import multiprocessing as mp\n",
    "from multiprocessing import Pool\n",
    "import copy as cp\n",
    "import open3d.core as o3c\n",
    "import matplotlib.pyplot as plt\n",
    "import pyransac3d as pyrsc\n",
    "import time\n",
    "from scipy.spatial.transform import Rotation\n",
    "from iteration_utilities import deepflatten\n",
    "from mpl_toolkits.mplot3d import Axes3D"
   ]
  },
  {
   "cell_type": "code",
   "execution_count": 36,
   "metadata": {},
   "outputs": [],
   "source": [
    "#load pcd file, filter, downsample\n",
    "pcdn = o3d.io.read_point_cloud(\"loop.pcd\")\n",
    "pcdn.estimate_normals()\n",
    "cl, ind = pcdn.remove_statistical_outlier(nb_neighbors=20,\n",
    "                                                    std_ratio=0.8)\n",
    "\n",
    "pcd = pcdn.select_by_index(ind)\n",
    "pcd = pcd.voxel_down_sample(voxel_size=0.1)\n",
    "pcd.estimate_normals()\n",
    "pcd.orient_normals_consistent_tangent_plane(40)\n",
    "o3d.visualization.draw_geometries([pcd])"
   ]
  },
  {
   "cell_type": "code",
   "execution_count": 37,
   "metadata": {},
   "outputs": [],
   "source": [
    "def filter_by_normal(pcd):\n",
    "    ind = []\n",
    "    for i in range(len(pcd.points)):\n",
    "        if ((np.abs(pcd.normals[i][2]) < 0.3) and ((np.abs(pcd.normals[i][0]) > 0.8) or (np.abs(pcd.normals[i][1]) > 0.8))):\n",
    "            pcd.points[i][2] = np.random.rand()*0.01\n",
    "            pass\n",
    "        else:\n",
    "            ind.append(i)\n",
    "    result = pcd.select_by_index(ind, invert=True)\n",
    "    return result"
   ]
  },
  {
   "cell_type": "code",
   "execution_count": 38,
   "metadata": {},
   "outputs": [],
   "source": [
    "def are_vectors_perpendicular(v1, v2, threshold):\n",
    "    \n",
    "    # Normalize the vectors to unit length\n",
    "    v1_u = v1 / np.linalg.norm(v1)\n",
    "    v2_u = v2 / np.linalg.norm(v2)\n",
    "    angle = np.arccos(np.clip(np.dot(v1_u, v2_u), -1.0, 1.0))\n",
    "    angle = np.degrees(angle)\n",
    "    \n",
    "    if (180 <= angle < 360):\n",
    "        angle -= 180\n",
    "        \n",
    "    if ((90-threshold) <= angle <= (90+threshold)):\n",
    "        return True\n",
    "    else:\n",
    "        return False\n"
   ]
  },
  {
   "cell_type": "code",
   "execution_count": 39,
   "metadata": {},
   "outputs": [],
   "source": [
    "pcd_flat = filter_by_normal(pcd)\n",
    "o3d.visualization.draw_geometries([pcd_flat])"
   ]
  },
  {
   "cell_type": "code",
   "execution_count": 40,
   "metadata": {},
   "outputs": [
    {
     "name": "stdout",
     "output_type": "stream",
     "text": [
      "Detected 14 patches\n"
     ]
    }
   ],
   "source": [
    "oboxes = pcd_flat.detect_planar_patches(\n",
    "normal_variance_threshold_deg=50,\n",
    "coplanarity_deg=85,\n",
    "outlier_ratio=0.75,\n",
    "min_plane_edge_length=2,\n",
    "min_num_points=10,\n",
    "search_param=o3d.geometry.KDTreeSearchParamKNN(knn=50))\n",
    "\n",
    "print(\"Detected {} patches\".format(len(oboxes)))\n",
    "\n",
    "geometries = []\n",
    "meshes = []\n",
    "for obox in oboxes:\n",
    "\n",
    "    mesh = o3d.geometry.TriangleMesh.create_from_oriented_bounding_box(obox, scale=[1, 1, 0.0001])\n",
    "    mesh.paint_uniform_color(obox.color)\n",
    "    mesh.compute_triangle_normals()\n",
    "    mesh.compute_vertex_normals()\n",
    "    normals = np.asarray(mesh.vertex_normals)\n",
    "\n",
    "    \n",
    "    meshes.append(mesh)\n",
    "    geometries.append(obox)\n",
    "\n",
    "#o3d.visualization.draw_geometries(geometries + [boundarys.to_legacy()])\n",
    "o3d.visualization.draw_geometries(meshes+[pcd_flat])\n",
    "#for obox, mesh in zip(oboxes, meshes):\n",
    " #   print(obox.extent)\n",
    "  #  print(mesh.vertex_normals[0])"
   ]
  },
  {
   "cell_type": "code",
   "execution_count": 41,
   "metadata": {},
   "outputs": [],
   "source": [
    "def devide_meshes_hor_ver(meshes):\n",
    "    \n",
    "    first = meshes[0]\n",
    "    tmp = False\n",
    "    ver_patches = []\n",
    "    hor_patches = []\n",
    "    if (are_vectors_perpendicular(first.vertex_normals[0], np.asarray([1,0,0]), 15)):\n",
    "        ver_patches.append(first)\n",
    "    else:\n",
    "        hor_patches.append(first)\n",
    "        tmp = True\n",
    "    \n",
    "\n",
    "    for i in range(1,len(meshes)):\n",
    "        patch_normal = meshes[i].vertex_normals[0]\n",
    "\n",
    "        if (are_vectors_perpendicular(first.vertex_normals[0], patch_normal, 10)):\n",
    "            if (tmp):\n",
    "                \n",
    "                ver_patches.append(meshes[i])\n",
    "            else:\n",
    "                hor_patches.append(meshes[i])\n",
    "        else:\n",
    "            if (tmp):\n",
    "                hor_patches.append(meshes[i])\n",
    "            else:\n",
    "                ver_patches.append(meshes[i])\n",
    "\n",
    "\n",
    "\n",
    "    return hor_patches, ver_patches\n"
   ]
  },
  {
   "cell_type": "code",
   "execution_count": 42,
   "metadata": {},
   "outputs": [
    {
     "name": "stdout",
     "output_type": "stream",
     "text": [
      "5 9\n"
     ]
    }
   ],
   "source": [
    "hor_patches, ver_patches = devide_meshes_hor_ver(meshes)\n",
    "o3d.visualization.draw_geometries(ver_patches)\n",
    "o3d.visualization.draw_geometries(hor_patches)\n",
    "print(len(hor_patches), len(ver_patches))"
   ]
  },
  {
   "cell_type": "code",
   "execution_count": 43,
   "metadata": {},
   "outputs": [],
   "source": [
    "def get_mesh_distance(mesh1, mesh2, orientation):\n",
    "    o = {\n",
    "  \"vertical\": 0,\n",
    "  \"horizontal\": 1}\n",
    "    bb1 = mesh1.get_oriented_bounding_box()\n",
    "    bb1_center = bb1.get_center()[1-o[orientation]]\n",
    "    bb2 = mesh2.get_oriented_bounding_box()\n",
    "    bb2_center = bb2.get_center()[1-o[orientation]]\n",
    "    \n",
    "    \n",
    "    if (bb1_center < 0 < bb2_center):\n",
    "        dist = -bb1_center + bb2_center\n",
    "    elif (bb2_center < 0 < bb1_center):\n",
    "        dist = bb1_center - bb2_center\n",
    "    else:\n",
    "        dist = np.abs(bb1_center-bb2_center)\n",
    "        \n",
    "    return dist"
   ]
  },
  {
   "cell_type": "code",
   "execution_count": 44,
   "metadata": {},
   "outputs": [],
   "source": [
    "def find_nearest_mesh(mesh1, meshes, orientation):\n",
    "    o = {\n",
    "  \"vertical\": 0,\n",
    "  \"horizontal\": 1}\n",
    "    dist = np.Inf\n",
    "    index = 0\n",
    "    \n",
    "    bb1 = mesh1.get_oriented_bounding_box()\n",
    "    bb1_center = bb1.get_center()[1-o[orientation]]\n",
    "    \n",
    "    for mesh2, i in zip(meshes, range(len(meshes))):\n",
    "        \n",
    "        bb2 = mesh2.get_oriented_bounding_box()\n",
    "        bb2_center = bb2.get_center()[1-o[orientation]]\n",
    "        \n",
    "        if not (mesh_correspondance2(mesh1, mesh2, orientation)):\n",
    "            continue\n",
    "        \n",
    "        \n",
    "        if (bb1_center < 0 < bb2_center):\n",
    "            dist_tmp = -bb1_center + bb2_center\n",
    "        elif (bb2_center < 0 < bb1_center):\n",
    "            dist_tmp = bb1_center - bb2_center\n",
    "        else:\n",
    "            dist_tmp = np.abs(bb1_center-bb2_center)\n",
    "\n",
    "        if dist_tmp == 0:\n",
    "            continue\n",
    "        if dist_tmp < dist:\n",
    "            dist = dist_tmp\n",
    "            index = i\n",
    "    \n",
    "    return dist, index\n",
    "    \n",
    "    "
   ]
  },
  {
   "cell_type": "code",
   "execution_count": 45,
   "metadata": {},
   "outputs": [],
   "source": [
    "def mesh_correspondance2(mesh1, mesh2, orientation):\n",
    "    o = {\n",
    "  \"vertical\": 0,\n",
    "  \"horizontal\": 1}\n",
    "    \n",
    "    bb1 = mesh1.get_oriented_bounding_box()\n",
    "    bb2 = mesh2.get_oriented_bounding_box()\n",
    "    bb1_min = bb1.get_min_bound()\n",
    "    bb1_max = bb1.get_max_bound()\n",
    "    bb2_min = bb2.get_min_bound()\n",
    "    bb2_max = bb2.get_max_bound()\n",
    "    bb1_center = bb1.get_center()[o[orientation]]\n",
    "    bb2_center = bb2.get_center()[o[orientation]]\n",
    "    \n",
    "    bb1_center2 = bb1.get_center()[1-o[orientation]]\n",
    "    bb2_center2 = bb2.get_center()[1-o[orientation]]\n",
    "    \n",
    "    if (bb1_center2 < 0 < bb2_center2):\n",
    "        dist = -bb1_center2 + bb2_center2\n",
    "    elif (bb2_center2 < 0 < bb1_center2):\n",
    "        dist = bb1_center2 - bb2_center2\n",
    "    else:\n",
    "        dist = np.abs(bb1_center2-bb2_center2)\n",
    "    \n",
    "    if (dist < 1):\n",
    "        return False\n",
    "    #print(\"dist between planes: \", np.abs(bb1_center-bb2_center))\n",
    "    if (bb1_min[o[orientation]] < bb2_center < bb1_max[o[orientation]]):\n",
    "        return True\n",
    "    if (bb2_min[o[orientation]] < bb1_center < bb2_max[o[orientation]]):\n",
    "\n",
    "        return True\n",
    "    \n",
    "    \n",
    "    return False\n",
    "    "
   ]
  },
  {
   "cell_type": "code",
   "execution_count": 46,
   "metadata": {},
   "outputs": [],
   "source": [
    "corr = []\n",
    "corr_tuples = []\n",
    "    \n",
    "for i in range(len(hor_patches)):\n",
    "    mesh1 = hor_patches[i]\n",
    "    for j in range(i+1, len(hor_patches)):\n",
    "        mesh2 = hor_patches[j]\n",
    "        nearest_dist, _  = find_nearest_mesh(mesh1, hor_patches, \"horizontal\")\n",
    "        \n",
    "      \n",
    "        if (nearest_dist < get_mesh_distance(mesh1, mesh2, \"horizontal\")):\n",
    "            continue\n",
    "        \n",
    "        if (mesh_correspondance2(mesh1, mesh2, \"horizontal\")):\n",
    "            color = np.random.rand(3)\n",
    "            mesh1.paint_uniform_color(color)\n",
    "            mesh2.paint_uniform_color(color)\n",
    "            \n",
    "            corr.append(mesh1)\n",
    "            corr.append(mesh2)\n",
    "            corr_tuples.append((mesh1, mesh2))\n",
    "o3d.visualization.draw_geometries(corr)"
   ]
  },
  {
   "cell_type": "code",
   "execution_count": 47,
   "metadata": {},
   "outputs": [],
   "source": [
    "\n",
    "    \n",
    "for i in range(len(ver_patches)):\n",
    "    mesh1 = ver_patches[i]\n",
    "    for j in range(i+1, len(ver_patches)):\n",
    "        mesh2 = ver_patches[j]\n",
    "        \n",
    "        nearest_dist, _  = find_nearest_mesh(mesh1, ver_patches, \"vertical\")\n",
    "        \n",
    "        \n",
    "        if (nearest_dist < get_mesh_distance(mesh1, mesh2, \"vertical\")):\n",
    "            \n",
    "            continue\n",
    "            \n",
    "        \n",
    "        \n",
    "        if (mesh_correspondance2(mesh1, mesh2, \"vertical\")):\n",
    "            \n",
    "            \n",
    "            color = np.random.rand(3)\n",
    "            mesh1.paint_uniform_color(color)\n",
    "            mesh2.paint_uniform_color(color)\n",
    "            corr.append(mesh1)\n",
    "            corr.append(mesh2)\n",
    "            corr_tuples.append((mesh1, mesh2))\n",
    "\n",
    "o3d.visualization.draw_geometries(corr)"
   ]
  },
  {
   "cell_type": "code",
   "execution_count": 48,
   "metadata": {},
   "outputs": [],
   "source": [
    "def create_box_at_point(point):\n",
    "    \n",
    "    box = o3d.geometry.TriangleMesh.create_box(0.1,0.1,0.1)\n",
    "    box.paint_uniform_color([1,0,0])\n",
    "    \n",
    "    box.translate(point, False)\n",
    "    \n",
    "    \n",
    "    return box"
   ]
  },
  {
   "cell_type": "code",
   "execution_count": 49,
   "metadata": {},
   "outputs": [],
   "source": [
    "def find_midpoint_between_planes(plane1, plane2):\n",
    "    center1 = plane1.get_center()\n",
    "    center2 = plane2.get_center()\n",
    "\n",
    "    vec_1_2 = center2 - center1\n",
    "\n",
    "    midpoint = center1 + vec_1_2 / 2\n",
    "    return midpoint"
   ]
  },
  {
   "cell_type": "code",
   "execution_count": 50,
   "metadata": {},
   "outputs": [
    {
     "name": "stdout",
     "output_type": "stream",
     "text": [
      "inf\n",
      "7.45541666166387\n",
      "7.821007693179281\n",
      "6.773437515857028\n",
      "0.6907658094770445\n",
      "0.4096116575097765\n",
      "[array([-1.44569934e+01,  5.79038585e+00,  4.65224661e-03]), array([-7.0041804 ,  5.59338965,  0.0074955 ]), array([-1.75510658, -0.20448759,  0.0053025 ]), array([-1.09564440e+01, -8.37345169e-03,  5.22140556e-03])]\n"
     ]
    }
   ],
   "source": [
    "midpoints = []\n",
    "marker_meshes = []\n",
    "for tup in corr_tuples:\n",
    "    midpoint = find_midpoint_between_planes(tup[0], tup[1])\n",
    "    \n",
    "    dist = np.inf\n",
    "    for point in midpoints:\n",
    "        tmp = np.linalg.norm(midpoint-point)\n",
    "        if tmp < dist:\n",
    "            dist = tmp \n",
    "    print(dist)\n",
    "    if dist > 1.5:\n",
    "        midpoints.append(midpoint)\n",
    "        marker_meshes.append(create_box_at_point(midpoint))\n",
    "\n",
    "print(midpoints)\n",
    "o3d.visualization.draw_geometries(corr + marker_meshes)"
   ]
  },
  {
   "cell_type": "code",
   "execution_count": 51,
   "metadata": {},
   "outputs": [],
   "source": [
    "def create_uniform_pc_from_bb(bb_axis, voxel_size, color):\n",
    "    pc = o3d.geometry.PointCloud()\n",
    "    bb = o3d.geometry.OrientedBoundingBox.create_from_axis_aligned_bounding_box(bb_axis)\n",
    "    mesh = o3d.geometry.TriangleMesh.create_from_oriented_bounding_box(bb)\n",
    "    mesh = mesh.paint_uniform_color([0,1,0])\n",
    "    vg = o3d.geometry.VoxelGrid.create_from_triangle_mesh(mesh, voxel_size)\n",
    "    voxels = vg.get_voxels()\n",
    "    grid_indexes = [x.grid_index for x in voxels]\n",
    "    \n",
    "    voxel_centers = [vg.get_voxel_center_coordinate(index) for index in grid_indexes]\n",
    "    \n",
    "    pc.points.extend(o3d.utility.Vector3dVector(voxel_centers))  \n",
    "    pc.paint_uniform_color(color)\n",
    "    return pc\n",
    "\n"
   ]
  },
  {
   "cell_type": "code",
   "execution_count": 52,
   "metadata": {},
   "outputs": [],
   "source": [
    "bb = pcd_flat.get_axis_aligned_bounding_box()\n",
    "bb.color = np.asarray([0,0,1])\n",
    "uniform_pc = create_uniform_pc_from_bb(bb, 0.1, [1,0,0])\n",
    "o3d.visualization.draw_geometries([pcd_flat, uniform_pc, bb])"
   ]
  },
  {
   "cell_type": "code",
   "execution_count": 53,
   "metadata": {},
   "outputs": [],
   "source": [
    "def find_closest_vector_index(input_vector, pc):\n",
    "    # Convert the input vector and vector list to numpy arrays for easier calculations\n",
    "    input_vector = np.array(input_vector)\n",
    "    vector_list = np.asarray(pc.points)\n",
    "\n",
    "    # Calculate the Euclidean distances between the input vector and all vectors in the list\n",
    "    distances = np.linalg.norm(vector_list - input_vector, axis=1)\n",
    "\n",
    "    # Find the index of the vector with the minimum distance\n",
    "    closest_index = np.argmin(distances)\n",
    "\n",
    "    return closest_index"
   ]
  },
  {
   "cell_type": "code",
   "execution_count": 54,
   "metadata": {},
   "outputs": [],
   "source": [
    "def knn_search_pointclouds(pc_grid, pc_target, center, radius):\n",
    "    index = find_closest_vector_index(center, pc_grid)\n",
    "    \n",
    "    \n",
    "    tree_grid = o3d.geometry.KDTreeFlann(pc_grid)\n",
    "    tree_target = o3d.geometry.KDTreeFlann(pc_target)\n",
    "\n",
    "\n",
    "    [ka, idxa, _] = tree_grid.search_radius_vector_3d(pc_grid.points[index], radius)\n",
    "    \n",
    "    [kb, idxb, _] = tree_target.search_radius_vector_3d(pc_grid.points[index], radius)\n",
    "    \n",
    "    return ka, kb, idxa, idxb\n",
    "    "
   ]
  },
  {
   "cell_type": "code",
   "execution_count": 55,
   "metadata": {},
   "outputs": [],
   "source": [
    "def get_ids_in_direction(idx_grid, idx_target, coords_grid, coords_target, center, direction):\n",
    "    \n",
    "   \n",
    "\n",
    "    d = {\n",
    "    \"up\": (1,False),\n",
    "    \"down\": (1,True),\n",
    "    \"left\": (0,True),\n",
    "    \"right\": (0,False)}\n",
    "    \n",
    "    xory = d[direction][0]\n",
    "    smaller = d[direction][1]\n",
    "    \n",
    "    idx_dir_grid = []\n",
    "    idx_dir_target = []\n",
    "    for i in range(len(idx_grid)):\n",
    "        if smaller:\n",
    "            if coords_grid[i][xory] < center[xory]:\n",
    "                idx_dir_grid.append(idx_grid[i])\n",
    "        else:\n",
    "            if coords_grid[i][xory] > center[xory]:\n",
    "                idx_dir_grid.append(idx_grid[i])\n",
    "    \n",
    "    for i in range(len(idx_target)):\n",
    "        if smaller:\n",
    "            if coords_target[i][xory] < center[xory]:\n",
    "                idx_dir_target.append(idx_target[i])\n",
    "        else:\n",
    "            if coords_target[i][xory] > center[xory]:\n",
    "                idx_dir_target.append(idx_target[i])\n",
    "            \n",
    "            \n",
    "    return (idx_dir_grid, idx_dir_target)\n",
    "        "
   ]
  },
  {
   "cell_type": "code",
   "execution_count": 65,
   "metadata": {},
   "outputs": [
    {
     "data": {
      "text/plain": [
       "PointCloud with 36217 points."
      ]
     },
     "execution_count": 65,
     "metadata": {},
     "output_type": "execute_result"
    }
   ],
   "source": [
    "# search multiple iterations until boundary found\n",
    "search_radius = np.ceil(np.sqrt(0.2**2+0.2**2)*10000)/10000\n",
    "\n",
    "uniform_pc.paint_uniform_color([1,0,0])\n",
    "pcd_flat.paint_uniform_color([0,0,0])"
   ]
  },
  {
   "cell_type": "code",
   "execution_count": 68,
   "metadata": {},
   "outputs": [],
   "source": [
    "def grow_void(pcd_grid, pcd_target, initial_seed, initial_set=set(), search_radius=0.2, stop_threshold=2, color=[0,0,1]):\n",
    "\n",
    "    #initial search\n",
    "    \n",
    "    k_grid, k_target, idxu, idxf = knn_search_pointclouds(pcd_grid, pcd_target, initial_seed, search_radius)\n",
    "    np.asarray(pcd_grid.colors)[idxu[1:], :] = color\n",
    "    \n",
    "    \n",
    "    old_set = set()\n",
    "    \n",
    "    new_set = set(idxu[1:])\n",
    "    different_elements = new_set-old_set-initial_set\n",
    "    old_set = set(new_set) \n",
    "    \n",
    "    while(different_elements):\n",
    "    \n",
    "                     \n",
    "        \n",
    "        \n",
    "        for index in different_elements:\n",
    "            new_center = pcd_grid.points[index]\n",
    "            k_grid, k_target, idxu, idxf = knn_search_pointclouds(pcd_grid, pcd_target, new_center, search_radius)\n",
    "            \n",
    "            coords_grid = np.asarray(pcd_grid.points)[idxu]\n",
    "            coords_target = np.asarray(pcd_target.points)[idxf]\n",
    "\n",
    "            \n",
    "\n",
    "            idx_up_grid, idx_up_target = get_ids_in_direction(idxu, idxf, coords_grid, coords_target, new_center, \"up\")\n",
    "            idx_down_grid, idx_down_target = get_ids_in_direction(idxu, idxf, coords_grid, coords_target, new_center, \"down\")\n",
    "            idx_left_grid, idx_left_target = get_ids_in_direction(idxu, idxf, coords_grid, coords_target, new_center, \"left\")\n",
    "            idx_right_grid, idx_right_target = get_ids_in_direction(idxu, idxf, coords_grid, coords_target, new_center, \"right\")\n",
    "            \n",
    "            if (len(idx_up_target) < stop_threshold):\n",
    "                new_set.update(idx_up_grid[1:])\n",
    "                np.asarray(pcd_grid.colors)[idx_up_grid[1:], :] = color\n",
    "            \n",
    "            \n",
    "            if (len(idx_down_target) < stop_threshold):\n",
    "                new_set.update(idx_down_grid[1:])\n",
    "                np.asarray(pcd_grid.colors)[idx_down_grid[1:], :] = color\n",
    "            \n",
    "            if (len(idx_left_target) < stop_threshold):\n",
    "                new_set.update(idx_left_grid[1:])\n",
    "                np.asarray(pcd_grid.colors)[idx_left_grid[1:], :] = color\n",
    "            \n",
    "            if (len(idx_right_target) < stop_threshold):\n",
    "                new_set.update(idx_right_grid[1:])\n",
    "                np.asarray(pcd_grid.colors)[idx_right_grid[1:], :] = color\n",
    "        \n",
    "        different_elements = new_set-old_set-initial_set\n",
    "        old_set = set(new_set) \n",
    "        \n",
    "    new_set = new_set.union(initial_set)\n",
    "    \n",
    "    return pcd_grid, new_set\n",
    "        \n",
    "\n"
   ]
  },
  {
   "cell_type": "code",
   "execution_count": 70,
   "metadata": {},
   "outputs": [],
   "source": [
    "known_points = set()\n",
    "for points in midpoints:\n",
    "    color = np.random.rand(3)\n",
    "    res = grow_void(uniform_pc, pcd_flat, points, known_points, color=color)\n",
    "    scan_positions = res[0]\n",
    "    known_points = res[1]\n",
    "    o3d.visualization.draw_geometries([scan_positions, pcd_flat])"
   ]
  },
  {
   "cell_type": "code",
   "execution_count": 63,
   "metadata": {},
   "outputs": [
    {
     "name": "stdout",
     "output_type": "stream",
     "text": [
      "initiatl points set\n"
     ]
    },
    {
     "ename": "KeyboardInterrupt",
     "evalue": "",
     "output_type": "error",
     "traceback": [
      "\u001b[0;31m---------------------------------------------------------------------------\u001b[0m",
      "\u001b[0;31mKeyboardInterrupt\u001b[0m                         Traceback (most recent call last)",
      "Cell \u001b[0;32mIn[63], line 2\u001b[0m\n\u001b[1;32m      1\u001b[0m \u001b[39mfor\u001b[39;00m points \u001b[39min\u001b[39;00m midpoints:\n\u001b[0;32m----> 2\u001b[0m     scan_positions, known_points \u001b[39m=\u001b[39m grow_void(uniform_pc, pcd_flat, points, known_points)\n\u001b[1;32m      3\u001b[0m     o3d\u001b[39m.\u001b[39mvisualization\u001b[39m.\u001b[39mdraw_geometries([scan_positions, pcd_flat])\n",
      "Cell \u001b[0;32mIn[62], line 29\u001b[0m, in \u001b[0;36mgrow_void\u001b[0;34m(pcd_grid, pcd_target, initial_seed, initial_set, search_radius, stop_threshold)\u001b[0m\n\u001b[1;32m     27\u001b[0m \u001b[39mfor\u001b[39;00m index \u001b[39min\u001b[39;00m different_elements:\n\u001b[1;32m     28\u001b[0m     new_center \u001b[39m=\u001b[39m pcd_grid\u001b[39m.\u001b[39mpoints[index]\n\u001b[0;32m---> 29\u001b[0m     k_grid, k_target, idxu, idxf \u001b[39m=\u001b[39m knn_search_pointclouds(pcd_grid, pcd_target, new_center, search_radius)\n\u001b[1;32m     31\u001b[0m     coords_grid \u001b[39m=\u001b[39m np\u001b[39m.\u001b[39masarray(pcd_grid\u001b[39m.\u001b[39mpoints)[idxu]\n\u001b[1;32m     32\u001b[0m     coords_target \u001b[39m=\u001b[39m np\u001b[39m.\u001b[39masarray(pcd_target\u001b[39m.\u001b[39mpoints)[idxf]\n",
      "Cell \u001b[0;32mIn[54], line 6\u001b[0m, in \u001b[0;36mknn_search_pointclouds\u001b[0;34m(pc_grid, pc_target, center, radius)\u001b[0m\n\u001b[1;32m      2\u001b[0m index \u001b[39m=\u001b[39m find_closest_vector_index(center, pc_grid)\n\u001b[1;32m      5\u001b[0m tree_grid \u001b[39m=\u001b[39m o3d\u001b[39m.\u001b[39mgeometry\u001b[39m.\u001b[39mKDTreeFlann(pc_grid)\n\u001b[0;32m----> 6\u001b[0m tree_target \u001b[39m=\u001b[39m o3d\u001b[39m.\u001b[39;49mgeometry\u001b[39m.\u001b[39;49mKDTreeFlann(pc_target)\n\u001b[1;32m      9\u001b[0m [ka, idxa, _] \u001b[39m=\u001b[39m tree_grid\u001b[39m.\u001b[39msearch_radius_vector_3d(pc_grid\u001b[39m.\u001b[39mpoints[index], radius)\n\u001b[1;32m     11\u001b[0m [kb, idxb, _] \u001b[39m=\u001b[39m tree_target\u001b[39m.\u001b[39msearch_radius_vector_3d(pc_grid\u001b[39m.\u001b[39mpoints[index], radius)\n",
      "\u001b[0;31mKeyboardInterrupt\u001b[0m: "
     ]
    }
   ],
   "source": [
    "for points in midpoints:\n",
    "    scan_positions, known_points = grow_void(uniform_pc, pcd_flat, points, known_points)\n",
    "    o3d.visualization.draw_geometries([scan_positions, pcd_flat])"
   ]
  }
 ],
 "metadata": {
  "kernelspec": {
   "display_name": "Python 3",
   "language": "python",
   "name": "python3"
  },
  "language_info": {
   "codemirror_mode": {
    "name": "ipython",
    "version": 3
   },
   "file_extension": ".py",
   "mimetype": "text/x-python",
   "name": "python",
   "nbconvert_exporter": "python",
   "pygments_lexer": "ipython3",
   "version": "3.8.10"
  },
  "orig_nbformat": 4
 },
 "nbformat": 4,
 "nbformat_minor": 2
}
