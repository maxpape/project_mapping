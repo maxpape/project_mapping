{
 "cells": [
  {
   "cell_type": "code",
   "execution_count": 242,
   "metadata": {},
   "outputs": [],
   "source": [
    "import open3d as o3d\n",
    "import numpy as np\n",
    "import multiprocessing as mp\n",
    "from multiprocessing import Pool\n",
    "import copy as cp\n",
    "import open3d.core as o3c\n",
    "import matplotlib.pyplot as plt\n",
    "import pyransac3d as pyrsc\n",
    "import time\n",
    "from scipy.spatial.transform import Rotation\n",
    "from iteration_utilities import deepflatten\n",
    "from mpl_toolkits.mplot3d import Axes3D"
   ]
  },
  {
   "cell_type": "code",
   "execution_count": 243,
   "metadata": {},
   "outputs": [],
   "source": [
    "#load pcd file, filter, downsample\n",
    "#pcdn = o3d.io.read_point_cloud(\"loop.pcd\")\n",
    "voxel_size = 0.4\n",
    "pcd = o3d.io.read_point_cloud(\"final_cropped_ground_align.pcd\")\n",
    "pcd.estimate_normals()\n",
    "cl, ind = pcd.remove_statistical_outlier(nb_neighbors=20,\n",
    "                                                    std_ratio=0.8)\n",
    "\n",
    "pcd = pcd.select_by_index(ind)\n",
    "pcd = pcd.voxel_down_sample(voxel_size=0.1)\n",
    "pcd.estimate_normals()\n",
    "pcd.orient_normals_consistent_tangent_plane(40)\n",
    "#o3d.visualization.draw_geometries([pcd])"
   ]
  },
  {
   "cell_type": "code",
   "execution_count": 244,
   "metadata": {},
   "outputs": [],
   "source": [
    "def filter_by_normal(pcd, hight_variance = 0.01):\n",
    "    ind = []\n",
    "    for i in range(len(pcd.points)):\n",
    "        if ((np.abs(pcd.normals[i][2]) < 0.3) and ((np.abs(pcd.normals[i][0]) > 0.8) or (np.abs(pcd.normals[i][1]) > 0.8))):\n",
    "            pcd.points[i][2] = np.random.rand()*hight_variance\n",
    "        else:\n",
    "            ind.append(i)\n",
    "    result = pcd.select_by_index(ind, invert=True)\n",
    "    return result"
   ]
  },
  {
   "cell_type": "code",
   "execution_count": 245,
   "metadata": {},
   "outputs": [],
   "source": [
    "def are_vectors_perpendicular(v1, v2, threshold):\n",
    "    \n",
    "    # Normalize the vectors to unit length\n",
    "    v1_u = v1 / np.linalg.norm(v1)\n",
    "    v2_u = v2 / np.linalg.norm(v2)\n",
    "    angle = np.arccos(np.clip(np.dot(v1_u, v2_u), -1.0, 1.0))\n",
    "    angle = np.degrees(angle)\n",
    "    \n",
    "    if (180 <= angle < 360):\n",
    "        angle -= 180\n",
    "        \n",
    "    if ((90-threshold) <= angle <= (90+threshold)):\n",
    "        return True\n",
    "    else:\n",
    "        return False\n"
   ]
  },
  {
   "cell_type": "code",
   "execution_count": 246,
   "metadata": {},
   "outputs": [],
   "source": [
    "pcd_flat = filter_by_normal(pcd)\n",
    "\n",
    "#o3d.visualization.draw_geometries([pcd_flat])"
   ]
  },
  {
   "cell_type": "code",
   "execution_count": 247,
   "metadata": {},
   "outputs": [
    {
     "name": "stdout",
     "output_type": "stream",
     "text": [
      "Detected 24 patches\n"
     ]
    }
   ],
   "source": [
    "oboxes = pcd_flat.detect_planar_patches(\n",
    "normal_variance_threshold_deg=50,\n",
    "coplanarity_deg=85,\n",
    "outlier_ratio=0.75,\n",
    "min_plane_edge_length=2,\n",
    "min_num_points=10,\n",
    "search_param=o3d.geometry.KDTreeSearchParamKNN(knn=50))\n",
    "\n",
    "print(\"Detected {} patches\".format(len(oboxes)))\n",
    "\n",
    "geometries = []\n",
    "meshes = []\n",
    "for obox in oboxes:\n",
    "\n",
    "    mesh = o3d.geometry.TriangleMesh.create_from_oriented_bounding_box(obox, scale=[1, 1, 0.0001])\n",
    "    mesh.paint_uniform_color(obox.color)\n",
    "    mesh.compute_triangle_normals()\n",
    "    mesh.compute_vertex_normals()\n",
    "    normals = np.asarray(mesh.vertex_normals)\n",
    "\n",
    "    \n",
    "    meshes.append(mesh)\n",
    "    geometries.append(obox)\n",
    "\n"
   ]
  },
  {
   "cell_type": "code",
   "execution_count": 248,
   "metadata": {},
   "outputs": [],
   "source": [
    "def devide_meshes_hor_ver(meshes):\n",
    "    \n",
    "    first = meshes[0]\n",
    "    tmp = False\n",
    "    ver_patches = []\n",
    "    hor_patches = []\n",
    "    if (are_vectors_perpendicular(first.vertex_normals[0], np.asarray([1,0,0]), 15)):\n",
    "        ver_patches.append(first)\n",
    "    else:\n",
    "        hor_patches.append(first)\n",
    "        tmp = True\n",
    "    \n",
    "\n",
    "    for i in range(1,len(meshes)):\n",
    "        patch_normal = meshes[i].vertex_normals[0]\n",
    "\n",
    "        if (are_vectors_perpendicular(first.vertex_normals[0], patch_normal, 10)):\n",
    "            if (tmp):\n",
    "                \n",
    "                ver_patches.append(meshes[i])\n",
    "            else:\n",
    "                hor_patches.append(meshes[i])\n",
    "        else:\n",
    "            if (tmp):\n",
    "                hor_patches.append(meshes[i])\n",
    "            else:\n",
    "                ver_patches.append(meshes[i])\n",
    "\n",
    "\n",
    "\n",
    "    return hor_patches, ver_patches\n"
   ]
  },
  {
   "cell_type": "code",
   "execution_count": 249,
   "metadata": {},
   "outputs": [
    {
     "name": "stdout",
     "output_type": "stream",
     "text": [
      "6 18\n"
     ]
    }
   ],
   "source": [
    "hor_patches, ver_patches = devide_meshes_hor_ver(meshes)\n",
    "o3d.visualization.draw_geometries(ver_patches)\n",
    "o3d.visualization.draw_geometries(hor_patches)\n",
    "print(len(hor_patches), len(ver_patches))"
   ]
  },
  {
   "cell_type": "code",
   "execution_count": 250,
   "metadata": {},
   "outputs": [],
   "source": [
    "def get_mesh_distance(mesh1, mesh2, orientation):\n",
    "    o = {\n",
    "  \"vertical\": 0,\n",
    "  \"horizontal\": 1}\n",
    "    bb1 = mesh1.get_oriented_bounding_box()\n",
    "    bb1_center = bb1.get_center()[1-o[orientation]]\n",
    "    bb2 = mesh2.get_oriented_bounding_box()\n",
    "    bb2_center = bb2.get_center()[1-o[orientation]]\n",
    "    \n",
    "    \n",
    "    if (bb1_center < 0 < bb2_center):\n",
    "        dist = -bb1_center + bb2_center\n",
    "    elif (bb2_center < 0 < bb1_center):\n",
    "        dist = bb1_center - bb2_center\n",
    "    else:\n",
    "        dist = np.abs(bb1_center-bb2_center)\n",
    "        \n",
    "    return dist"
   ]
  },
  {
   "cell_type": "code",
   "execution_count": 251,
   "metadata": {},
   "outputs": [],
   "source": [
    "def mesh_correspondance(mesh1, mesh2, orientation):\n",
    "    o = {\n",
    "  \"vertical\": 0,\n",
    "  \"horizontal\": 1}\n",
    "    \n",
    "    bb1 = mesh1.get_oriented_bounding_box()\n",
    "    bb2 = mesh2.get_oriented_bounding_box()\n",
    "    bb1_min = bb1.get_min_bound()\n",
    "    bb1_max = bb1.get_max_bound()\n",
    "    bb2_min = bb2.get_min_bound()\n",
    "    bb2_max = bb2.get_max_bound()\n",
    "    bb1_center = bb1.get_center()[o[orientation]]\n",
    "    bb2_center = bb2.get_center()[o[orientation]]\n",
    "    \n",
    "    bb1_center2 = bb1.get_center()[1-o[orientation]]\n",
    "    bb2_center2 = bb2.get_center()[1-o[orientation]]\n",
    "    \n",
    "    if (bb1_center2 < 0 < bb2_center2):\n",
    "        dist = -bb1_center2 + bb2_center2\n",
    "    elif (bb2_center2 < 0 < bb1_center2):\n",
    "        dist = bb1_center2 - bb2_center2\n",
    "    else:\n",
    "        dist = np.abs(bb1_center2-bb2_center2)\n",
    "    \n",
    "    if (dist < 1):\n",
    "        return False\n",
    "    \n",
    "    if (bb1_min[o[orientation]] < bb2_center < bb1_max[o[orientation]]):\n",
    "        return True\n",
    "    if (bb2_min[o[orientation]] < bb1_center < bb2_max[o[orientation]]):\n",
    "\n",
    "        return True\n",
    "    \n",
    "    \n",
    "    return False\n",
    "    "
   ]
  },
  {
   "cell_type": "code",
   "execution_count": 252,
   "metadata": {},
   "outputs": [],
   "source": [
    "def find_nearest_mesh(mesh1, meshes, orientation):\n",
    "    o = {\n",
    "  \"vertical\": 0,\n",
    "  \"horizontal\": 1}\n",
    "    dist = np.Inf\n",
    "    index = 0\n",
    "    \n",
    "    bb1 = mesh1.get_oriented_bounding_box()\n",
    "    bb1_center = bb1.get_center()[1-o[orientation]]\n",
    "    \n",
    "    for mesh2, i in zip(meshes, range(len(meshes))):\n",
    "        \n",
    "        bb2 = mesh2.get_oriented_bounding_box()\n",
    "        bb2_center = bb2.get_center()[1-o[orientation]]\n",
    "        \n",
    "        if not (mesh_correspondance(mesh1, mesh2, orientation)):\n",
    "            continue\n",
    "        \n",
    "        \n",
    "        if (bb1_center < 0 < bb2_center):\n",
    "            dist_tmp = -bb1_center + bb2_center\n",
    "        elif (bb2_center < 0 < bb1_center):\n",
    "            dist_tmp = bb1_center - bb2_center\n",
    "        else:\n",
    "            dist_tmp = np.abs(bb1_center-bb2_center)\n",
    "\n",
    "        if dist_tmp == 0:\n",
    "            continue\n",
    "        if dist_tmp < dist:\n",
    "            dist = dist_tmp\n",
    "            index = i\n",
    "    \n",
    "    return dist, index\n",
    "    \n",
    "    "
   ]
  },
  {
   "cell_type": "code",
   "execution_count": 254,
   "metadata": {},
   "outputs": [],
   "source": [
    "def groud_corresponding_meshes(corr, corr_tuples, patches,  orientation):\n",
    "    \n",
    "    \n",
    "    for i in range(len(patches)):\n",
    "        mesh1 = patches[i]\n",
    "        for j in range(i+1, len(patches)):\n",
    "            mesh2 = patches[j]\n",
    "            nearest_dist, _  = find_nearest_mesh(mesh1, patches, orientation)\n",
    "        \n",
    "      \n",
    "            if (nearest_dist < get_mesh_distance(mesh1, mesh2, orientation)):\n",
    "                continue\n",
    "        \n",
    "            if (mesh_correspondance(mesh1, mesh2, orientation)):\n",
    "                color = np.random.rand(3)\n",
    "                mesh1.paint_uniform_color(color)\n",
    "                mesh2.paint_uniform_color(color)\n",
    "            \n",
    "                corr.append(mesh1)\n",
    "                corr.append(mesh2)\n",
    "                corr_tuples.append((mesh1, mesh2))\n",
    "    return corr, corr_tuples\n"
   ]
  },
  {
   "cell_type": "code",
   "execution_count": 255,
   "metadata": {},
   "outputs": [],
   "source": [
    "\n",
    "\n",
    "corr, corr_tuples = groud_corresponding_meshes([],[],hor_patches, \"horizontal\")\n",
    "\n",
    "corr, corr_tuples = groud_corresponding_meshes(corr, corr_tuples, ver_patches, \"vertical\")\n"
   ]
  },
  {
   "cell_type": "code",
   "execution_count": 256,
   "metadata": {},
   "outputs": [],
   "source": [
    "def create_box_at_point(point):\n",
    "    \n",
    "    box = o3d.geometry.TriangleMesh.create_box(0.1,0.1,0.1)\n",
    "    box.paint_uniform_color([0,1,0])\n",
    "    \n",
    "    box.translate(point, False)\n",
    "    \n",
    "    \n",
    "    return box"
   ]
  },
  {
   "cell_type": "code",
   "execution_count": 257,
   "metadata": {},
   "outputs": [],
   "source": [
    "def find_midpoint_between_planes(plane1, plane2):\n",
    "    center1 = plane1.get_center()\n",
    "    center2 = plane2.get_center()\n",
    "\n",
    "    vec_1_2 = center2 - center1\n",
    "\n",
    "    midpoint = center1 + vec_1_2 / 2\n",
    "    return midpoint"
   ]
  },
  {
   "cell_type": "code",
   "execution_count": 258,
   "metadata": {},
   "outputs": [],
   "source": [
    "#midpoints = []\n",
    "#marker_meshes = []\n",
    "#for tup in corr_tuples:\n",
    "#    midpoint = find_midpoint_between_planes(tup[0], tup[1])\n",
    "#    \n",
    "#    dist = np.inf\n",
    "#    for point in midpoints:\n",
    "#        tmp = np.linalg.norm(midpoint-point)\n",
    "#        if tmp < dist:\n",
    "#            dist = tmp \n",
    "#    print(dist)\n",
    "#    if dist > 1.5:\n",
    "#        midpoints.append(midpoint)\n",
    "#        marker_meshes.append(create_box_at_point(midpoint))\n",
    "#\n",
    "#print(midpoints)\n",
    "#o3d.visualization.draw_geometries(corr + marker_meshes)"
   ]
  },
  {
   "cell_type": "code",
   "execution_count": 271,
   "metadata": {},
   "outputs": [
    {
     "name": "stdout",
     "output_type": "stream",
     "text": [
      "[array([-7.07499635,  5.39886525,  0.00730267]), array([-7.43332267e+00,  4.50392608e+00,  6.71971015e-03]), array([-3.93398394e+01,  3.83754027e-01,  4.80614041e-03]), array([-4.26263079e+01,  6.91182629e-01,  5.51489984e-03]), array([-2.29134496e+01,  2.66680455e-01,  4.99871347e-03]), array([-1.47350283e+01,  8.21848818e-02,  5.26905889e-03]), array([-1.84104219, -0.18987515,  0.00511314]), array([-1.09687860e+01, -2.96888832e-03,  5.35368714e-03]), array([-3.39391230e+01, -2.80626851e+00,  1.59059086e-03]), array([-3.50356682e+01, -3.07202217e+00,  1.95928900e-03])]\n"
     ]
    }
   ],
   "source": [
    "midpoints = []\n",
    "marker_meshes = []\n",
    "\n",
    "def find_midpoints(midpoints, marker_meshes):\n",
    "    \n",
    "    for tup in corr_tuples:\n",
    "        midpoint = find_midpoint_between_planes(tup[0], tup[1])\n",
    "    \n",
    "    \n",
    "        midpoints.append(midpoint)\n",
    "        marker_meshes.append(create_box_at_point(midpoint))\n",
    "    return midpoints, marker_meshes\n",
    "\n",
    "find_midpoints(midpoints, marker_meshes)\n",
    "\n",
    "print(midpoints)\n",
    "o3d.visualization.draw_geometries(corr + marker_meshes)"
   ]
  },
  {
   "cell_type": "code",
   "execution_count": 260,
   "metadata": {},
   "outputs": [],
   "source": [
    "def create_uniform_pc_from_bb(bb_axis, voxel_size, color):\n",
    "    pc = o3d.geometry.PointCloud()\n",
    "    bb = o3d.geometry.OrientedBoundingBox.create_from_axis_aligned_bounding_box(bb_axis)\n",
    "    mesh = o3d.geometry.TriangleMesh.create_from_oriented_bounding_box(bb)\n",
    "    mesh = mesh.paint_uniform_color([0,1,0])\n",
    "    vg = o3d.geometry.VoxelGrid.create_from_triangle_mesh(mesh, voxel_size)\n",
    "    voxels = vg.get_voxels()\n",
    "    grid_indexes = [x.grid_index for x in voxels]\n",
    "    \n",
    "    voxel_centers = [vg.get_voxel_center_coordinate(index) for index in grid_indexes]\n",
    "    \n",
    "    pc.points.extend(o3d.utility.Vector3dVector(voxel_centers))  \n",
    "    pc.paint_uniform_color(color)\n",
    "    return pc\n",
    "\n"
   ]
  },
  {
   "cell_type": "code",
   "execution_count": 261,
   "metadata": {},
   "outputs": [],
   "source": [
    "def hull_to_uniform_pc(hull, voxel_size, color):\n",
    "    pc = o3d.geometry.PointCloud()\n",
    "    \n",
    "    vg = o3d.geometry.VoxelGrid.create_from_triangle_mesh(hull, voxel_size)\n",
    "    voxels = vg.get_voxels()\n",
    "    grid_indexes = [x.grid_index for x in voxels]\n",
    "    \n",
    "    voxel_centers = [vg.get_voxel_center_coordinate(index) for index in grid_indexes]\n",
    "    \n",
    "    pc.points.extend(o3d.utility.Vector3dVector(voxel_centers))  \n",
    "    pc.paint_uniform_color(color)\n",
    "    return pc\n"
   ]
  },
  {
   "cell_type": "code",
   "execution_count": 262,
   "metadata": {},
   "outputs": [],
   "source": [
    "def create_uniform_pc(pcd, voxel_size, color):\n",
    "    pc = o3d.geometry.PointCloud()\n",
    "    \n",
    "    vg = o3d.geometry.VoxelGrid.create_from_point_cloud(pcd, voxel_size)\n",
    "    voxels = vg.get_voxels()\n",
    "    grid_indexes = [x.grid_index for x in voxels]\n",
    "    \n",
    "    voxel_centers = [vg.get_voxel_center_coordinate(index) for index in grid_indexes]\n",
    "    \n",
    "    pc.points.extend(o3d.utility.Vector3dVector(voxel_centers))  \n",
    "    pc.paint_uniform_color(color)\n",
    "    return pc\n"
   ]
  },
  {
   "cell_type": "code",
   "execution_count": 263,
   "metadata": {},
   "outputs": [],
   "source": [
    "#bb = pcd_flat.get_axis_aligned_bounding_box()\n",
    "#bb.color = np.asarray([0,0,1])\n",
    "#uniform_pc = create_uniform_pc_from_bb(bb, 0.2, [1,0,0])\n",
    "hull, _ = pcd_flat.compute_convex_hull()\n",
    "\n",
    "uniform_pc = hull_to_uniform_pc(hull, 0.2, [1,0,0])\n",
    "\n",
    "o3d.visualization.draw_geometries([pcd_flat, uniform_pc, bb])\n",
    "\n",
    "pcd_flat = create_uniform_pc(pcd_flat, 0.1, [0,0,0])\n",
    "o3d.visualization.draw_geometries([pcd_flat])"
   ]
  },
  {
   "cell_type": "code",
   "execution_count": 264,
   "metadata": {},
   "outputs": [],
   "source": [
    "def find_closest_vector_index(input_vector, pc):\n",
    "    # Convert the input vector and vector list to numpy arrays for easier calculations\n",
    "    input_vector = np.array(input_vector)\n",
    "    vector_list = np.asarray(pc.points)\n",
    "\n",
    "    # Calculate the Euclidean distances between the input vector and all vectors in the list\n",
    "    distances = np.linalg.norm(vector_list - input_vector, axis=1)\n",
    "\n",
    "    # Find the index of the vector with the minimum distance\n",
    "    closest_index = np.argmin(distances)\n",
    "\n",
    "    return closest_index"
   ]
  },
  {
   "cell_type": "code",
   "execution_count": 265,
   "metadata": {},
   "outputs": [],
   "source": [
    "def knn_search_pointclouds(tree_grid, tree_target, center, radius):\n",
    "    \n",
    "\n",
    "    [ka, idxa, _] = tree_grid.search_radius_vector_3d(center, radius)\n",
    "    \n",
    "    [kb, idxb, _] = tree_target.search_radius_vector_3d(center, radius)\n",
    "    \n",
    "    return ka, kb, idxa, idxb\n",
    "    "
   ]
  },
  {
   "cell_type": "code",
   "execution_count": 266,
   "metadata": {},
   "outputs": [],
   "source": [
    "def get_ids_in_direction(idx_grid, idx_target, coords_grid, coords_target, center, direction):\n",
    "    \n",
    "   \n",
    "\n",
    "    d = {\n",
    "    \"up\": (1,False),\n",
    "    \"down\": (1,True),\n",
    "    \"left\": (0,True),\n",
    "    \"right\": (0,False)}\n",
    "    \n",
    "    xory = d[direction][0]\n",
    "    smaller = d[direction][1]\n",
    "    \n",
    "    idx_dir_grid = []\n",
    "    idx_dir_target = []\n",
    "    for i in range(len(idx_grid)):\n",
    "        if smaller:\n",
    "            if coords_grid[i][xory] < center[xory]:\n",
    "                idx_dir_grid.append(idx_grid[i])\n",
    "        else:\n",
    "            if coords_grid[i][xory] > center[xory]:\n",
    "                idx_dir_grid.append(idx_grid[i])\n",
    "    \n",
    "    for i in range(len(idx_target)):\n",
    "        if smaller:\n",
    "            if coords_target[i][xory] < center[xory]:\n",
    "                idx_dir_target.append(idx_target[i])\n",
    "        else:\n",
    "            if coords_target[i][xory] > center[xory]:\n",
    "                idx_dir_target.append(idx_target[i])\n",
    "            \n",
    "            \n",
    "    return (idx_dir_grid, idx_dir_target)\n",
    "        "
   ]
  },
  {
   "cell_type": "code",
   "execution_count": 297,
   "metadata": {},
   "outputs": [
    {
     "data": {
      "text/plain": [
       "PointCloud with 4068 points."
      ]
     },
     "execution_count": 297,
     "metadata": {},
     "output_type": "execute_result"
    }
   ],
   "source": [
    "# search multiple iterations until boundary found\n",
    "search_radius = np.ceil(np.sqrt((voxel_size*2)**2+(voxel_size*2)**2)*10000)/10000\n",
    "\n",
    "uniform_pc.paint_uniform_color([1,0,0])\n",
    "pcd_flat.paint_uniform_color([0,0,0])"
   ]
  },
  {
   "cell_type": "code",
   "execution_count": 298,
   "metadata": {},
   "outputs": [],
   "source": [
    "def grow_void(pcd_grid, pcd_target, initial_seed, initial_set=set(), search_radius=0.2, stop_threshold=2, color=[0,0,1]):\n",
    "\n",
    "\n",
    "    tree_grid = o3d.geometry.KDTreeFlann(pcd_grid)\n",
    "    tree_target = o3d.geometry.KDTreeFlann(pcd_target)\n",
    "\n",
    "\n",
    "    #initial search\n",
    "    index = find_closest_vector_index(initial_seed, pcd_grid)\n",
    "    center = pcd_grid.points[index]\n",
    "    k_grid, k_target, idxu, idxf = knn_search_pointclouds(tree_grid, tree_target, center, search_radius)\n",
    "    np.asarray(pcd_grid.colors)[idxu[1:], :] = color\n",
    "    \n",
    "    \n",
    "    old_set = set()\n",
    "    \n",
    "    new_set = set(idxu[1:])\n",
    "    different_elements = new_set-old_set-initial_set\n",
    "    old_set = set(new_set) \n",
    "    \n",
    "    while(different_elements):\n",
    "    \n",
    "                     \n",
    "        \n",
    "        \n",
    "        for index in different_elements:\n",
    "            new_center = pcd_grid.points[index]\n",
    "            k_grid, k_target, idxu, idxf = knn_search_pointclouds(tree_grid, tree_target, new_center, search_radius)\n",
    "            \n",
    "            coords_grid = np.asarray(pcd_grid.points)[idxu]\n",
    "            coords_target = np.asarray(pcd_target.points)[idxf]\n",
    "\n",
    "            \n",
    "\n",
    "            idx_up_grid, idx_up_target = get_ids_in_direction(idxu, idxf, coords_grid, coords_target, new_center, \"up\")\n",
    "            idx_down_grid, idx_down_target = get_ids_in_direction(idxu, idxf, coords_grid, coords_target, new_center, \"down\")\n",
    "            idx_left_grid, idx_left_target = get_ids_in_direction(idxu, idxf, coords_grid, coords_target, new_center, \"left\")\n",
    "            idx_right_grid, idx_right_target = get_ids_in_direction(idxu, idxf, coords_grid, coords_target, new_center, \"right\")\n",
    "            \n",
    "            if (len(idx_up_target) < stop_threshold):\n",
    "                new_set.update(idx_up_grid[1:])\n",
    "                np.asarray(pcd_grid.colors)[idx_up_grid[1:], :] = color\n",
    "            \n",
    "            if (len(idx_down_target) < stop_threshold):\n",
    "                new_set.update(idx_down_grid[1:])\n",
    "                np.asarray(pcd_grid.colors)[idx_down_grid[1:], :] = color\n",
    "            \n",
    "            if (len(idx_left_target) < stop_threshold):\n",
    "                new_set.update(idx_left_grid[1:])\n",
    "                np.asarray(pcd_grid.colors)[idx_left_grid[1:], :] = color\n",
    "            \n",
    "            if (len(idx_right_target) < stop_threshold):\n",
    "                new_set.update(idx_right_grid[1:])\n",
    "                np.asarray(pcd_grid.colors)[idx_right_grid[1:], :] = color\n",
    "        \n",
    "        different_elements = new_set-old_set-initial_set\n",
    "        old_set = set(new_set) \n",
    "        \n",
    "    new_set = new_set.union(initial_set)\n",
    "    \n",
    "    return pcd_grid, new_set\n",
    "        \n",
    "\n"
   ]
  },
  {
   "cell_type": "code",
   "execution_count": 299,
   "metadata": {},
   "outputs": [],
   "source": [
    "def extract_void_area(pcd_grid, pcd_target, midpoints, known_points = set(),  search_radius=1, color=[0,0,1]):\n",
    "    \n",
    "    for points in midpoints:\n",
    "        color = [0,0,1]\n",
    "        void_area, known_points  = grow_void(pcd_grid, pcd_target, points, known_points, search_radius, color=color)\n",
    "        o3d.visualization.draw_geometries([void_area, pcd_flat]+marker_meshes)\n",
    "    return void_area, known_points\n",
    "\n",
    "void_area, known_points = extract_void_area(uniform_pc, pcd_flat, midpoints)\n",
    "o3d.visualization.draw_geometries([void_area, pcd_flat]+marker_meshes)"
   ]
  },
  {
   "cell_type": "code",
   "execution_count": 300,
   "metadata": {},
   "outputs": [],
   "source": [
    "valid_area = uniform_pc.select_by_index(list(known_points))\n",
    "valid_area_voxel = o3d.geometry.VoxelGrid.create_from_point_cloud(valid_area, 0.2)\n",
    "o3d.visualization.draw_geometries([valid_area_voxel, pcd_flat])"
   ]
  },
  {
   "cell_type": "code",
   "execution_count": null,
   "metadata": {},
   "outputs": [],
   "source": []
  }
 ],
 "metadata": {
  "kernelspec": {
   "display_name": "Python 3",
   "language": "python",
   "name": "python3"
  },
  "language_info": {
   "codemirror_mode": {
    "name": "ipython",
    "version": 3
   },
   "file_extension": ".py",
   "mimetype": "text/x-python",
   "name": "python",
   "nbconvert_exporter": "python",
   "pygments_lexer": "ipython3",
   "version": "3.8.10"
  },
  "orig_nbformat": 4
 },
 "nbformat": 4,
 "nbformat_minor": 2
}
