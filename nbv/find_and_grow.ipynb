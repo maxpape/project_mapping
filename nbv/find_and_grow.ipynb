{
 "cells": [
  {
   "cell_type": "code",
   "execution_count": 566,
   "metadata": {},
   "outputs": [],
   "source": [
    "import open3d as o3d\n",
    "import numpy as np\n",
    "import multiprocessing as mp\n",
    "from multiprocessing import Pool\n",
    "import copy as cp\n",
    "import open3d.core as o3c\n",
    "import matplotlib.pyplot as plt\n",
    "import pyransac3d as pyrsc\n",
    "import time\n",
    "import functions\n",
    "from scipy.spatial.transform import Rotation\n",
    "from iteration_utilities import deepflatten\n",
    "from mpl_toolkits.mplot3d import Axes3D"
   ]
  },
  {
   "cell_type": "code",
   "execution_count": 567,
   "metadata": {},
   "outputs": [],
   "source": [
    "#load pcd file, filter, downsample\n",
    "#pcdn = o3d.io.read_point_cloud(\"loop.pcd\")\n",
    "\n",
    "voxel_size = 0.4\n",
    "pcd = o3d.io.read_point_cloud(\"final_cropped_ground_align.pcd\")\n",
    "pcd.estimate_normals()\n",
    "cl, ind = pcd.remove_statistical_outlier(nb_neighbors=20,\n",
    "                                                    std_ratio=0.8)\n",
    "\n",
    "pcd = pcd.select_by_index(ind)\n",
    "pcd = pcd.voxel_down_sample(voxel_size=0.1)\n",
    "pcd.estimate_normals()\n",
    "pcd.orient_normals_consistent_tangent_plane(40)\n",
    "#o3d.visualization.draw_geometries([pcd])"
   ]
  },
  {
   "cell_type": "code",
   "execution_count": 568,
   "metadata": {},
   "outputs": [],
   "source": [
    "pcd_flat = functions.filter_by_normal(pcd)\n",
    "\n",
    "#o3d.visualization.draw_geometries([pcd_flat])"
   ]
  },
  {
   "cell_type": "code",
   "execution_count": 569,
   "metadata": {},
   "outputs": [
    {
     "name": "stdout",
     "output_type": "stream",
     "text": [
      "Detected 24 patches\n"
     ]
    }
   ],
   "source": [
    "oboxes = pcd_flat.detect_planar_patches(\n",
    "normal_variance_threshold_deg=50,\n",
    "coplanarity_deg=85,\n",
    "outlier_ratio=0.75,\n",
    "min_plane_edge_length=2,\n",
    "min_num_points=10,\n",
    "search_param=o3d.geometry.KDTreeSearchParamKNN(knn=50))\n",
    "\n",
    "print(\"Detected {} patches\".format(len(oboxes)))\n",
    "\n",
    "geometries = []\n",
    "meshes = []\n",
    "for obox in oboxes:\n",
    "\n",
    "    mesh = o3d.geometry.TriangleMesh.create_from_oriented_bounding_box(obox, scale=[1, 1, 0.0001])\n",
    "    mesh.paint_uniform_color(obox.color)\n",
    "    mesh.compute_triangle_normals()\n",
    "    mesh.compute_vertex_normals()\n",
    "    normals = np.asarray(mesh.vertex_normals)\n",
    "\n",
    "    \n",
    "    meshes.append(mesh)\n",
    "    geometries.append(obox)\n",
    "\n"
   ]
  },
  {
   "cell_type": "code",
   "execution_count": 570,
   "metadata": {},
   "outputs": [
    {
     "name": "stdout",
     "output_type": "stream",
     "text": [
      "6 18\n"
     ]
    }
   ],
   "source": [
    "hor_patches, ver_patches = devide_meshes_hor_ver(meshes)\n",
    "o3d.visualization.draw_geometries(ver_patches)\n",
    "o3d.visualization.draw_geometries(hor_patches)\n",
    "print(len(hor_patches), len(ver_patches))"
   ]
  },
  {
   "cell_type": "code",
   "execution_count": 571,
   "metadata": {},
   "outputs": [],
   "source": [
    "\n",
    "\n",
    "corr, corr_tuples = group_corresponding_meshes([],[],hor_patches, \"horizontal\")\n",
    "\n",
    "corr, corr_tuples = group_corresponding_meshes(corr, corr_tuples, ver_patches, \"vertical\")\n"
   ]
  },
  {
   "cell_type": "code",
   "execution_count": 572,
   "metadata": {},
   "outputs": [
    {
     "name": "stdout",
     "output_type": "stream",
     "text": [
      "[array([-7.07151553e+00,  5.48340336e+00,  3.84389387e-03]), array([-7.43322789e+00,  4.57257718e+00,  5.30192719e-03]), array([-4.26263094e+01,  6.91031496e-01,  5.47953889e-03]), array([-1.84313939, -0.19252207,  0.00512816]), array([-2.29123088e+01,  2.66933538e-01,  5.32966019e-03]), array([-1.09801688e+01, -2.62486501e-03,  5.30903716e-03]), array([-3.92460838e+01,  3.79474002e-01,  5.04139822e-03]), array([-3.39843344e+01, -2.81458113e+00,  7.14665834e-03]), array([-8.08591727e+00,  5.65995488e+00,  5.51892960e-03]), array([-3.51129990e+01, -3.07914625e+00,  7.27719865e-03])]\n"
     ]
    }
   ],
   "source": [
    "\n",
    "\n",
    "\n",
    "\n",
    "midpoints, marker_meshes = find_midpoints(corr_tuples)\n",
    "\n",
    "print(midpoints)\n",
    "o3d.visualization.draw_geometries(corr + marker_meshes)"
   ]
  },
  {
   "cell_type": "code",
   "execution_count": 573,
   "metadata": {},
   "outputs": [],
   "source": [
    "#bb = pcd_flat.get_axis_aligned_bounding_box()\n",
    "#bb.color = np.asarray([0,0,1])\n",
    "#uniform_pc = create_uniform_pc_from_bb(bb, 0.2, [1,0,0])\n",
    "hull, _ = pcd_flat.compute_convex_hull()\n",
    "\n",
    "uniform_pc = hull_to_uniform_pc(hull, 0.2, [1,0,0])\n",
    "\n",
    "o3d.visualization.draw_geometries([pcd_flat, uniform_pc, bb])\n",
    "\n",
    "pcd_flat = create_uniform_pc(pcd_flat, 0.1, [0,0,0])\n",
    "o3d.visualization.draw_geometries([pcd_flat])"
   ]
  },
  {
   "cell_type": "code",
   "execution_count": 577,
   "metadata": {},
   "outputs": [
    {
     "data": {
      "text/plain": [
       "PointCloud with 4068 points."
      ]
     },
     "execution_count": 577,
     "metadata": {},
     "output_type": "execute_result"
    }
   ],
   "source": [
    "# search multiple iterations until boundary found\n",
    "search_radius = np.ceil(np.sqrt((voxel_size*2)**2+(voxel_size*2)**2)*10000)/10000\n",
    "\n",
    "uniform_pc.paint_uniform_color([1,0,0])\n",
    "pcd_flat.paint_uniform_color([0,0,0])"
   ]
  },
  {
   "cell_type": "code",
   "execution_count": 578,
   "metadata": {},
   "outputs": [],
   "source": [
    "\n",
    "\n",
    "void_area, known_points = extract_void_area(uniform_pc, pcd_flat, midpoints)\n",
    "o3d.visualization.draw_geometries([void_area, pcd_flat]+marker_meshes)"
   ]
  },
  {
   "cell_type": "code",
   "execution_count": 579,
   "metadata": {},
   "outputs": [],
   "source": [
    "valid_area = uniform_pc.select_by_index(list(known_points))\n",
    "valid_area_voxel = o3d.geometry.VoxelGrid.create_from_point_cloud(valid_area, 0.2)\n",
    "o3d.visualization.draw_geometries([valid_area_voxel, pcd_flat])"
   ]
  },
  {
   "cell_type": "code",
   "execution_count": null,
   "metadata": {},
   "outputs": [],
   "source": []
  }
 ],
 "metadata": {
  "kernelspec": {
   "display_name": "Python 3",
   "language": "python",
   "name": "python3"
  },
  "language_info": {
   "codemirror_mode": {
    "name": "ipython",
    "version": 3
   },
   "file_extension": ".py",
   "mimetype": "text/x-python",
   "name": "python",
   "nbconvert_exporter": "python",
   "pygments_lexer": "ipython3",
   "version": "3.8.10"
  },
  "orig_nbformat": 4
 },
 "nbformat": 4,
 "nbformat_minor": 2
}
