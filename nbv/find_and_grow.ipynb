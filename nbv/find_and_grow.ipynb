{
 "cells": [
  {
   "cell_type": "code",
   "execution_count": 526,
   "metadata": {},
   "outputs": [],
   "source": [
    "import open3d as o3d\n",
    "import numpy as np\n",
    "import multiprocessing as mp\n",
    "from multiprocessing import Pool\n",
    "import copy as cp\n",
    "import open3d.core as o3c\n",
    "import matplotlib.pyplot as plt\n",
    "import pyransac3d as pyrsc\n",
    "import time\n",
    "import functions\n",
    "from scipy.spatial.transform import Rotation\n",
    "from iteration_utilities import deepflatten\n",
    "from mpl_toolkits.mplot3d import Axes3D"
   ]
  },
  {
   "cell_type": "code",
   "execution_count": 527,
   "metadata": {},
   "outputs": [],
   "source": [
    "#load pcd file, filter, downsample\n",
    "#pcdn = o3d.io.read_point_cloud(\"loop.pcd\")\n",
    "\n",
    "voxel_size = 0.4\n",
    "pcd = o3d.io.read_point_cloud(\"final_cropped_ground_align.pcd\")\n",
    "pcd.estimate_normals()\n",
    "cl, ind = pcd.remove_statistical_outlier(nb_neighbors=20,\n",
    "                                                    std_ratio=0.8)\n",
    "\n",
    "pcd = pcd.select_by_index(ind)\n",
    "pcd = pcd.voxel_down_sample(voxel_size=0.1)\n",
    "pcd.estimate_normals()\n",
    "pcd.orient_normals_consistent_tangent_plane(40)\n",
    "#o3d.visualization.draw_geometries([pcd])"
   ]
  },
  {
   "cell_type": "code",
   "execution_count": 528,
   "metadata": {},
   "outputs": [],
   "source": [
    "pcd_flat = functions.filter_by_normal(pcd)\n",
    "\n",
    "#o3d.visualization.draw_geometries([pcd_flat])"
   ]
  },
  {
   "cell_type": "code",
   "execution_count": 529,
   "metadata": {},
   "outputs": [
    {
     "name": "stdout",
     "output_type": "stream",
     "text": [
      "Detected 24 patches\n"
     ]
    }
   ],
   "source": [
    "oboxes = pcd_flat.detect_planar_patches(\n",
    "normal_variance_threshold_deg=50,\n",
    "coplanarity_deg=85,\n",
    "outlier_ratio=0.75,\n",
    "min_plane_edge_length=2,\n",
    "min_num_points=10,\n",
    "search_param=o3d.geometry.KDTreeSearchParamKNN(knn=50))\n",
    "\n",
    "print(\"Detected {} patches\".format(len(oboxes)))\n",
    "\n",
    "geometries = []\n",
    "meshes = []\n",
    "for obox in oboxes:\n",
    "\n",
    "    mesh = o3d.geometry.TriangleMesh.create_from_oriented_bounding_box(obox, scale=[1, 1, 0.0001])\n",
    "    mesh.paint_uniform_color(obox.color)\n",
    "    mesh.compute_triangle_normals()\n",
    "    mesh.compute_vertex_normals()\n",
    "    normals = np.asarray(mesh.vertex_normals)\n",
    "\n",
    "    \n",
    "    meshes.append(mesh)\n",
    "    geometries.append(obox)\n",
    "\n"
   ]
  },
  {
   "cell_type": "code",
   "execution_count": 530,
   "metadata": {},
   "outputs": [
    {
     "name": "stdout",
     "output_type": "stream",
     "text": [
      "6 18\n"
     ]
    }
   ],
   "source": [
    "hor_patches, ver_patches = devide_meshes_hor_ver(meshes)\n",
    "o3d.visualization.draw_geometries(ver_patches)\n",
    "o3d.visualization.draw_geometries(hor_patches)\n",
    "print(len(hor_patches), len(ver_patches))"
   ]
  },
  {
   "cell_type": "code",
   "execution_count": 531,
   "metadata": {},
   "outputs": [],
   "source": [
    "\n",
    "\n",
    "corr, corr_tuples = group_corresponding_meshes([],[],hor_patches, \"horizontal\")\n",
    "\n",
    "corr, corr_tuples = group_corresponding_meshes(corr, corr_tuples, ver_patches, \"vertical\")\n"
   ]
  },
  {
   "cell_type": "code",
   "execution_count": 532,
   "metadata": {},
   "outputs": [
    {
     "name": "stdout",
     "output_type": "stream",
     "text": [
      "[array([-1.11795710e+01,  5.40178564e+00,  5.84558413e-03]), array([-5.68762559,  5.1740348 ,  0.00577611]), array([-4.26459772e+01,  6.91534622e-01,  5.61329684e-03]), array([-3.93595241e+01,  3.83905978e-01,  5.37125959e-03]), array([-1.47350316e+01,  8.20477716e-02,  4.88058638e-03]), array([-2.29122973e+01,  2.67390782e-01,  5.20713948e-03]), array([-1.09587030e+01, -3.09172778e-03,  4.86511315e-03]), array([-3.39670614e+01, -2.81349493e+00,  1.83197874e-04]), array([-3.50376591e+01, -3.07940197e+00,  2.00021513e-04])]\n"
     ]
    }
   ],
   "source": [
    "\n",
    "\n",
    "\n",
    "\n",
    "midpoints, marker_meshes = find_midpoints(corr_tuples)\n",
    "\n",
    "print(midpoints)\n",
    "o3d.visualization.draw_geometries(corr + marker_meshes)"
   ]
  },
  {
   "cell_type": "code",
   "execution_count": 533,
   "metadata": {},
   "outputs": [],
   "source": [
    "#bb = pcd_flat.get_axis_aligned_bounding_box()\n",
    "#bb.color = np.asarray([0,0,1])\n",
    "#uniform_pc = create_uniform_pc_from_bb(bb, 0.2, [1,0,0])\n",
    "hull, _ = pcd_flat.compute_convex_hull()\n",
    "\n",
    "uniform_pc = hull_to_uniform_pc(hull, 0.2, [1,0,0])\n",
    "\n",
    "o3d.visualization.draw_geometries([pcd_flat, uniform_pc, bb])\n",
    "\n",
    "pcd_flat = create_uniform_pc(pcd_flat, 0.1, [0,0,0])\n",
    "o3d.visualization.draw_geometries([pcd_flat])"
   ]
  },
  {
   "cell_type": "code",
   "execution_count": 534,
   "metadata": {},
   "outputs": [
    {
     "data": {
      "text/plain": [
       "PointCloud with 4068 points."
      ]
     },
     "execution_count": 534,
     "metadata": {},
     "output_type": "execute_result"
    }
   ],
   "source": [
    "# search multiple iterations until boundary found\n",
    "search_radius = np.ceil(np.sqrt((voxel_size*2)**2+(voxel_size*2)**2)*10000)/10000\n",
    "\n",
    "uniform_pc.paint_uniform_color([1,0,0])\n",
    "pcd_flat.paint_uniform_color([0,0,0])"
   ]
  },
  {
   "cell_type": "code",
   "execution_count": 535,
   "metadata": {},
   "outputs": [],
   "source": [
    "def grow_void(pcd_grid, pcd_target, initial_seed, initial_set=set(), search_radius=0.2, stop_threshold=2, color=[0,0,1]):\n",
    "\n",
    "\n",
    "    tree_grid = o3d.geometry.KDTreeFlann(pcd_grid)\n",
    "    tree_target = o3d.geometry.KDTreeFlann(pcd_target)\n",
    "\n",
    "\n",
    "    #initial search\n",
    "    index = find_closest_vector_index(initial_seed, pcd_grid)\n",
    "    center = pcd_grid.points[index]\n",
    "    k_grid, k_target, idxu, idxf = knn_search_pointclouds(tree_grid, tree_target, center, search_radius)\n",
    "    np.asarray(pcd_grid.colors)[idxu[1:], :] = color\n",
    "    \n",
    "    \n",
    "    old_set = set()\n",
    "    \n",
    "    new_set = set(idxu[1:])\n",
    "    different_elements = new_set-old_set-initial_set\n",
    "    old_set = set(new_set) \n",
    "    \n",
    "    while(different_elements):\n",
    "    \n",
    "                     \n",
    "        \n",
    "        \n",
    "        for index in different_elements:\n",
    "            new_center = pcd_grid.points[index]\n",
    "            k_grid, k_target, idxu, idxf = knn_search_pointclouds(tree_grid, tree_target, new_center, search_radius)\n",
    "            \n",
    "            coords_grid = np.asarray(pcd_grid.points)[idxu]\n",
    "            coords_target = np.asarray(pcd_target.points)[idxf]\n",
    "\n",
    "            \n",
    "\n",
    "            idx_up_grid, idx_up_target = get_ids_in_direction(idxu, idxf, coords_grid, coords_target, new_center, \"up\")\n",
    "            idx_down_grid, idx_down_target = get_ids_in_direction(idxu, idxf, coords_grid, coords_target, new_center, \"down\")\n",
    "            idx_left_grid, idx_left_target = get_ids_in_direction(idxu, idxf, coords_grid, coords_target, new_center, \"left\")\n",
    "            idx_right_grid, idx_right_target = get_ids_in_direction(idxu, idxf, coords_grid, coords_target, new_center, \"right\")\n",
    "            \n",
    "            if (len(idx_up_target) < stop_threshold):\n",
    "                new_set.update(idx_up_grid[1:])\n",
    "                np.asarray(pcd_grid.colors)[idx_up_grid[1:], :] = color\n",
    "            \n",
    "            if (len(idx_down_target) < stop_threshold):\n",
    "                new_set.update(idx_down_grid[1:])\n",
    "                np.asarray(pcd_grid.colors)[idx_down_grid[1:], :] = color\n",
    "            \n",
    "            if (len(idx_left_target) < stop_threshold):\n",
    "                new_set.update(idx_left_grid[1:])\n",
    "                np.asarray(pcd_grid.colors)[idx_left_grid[1:], :] = color\n",
    "            \n",
    "            if (len(idx_right_target) < stop_threshold):\n",
    "                new_set.update(idx_right_grid[1:])\n",
    "                np.asarray(pcd_grid.colors)[idx_right_grid[1:], :] = color\n",
    "        \n",
    "        different_elements = new_set-old_set-initial_set\n",
    "        old_set = set(new_set) \n",
    "        \n",
    "    new_set = new_set.union(initial_set)\n",
    "    \n",
    "    return pcd_grid, new_set\n",
    "        \n",
    "\n"
   ]
  },
  {
   "cell_type": "code",
   "execution_count": 536,
   "metadata": {},
   "outputs": [],
   "source": [
    "def extract_void_area(pcd_grid, pcd_target, midpoints, known_points = set(),  search_radius=1, color=[0,0,1]):\n",
    "    \n",
    "    for points in midpoints:\n",
    "        color = [0,0,1]\n",
    "        void_area, known_points  = grow_void(pcd_grid, pcd_target, points, known_points, search_radius, color=color)\n",
    "        #o3d.visualization.draw_geometries([void_area, pcd_flat]+marker_meshes)\n",
    "    return void_area, known_points\n",
    "\n",
    "void_area, known_points = extract_void_area(uniform_pc, pcd_flat, midpoints)\n",
    "o3d.visualization.draw_geometries([void_area, pcd_flat]+marker_meshes)"
   ]
  },
  {
   "cell_type": "code",
   "execution_count": 537,
   "metadata": {},
   "outputs": [],
   "source": [
    "valid_area = uniform_pc.select_by_index(list(known_points))\n",
    "valid_area_voxel = o3d.geometry.VoxelGrid.create_from_point_cloud(valid_area, 0.2)\n",
    "o3d.visualization.draw_geometries([valid_area_voxel, pcd_flat])"
   ]
  },
  {
   "cell_type": "code",
   "execution_count": null,
   "metadata": {},
   "outputs": [],
   "source": []
  }
 ],
 "metadata": {
  "kernelspec": {
   "display_name": "Python 3",
   "language": "python",
   "name": "python3"
  },
  "language_info": {
   "codemirror_mode": {
    "name": "ipython",
    "version": 3
   },
   "file_extension": ".py",
   "mimetype": "text/x-python",
   "name": "python",
   "nbconvert_exporter": "python",
   "pygments_lexer": "ipython3",
   "version": "3.8.10"
  },
  "orig_nbformat": 4
 },
 "nbformat": 4,
 "nbformat_minor": 2
}
