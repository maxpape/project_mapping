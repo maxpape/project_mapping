{
 "cells": [
  {
   "cell_type": "code",
   "execution_count": 41,
   "metadata": {},
   "outputs": [],
   "source": [
    "import open3d as o3d\n",
    "import numpy as np\n",
    "import multiprocessing as mp\n",
    "from multiprocessing import Pool\n",
    "import copy as cp\n",
    "import open3d.core as o3c\n",
    "import matplotlib.pyplot as plt\n",
    "import pyransac3d as pyrsc\n",
    "import time\n",
    "from scipy.spatial.transform import Rotation\n",
    "from iteration_utilities import deepflatten\n",
    "from mpl_toolkits.mplot3d import Axes3D"
   ]
  },
  {
   "cell_type": "code",
   "execution_count": 42,
   "metadata": {},
   "outputs": [],
   "source": [
    "#load pcd file, filter, downsample\n",
    "#pcdn = o3d.io.read_point_cloud(\"loop.pcd\")\n",
    "voxel_size = 0.4\n",
    "pcdn = o3d.io.read_point_cloud(\"final_cropped_ground_align.pcd\")\n",
    "pcdn.estimate_normals()\n",
    "cl, ind = pcdn.remove_statistical_outlier(nb_neighbors=20,\n",
    "                                                    std_ratio=0.8)\n",
    "\n",
    "pcd = pcdn.select_by_index(ind)\n",
    "pcd = pcd.voxel_down_sample(voxel_size=0.1)\n",
    "pcd.estimate_normals()\n",
    "pcd.orient_normals_consistent_tangent_plane(40)\n",
    "#o3d.visualization.draw_geometries([pcd])"
   ]
  },
  {
   "cell_type": "code",
   "execution_count": 43,
   "metadata": {},
   "outputs": [],
   "source": [
    "def filter_by_normal(pcd):\n",
    "    ind = []\n",
    "    for i in range(len(pcd.points)):\n",
    "        if ((np.abs(pcd.normals[i][2]) < 0.3) and ((np.abs(pcd.normals[i][0]) > 0.8) or (np.abs(pcd.normals[i][1]) > 0.8))):\n",
    "            pcd.points[i][2] = np.random.rand()*0.01\n",
    "            pass\n",
    "        else:\n",
    "            ind.append(i)\n",
    "    result = pcd.select_by_index(ind, invert=True)\n",
    "    return result"
   ]
  },
  {
   "cell_type": "code",
   "execution_count": 44,
   "metadata": {},
   "outputs": [],
   "source": [
    "def are_vectors_perpendicular(v1, v2, threshold):\n",
    "    \n",
    "    # Normalize the vectors to unit length\n",
    "    v1_u = v1 / np.linalg.norm(v1)\n",
    "    v2_u = v2 / np.linalg.norm(v2)\n",
    "    angle = np.arccos(np.clip(np.dot(v1_u, v2_u), -1.0, 1.0))\n",
    "    angle = np.degrees(angle)\n",
    "    \n",
    "    if (180 <= angle < 360):\n",
    "        angle -= 180\n",
    "        \n",
    "    if ((90-threshold) <= angle <= (90+threshold)):\n",
    "        return True\n",
    "    else:\n",
    "        return False\n"
   ]
  },
  {
   "cell_type": "code",
   "execution_count": 45,
   "metadata": {},
   "outputs": [],
   "source": [
    "pcd_flat = filter_by_normal(pcd)\n",
    "\n",
    "#o3d.visualization.draw_geometries([pcd_flat])"
   ]
  },
  {
   "cell_type": "code",
   "execution_count": 46,
   "metadata": {},
   "outputs": [
    {
     "name": "stdout",
     "output_type": "stream",
     "text": [
      "Detected 23 patches\n"
     ]
    }
   ],
   "source": [
    "oboxes = pcd_flat.detect_planar_patches(\n",
    "normal_variance_threshold_deg=50,\n",
    "coplanarity_deg=85,\n",
    "outlier_ratio=0.75,\n",
    "min_plane_edge_length=2,\n",
    "min_num_points=10,\n",
    "search_param=o3d.geometry.KDTreeSearchParamKNN(knn=50))\n",
    "\n",
    "print(\"Detected {} patches\".format(len(oboxes)))\n",
    "\n",
    "geometries = []\n",
    "meshes = []\n",
    "for obox in oboxes:\n",
    "\n",
    "    mesh = o3d.geometry.TriangleMesh.create_from_oriented_bounding_box(obox, scale=[1, 1, 0.0001])\n",
    "    mesh.paint_uniform_color(obox.color)\n",
    "    mesh.compute_triangle_normals()\n",
    "    mesh.compute_vertex_normals()\n",
    "    normals = np.asarray(mesh.vertex_normals)\n",
    "\n",
    "    \n",
    "    meshes.append(mesh)\n",
    "    geometries.append(obox)\n",
    "\n",
    "#o3d.visualization.draw_geometries(geometries + [boundarys.to_legacy()])\n",
    "#pcd_flat = pcd_flat.voxel_down_sample(voxel_size=0.2)\n",
    "#o3d.visualization.draw_geometries(meshes+[pcd_flat])\n",
    "#for obox, mesh in zip(oboxes, meshes):\n",
    " #   print(obox.extent)\n",
    "  #  print(mesh.vertex_normals[0])"
   ]
  },
  {
   "cell_type": "code",
   "execution_count": 47,
   "metadata": {},
   "outputs": [],
   "source": [
    "def devide_meshes_hor_ver(meshes):\n",
    "    \n",
    "    first = meshes[0]\n",
    "    tmp = False\n",
    "    ver_patches = []\n",
    "    hor_patches = []\n",
    "    if (are_vectors_perpendicular(first.vertex_normals[0], np.asarray([1,0,0]), 15)):\n",
    "        ver_patches.append(first)\n",
    "    else:\n",
    "        hor_patches.append(first)\n",
    "        tmp = True\n",
    "    \n",
    "\n",
    "    for i in range(1,len(meshes)):\n",
    "        patch_normal = meshes[i].vertex_normals[0]\n",
    "\n",
    "        if (are_vectors_perpendicular(first.vertex_normals[0], patch_normal, 10)):\n",
    "            if (tmp):\n",
    "                \n",
    "                ver_patches.append(meshes[i])\n",
    "            else:\n",
    "                hor_patches.append(meshes[i])\n",
    "        else:\n",
    "            if (tmp):\n",
    "                hor_patches.append(meshes[i])\n",
    "            else:\n",
    "                ver_patches.append(meshes[i])\n",
    "\n",
    "\n",
    "\n",
    "    return hor_patches, ver_patches\n"
   ]
  },
  {
   "cell_type": "code",
   "execution_count": 48,
   "metadata": {},
   "outputs": [
    {
     "name": "stdout",
     "output_type": "stream",
     "text": [
      "5 18\n"
     ]
    }
   ],
   "source": [
    "hor_patches, ver_patches = devide_meshes_hor_ver(meshes)\n",
    "o3d.visualization.draw_geometries(ver_patches)\n",
    "o3d.visualization.draw_geometries(hor_patches)\n",
    "print(len(hor_patches), len(ver_patches))"
   ]
  },
  {
   "cell_type": "code",
   "execution_count": 49,
   "metadata": {},
   "outputs": [],
   "source": [
    "def get_mesh_distance(mesh1, mesh2, orientation):\n",
    "    o = {\n",
    "  \"vertical\": 0,\n",
    "  \"horizontal\": 1}\n",
    "    bb1 = mesh1.get_oriented_bounding_box()\n",
    "    bb1_center = bb1.get_center()[1-o[orientation]]\n",
    "    bb2 = mesh2.get_oriented_bounding_box()\n",
    "    bb2_center = bb2.get_center()[1-o[orientation]]\n",
    "    \n",
    "    \n",
    "    if (bb1_center < 0 < bb2_center):\n",
    "        dist = -bb1_center + bb2_center\n",
    "    elif (bb2_center < 0 < bb1_center):\n",
    "        dist = bb1_center - bb2_center\n",
    "    else:\n",
    "        dist = np.abs(bb1_center-bb2_center)\n",
    "        \n",
    "    return dist"
   ]
  },
  {
   "cell_type": "code",
   "execution_count": 50,
   "metadata": {},
   "outputs": [],
   "source": [
    "def find_nearest_mesh(mesh1, meshes, orientation):\n",
    "    o = {\n",
    "  \"vertical\": 0,\n",
    "  \"horizontal\": 1}\n",
    "    dist = np.Inf\n",
    "    index = 0\n",
    "    \n",
    "    bb1 = mesh1.get_oriented_bounding_box()\n",
    "    bb1_center = bb1.get_center()[1-o[orientation]]\n",
    "    \n",
    "    for mesh2, i in zip(meshes, range(len(meshes))):\n",
    "        \n",
    "        bb2 = mesh2.get_oriented_bounding_box()\n",
    "        bb2_center = bb2.get_center()[1-o[orientation]]\n",
    "        \n",
    "        if not (mesh_correspondance2(mesh1, mesh2, orientation)):\n",
    "            continue\n",
    "        \n",
    "        \n",
    "        if (bb1_center < 0 < bb2_center):\n",
    "            dist_tmp = -bb1_center + bb2_center\n",
    "        elif (bb2_center < 0 < bb1_center):\n",
    "            dist_tmp = bb1_center - bb2_center\n",
    "        else:\n",
    "            dist_tmp = np.abs(bb1_center-bb2_center)\n",
    "\n",
    "        if dist_tmp == 0:\n",
    "            continue\n",
    "        if dist_tmp < dist:\n",
    "            dist = dist_tmp\n",
    "            index = i\n",
    "    \n",
    "    return dist, index\n",
    "    \n",
    "    "
   ]
  },
  {
   "cell_type": "code",
   "execution_count": 51,
   "metadata": {},
   "outputs": [],
   "source": [
    "def mesh_correspondance2(mesh1, mesh2, orientation):\n",
    "    o = {\n",
    "  \"vertical\": 0,\n",
    "  \"horizontal\": 1}\n",
    "    \n",
    "    bb1 = mesh1.get_oriented_bounding_box()\n",
    "    bb2 = mesh2.get_oriented_bounding_box()\n",
    "    bb1_min = bb1.get_min_bound()\n",
    "    bb1_max = bb1.get_max_bound()\n",
    "    bb2_min = bb2.get_min_bound()\n",
    "    bb2_max = bb2.get_max_bound()\n",
    "    bb1_center = bb1.get_center()[o[orientation]]\n",
    "    bb2_center = bb2.get_center()[o[orientation]]\n",
    "    \n",
    "    bb1_center2 = bb1.get_center()[1-o[orientation]]\n",
    "    bb2_center2 = bb2.get_center()[1-o[orientation]]\n",
    "    \n",
    "    if (bb1_center2 < 0 < bb2_center2):\n",
    "        dist = -bb1_center2 + bb2_center2\n",
    "    elif (bb2_center2 < 0 < bb1_center2):\n",
    "        dist = bb1_center2 - bb2_center2\n",
    "    else:\n",
    "        dist = np.abs(bb1_center2-bb2_center2)\n",
    "    \n",
    "    if (dist < 1):\n",
    "        return False\n",
    "    #print(\"dist between planes: \", np.abs(bb1_center-bb2_center))\n",
    "    if (bb1_min[o[orientation]] < bb2_center < bb1_max[o[orientation]]):\n",
    "        return True\n",
    "    if (bb2_min[o[orientation]] < bb1_center < bb2_max[o[orientation]]):\n",
    "\n",
    "        return True\n",
    "    \n",
    "    \n",
    "    return False\n",
    "    "
   ]
  },
  {
   "cell_type": "code",
   "execution_count": 52,
   "metadata": {},
   "outputs": [],
   "source": [
    "corr = []\n",
    "corr_tuples = []\n",
    "    \n",
    "for i in range(len(hor_patches)):\n",
    "    mesh1 = hor_patches[i]\n",
    "    for j in range(i+1, len(hor_patches)):\n",
    "        mesh2 = hor_patches[j]\n",
    "        nearest_dist, _  = find_nearest_mesh(mesh1, hor_patches, \"horizontal\")\n",
    "        \n",
    "      \n",
    "        if (nearest_dist < get_mesh_distance(mesh1, mesh2, \"horizontal\")):\n",
    "            continue\n",
    "        \n",
    "        if (mesh_correspondance2(mesh1, mesh2, \"horizontal\")):\n",
    "            color = np.random.rand(3)\n",
    "            mesh1.paint_uniform_color(color)\n",
    "            mesh2.paint_uniform_color(color)\n",
    "            \n",
    "            corr.append(mesh1)\n",
    "            corr.append(mesh2)\n",
    "            corr_tuples.append((mesh1, mesh2))\n",
    "o3d.visualization.draw_geometries(corr)"
   ]
  },
  {
   "cell_type": "code",
   "execution_count": 53,
   "metadata": {},
   "outputs": [],
   "source": [
    "\n",
    "    \n",
    "for i in range(len(ver_patches)):\n",
    "    mesh1 = ver_patches[i]\n",
    "    for j in range(i+1, len(ver_patches)):\n",
    "        mesh2 = ver_patches[j]\n",
    "        \n",
    "        nearest_dist, _  = find_nearest_mesh(mesh1, ver_patches, \"vertical\")\n",
    "        \n",
    "        \n",
    "        if (nearest_dist < get_mesh_distance(mesh1, mesh2, \"vertical\")):\n",
    "            \n",
    "            continue\n",
    "            \n",
    "        \n",
    "        \n",
    "        if (mesh_correspondance2(mesh1, mesh2, \"vertical\")):\n",
    "            \n",
    "            \n",
    "            color = np.random.rand(3)\n",
    "            mesh1.paint_uniform_color(color)\n",
    "            mesh2.paint_uniform_color(color)\n",
    "            corr.append(mesh1)\n",
    "            corr.append(mesh2)\n",
    "            corr_tuples.append((mesh1, mesh2))\n",
    "\n",
    "o3d.visualization.draw_geometries(corr)"
   ]
  },
  {
   "cell_type": "code",
   "execution_count": 54,
   "metadata": {},
   "outputs": [],
   "source": [
    "def create_box_at_point(point):\n",
    "    \n",
    "    box = o3d.geometry.TriangleMesh.create_box(0.1,0.1,0.1)\n",
    "    box.paint_uniform_color([0,1,0])\n",
    "    \n",
    "    box.translate(point, False)\n",
    "    \n",
    "    \n",
    "    return box"
   ]
  },
  {
   "cell_type": "code",
   "execution_count": 55,
   "metadata": {},
   "outputs": [],
   "source": [
    "def find_midpoint_between_planes(plane1, plane2):\n",
    "    center1 = plane1.get_center()\n",
    "    center2 = plane2.get_center()\n",
    "\n",
    "    vec_1_2 = center2 - center1\n",
    "\n",
    "    midpoint = center1 + vec_1_2 / 2\n",
    "    return midpoint"
   ]
  },
  {
   "cell_type": "code",
   "execution_count": 56,
   "metadata": {},
   "outputs": [
    {
     "name": "stdout",
     "output_type": "stream",
     "text": [
      "inf\n",
      "35.41870373254253\n",
      "3.3008125682469465\n",
      "16.090397206460793\n",
      "5.839721420269551\n",
      "7.388483537826838\n",
      "6.27426566758282\n",
      "1.1254800181765425\n",
      "[array([-7.42891452e+00,  4.64421241e+00,  4.71811016e-03]), array([-4.26263153e+01,  6.91042302e-01,  5.49991011e-03]), array([-3.93398682e+01,  3.83424106e-01,  5.22602433e-03]), array([-2.29123216e+01,  2.66429213e-01,  5.29718615e-03]), array([-1.09649731e+01, -3.22083424e-03,  5.18669777e-03]), array([-1.84121935, -0.18976643,  0.0052236 ]), array([-3.39408973e+01, -2.81306091e+00,  2.69526797e-03])]\n"
     ]
    }
   ],
   "source": [
    "midpoints = []\n",
    "marker_meshes = []\n",
    "for tup in corr_tuples:\n",
    "    midpoint = find_midpoint_between_planes(tup[0], tup[1])\n",
    "    \n",
    "    dist = np.inf\n",
    "    for point in midpoints:\n",
    "        tmp = np.linalg.norm(midpoint-point)\n",
    "        if tmp < dist:\n",
    "            dist = tmp \n",
    "    print(dist)\n",
    "    if dist > 1.5:\n",
    "        midpoints.append(midpoint)\n",
    "        marker_meshes.append(create_box_at_point(midpoint))\n",
    "\n",
    "print(midpoints)\n",
    "o3d.visualization.draw_geometries(corr + marker_meshes)"
   ]
  },
  {
   "cell_type": "code",
   "execution_count": 57,
   "metadata": {},
   "outputs": [
    {
     "name": "stdout",
     "output_type": "stream",
     "text": [
      "[array([-7.42891452e+00,  4.64421241e+00,  4.71811016e-03]), array([-4.26263153e+01,  6.91042302e-01,  5.49991011e-03]), array([-3.93398682e+01,  3.83424106e-01,  5.22602433e-03]), array([-2.29123216e+01,  2.66429213e-01,  5.29718615e-03]), array([-1.09649731e+01, -3.22083424e-03,  5.18669777e-03]), array([-1.84121935, -0.18976643,  0.0052236 ]), array([-3.39408973e+01, -2.81306091e+00,  2.69526797e-03]), array([-3.50346355e+01, -3.07846957e+00,  2.34597752e-03])]\n"
     ]
    }
   ],
   "source": [
    "midpoints = []\n",
    "marker_meshes = []\n",
    "for tup in corr_tuples:\n",
    "    midpoint = find_midpoint_between_planes(tup[0], tup[1])\n",
    "    \n",
    "    \n",
    "    midpoints.append(midpoint)\n",
    "    marker_meshes.append(create_box_at_point(midpoint))\n",
    "\n",
    "print(midpoints)\n",
    "o3d.visualization.draw_geometries(corr + marker_meshes)"
   ]
  },
  {
   "cell_type": "code",
   "execution_count": 58,
   "metadata": {},
   "outputs": [],
   "source": [
    "def create_uniform_pc_from_bb(bb_axis, voxel_size, color):\n",
    "    pc = o3d.geometry.PointCloud()\n",
    "    bb = o3d.geometry.OrientedBoundingBox.create_from_axis_aligned_bounding_box(bb_axis)\n",
    "    mesh = o3d.geometry.TriangleMesh.create_from_oriented_bounding_box(bb)\n",
    "    mesh = mesh.paint_uniform_color([0,1,0])\n",
    "    vg = o3d.geometry.VoxelGrid.create_from_triangle_mesh(mesh, voxel_size)\n",
    "    voxels = vg.get_voxels()\n",
    "    grid_indexes = [x.grid_index for x in voxels]\n",
    "    \n",
    "    voxel_centers = [vg.get_voxel_center_coordinate(index) for index in grid_indexes]\n",
    "    \n",
    "    pc.points.extend(o3d.utility.Vector3dVector(voxel_centers))  \n",
    "    pc.paint_uniform_color(color)\n",
    "    return pc\n",
    "\n"
   ]
  },
  {
   "cell_type": "code",
   "execution_count": 59,
   "metadata": {},
   "outputs": [],
   "source": [
    "def hull_to_uniform_pc(hull, voxel_size, color):\n",
    "    pc = o3d.geometry.PointCloud()\n",
    "    \n",
    "    vg = o3d.geometry.VoxelGrid.create_from_triangle_mesh(hull, voxel_size)\n",
    "    voxels = vg.get_voxels()\n",
    "    grid_indexes = [x.grid_index for x in voxels]\n",
    "    \n",
    "    voxel_centers = [vg.get_voxel_center_coordinate(index) for index in grid_indexes]\n",
    "    \n",
    "    pc.points.extend(o3d.utility.Vector3dVector(voxel_centers))  \n",
    "    pc.paint_uniform_color(color)\n",
    "    return pc\n"
   ]
  },
  {
   "cell_type": "code",
   "execution_count": 60,
   "metadata": {},
   "outputs": [],
   "source": [
    "def create_uniform_pc(pcd, voxel_size, color):\n",
    "    pc = o3d.geometry.PointCloud()\n",
    "    \n",
    "    vg = o3d.geometry.VoxelGrid.create_from_point_cloud(pcd, voxel_size)\n",
    "    voxels = vg.get_voxels()\n",
    "    grid_indexes = [x.grid_index for x in voxels]\n",
    "    \n",
    "    voxel_centers = [vg.get_voxel_center_coordinate(index) for index in grid_indexes]\n",
    "    \n",
    "    pc.points.extend(o3d.utility.Vector3dVector(voxel_centers))  \n",
    "    pc.paint_uniform_color(color)\n",
    "    return pc\n"
   ]
  },
  {
   "cell_type": "code",
   "execution_count": 61,
   "metadata": {},
   "outputs": [],
   "source": [
    "#bb = pcd_flat.get_axis_aligned_bounding_box()\n",
    "#bb.color = np.asarray([0,0,1])\n",
    "#uniform_pc = create_uniform_pc_from_bb(bb, 0.2, [1,0,0])\n",
    "hull, _ = pcd_flat.compute_convex_hull()\n",
    "\n",
    "uniform_pc = hull_to_uniform_pc(hull, 0.2, [1,0,0])\n",
    "\n",
    "o3d.visualization.draw_geometries([pcd_flat, uniform_pc, bb])\n",
    "\n",
    "pcd_flat = create_uniform_pc(pcd_flat, 0.1, [0,0,0])\n",
    "o3d.visualization.draw_geometries([pcd_flat])"
   ]
  },
  {
   "cell_type": "code",
   "execution_count": 62,
   "metadata": {},
   "outputs": [],
   "source": [
    "def find_closest_vector_index(input_vector, pc):\n",
    "    # Convert the input vector and vector list to numpy arrays for easier calculations\n",
    "    input_vector = np.array(input_vector)\n",
    "    vector_list = np.asarray(pc.points)\n",
    "\n",
    "    # Calculate the Euclidean distances between the input vector and all vectors in the list\n",
    "    distances = np.linalg.norm(vector_list - input_vector, axis=1)\n",
    "\n",
    "    # Find the index of the vector with the minimum distance\n",
    "    closest_index = np.argmin(distances)\n",
    "\n",
    "    return closest_index"
   ]
  },
  {
   "cell_type": "code",
   "execution_count": 63,
   "metadata": {},
   "outputs": [],
   "source": [
    "def knn_search_pointclouds(tree_grid, tree_target, center, radius):\n",
    "    \n",
    "\n",
    "    [ka, idxa, _] = tree_grid.search_radius_vector_3d(center, radius)\n",
    "    \n",
    "    [kb, idxb, _] = tree_target.search_radius_vector_3d(center, radius)\n",
    "    \n",
    "    return ka, kb, idxa, idxb\n",
    "    "
   ]
  },
  {
   "cell_type": "code",
   "execution_count": 64,
   "metadata": {},
   "outputs": [],
   "source": [
    "def get_ids_in_direction(idx_grid, idx_target, coords_grid, coords_target, center, direction):\n",
    "    \n",
    "   \n",
    "\n",
    "    d = {\n",
    "    \"up\": (1,False),\n",
    "    \"down\": (1,True),\n",
    "    \"left\": (0,True),\n",
    "    \"right\": (0,False)}\n",
    "    \n",
    "    xory = d[direction][0]\n",
    "    smaller = d[direction][1]\n",
    "    \n",
    "    idx_dir_grid = []\n",
    "    idx_dir_target = []\n",
    "    for i in range(len(idx_grid)):\n",
    "        if smaller:\n",
    "            if coords_grid[i][xory] < center[xory]:\n",
    "                idx_dir_grid.append(idx_grid[i])\n",
    "        else:\n",
    "            if coords_grid[i][xory] > center[xory]:\n",
    "                idx_dir_grid.append(idx_grid[i])\n",
    "    \n",
    "    for i in range(len(idx_target)):\n",
    "        if smaller:\n",
    "            if coords_target[i][xory] < center[xory]:\n",
    "                idx_dir_target.append(idx_target[i])\n",
    "        else:\n",
    "            if coords_target[i][xory] > center[xory]:\n",
    "                idx_dir_target.append(idx_target[i])\n",
    "            \n",
    "            \n",
    "    return (idx_dir_grid, idx_dir_target)\n",
    "        "
   ]
  },
  {
   "cell_type": "code",
   "execution_count": 65,
   "metadata": {},
   "outputs": [
    {
     "data": {
      "text/plain": [
       "PointCloud with 4068 points."
      ]
     },
     "execution_count": 65,
     "metadata": {},
     "output_type": "execute_result"
    }
   ],
   "source": [
    "# search multiple iterations until boundary found\n",
    "search_radius = np.ceil(np.sqrt((voxel_size*2)**2+(voxel_size*2)**2)*10000)/10000\n",
    "\n",
    "uniform_pc.paint_uniform_color([1,0,0])\n",
    "pcd_flat.paint_uniform_color([0,0,0])"
   ]
  },
  {
   "cell_type": "code",
   "execution_count": 66,
   "metadata": {},
   "outputs": [],
   "source": [
    "def grow_void(pcd_grid, pcd_target, initial_seed, initial_set=set(), search_radius=0.2, stop_threshold=2, color=[0,0,1]):\n",
    "\n",
    "\n",
    "    tree_grid = o3d.geometry.KDTreeFlann(pcd_grid)\n",
    "    tree_target = o3d.geometry.KDTreeFlann(pcd_target)\n",
    "\n",
    "\n",
    "    #initial search\n",
    "    index = find_closest_vector_index(initial_seed, pcd_grid)\n",
    "    center = pcd_grid.points[index]\n",
    "    k_grid, k_target, idxu, idxf = knn_search_pointclouds(tree_grid, tree_target, center, search_radius)\n",
    "    np.asarray(pcd_grid.colors)[idxu[1:], :] = color\n",
    "    \n",
    "    \n",
    "    old_set = set()\n",
    "    \n",
    "    new_set = set(idxu[1:])\n",
    "    different_elements = new_set-old_set-initial_set\n",
    "    old_set = set(new_set) \n",
    "    \n",
    "    while(different_elements):\n",
    "    \n",
    "                     \n",
    "        \n",
    "        \n",
    "        for index in different_elements:\n",
    "            new_center = pcd_grid.points[index]\n",
    "            k_grid, k_target, idxu, idxf = knn_search_pointclouds(tree_grid, tree_target, new_center, search_radius)\n",
    "            \n",
    "            coords_grid = np.asarray(pcd_grid.points)[idxu]\n",
    "            coords_target = np.asarray(pcd_target.points)[idxf]\n",
    "\n",
    "            \n",
    "\n",
    "            idx_up_grid, idx_up_target = get_ids_in_direction(idxu, idxf, coords_grid, coords_target, new_center, \"up\")\n",
    "            idx_down_grid, idx_down_target = get_ids_in_direction(idxu, idxf, coords_grid, coords_target, new_center, \"down\")\n",
    "            idx_left_grid, idx_left_target = get_ids_in_direction(idxu, idxf, coords_grid, coords_target, new_center, \"left\")\n",
    "            idx_right_grid, idx_right_target = get_ids_in_direction(idxu, idxf, coords_grid, coords_target, new_center, \"right\")\n",
    "            \n",
    "            if (len(idx_up_target) < stop_threshold):\n",
    "                new_set.update(idx_up_grid[1:])\n",
    "                np.asarray(pcd_grid.colors)[idx_up_grid[1:], :] = color\n",
    "            \n",
    "            \n",
    "            if (len(idx_down_target) < stop_threshold):\n",
    "                new_set.update(idx_down_grid[1:])\n",
    "                np.asarray(pcd_grid.colors)[idx_down_grid[1:], :] = color\n",
    "            \n",
    "            if (len(idx_left_target) < stop_threshold):\n",
    "                new_set.update(idx_left_grid[1:])\n",
    "                np.asarray(pcd_grid.colors)[idx_left_grid[1:], :] = color\n",
    "            \n",
    "            if (len(idx_right_target) < stop_threshold):\n",
    "                new_set.update(idx_right_grid[1:])\n",
    "                np.asarray(pcd_grid.colors)[idx_right_grid[1:], :] = color\n",
    "        \n",
    "        different_elements = new_set-old_set-initial_set\n",
    "        old_set = set(new_set) \n",
    "        \n",
    "    new_set = new_set.union(initial_set)\n",
    "    \n",
    "    return pcd_grid, new_set\n",
    "        \n",
    "\n"
   ]
  },
  {
   "cell_type": "code",
   "execution_count": 67,
   "metadata": {},
   "outputs": [],
   "source": [
    "known_points = set()\n",
    "for points in midpoints:\n",
    "    color = [0,0,1]\n",
    "    res = grow_void(uniform_pc, pcd_flat, points, known_points, search_radius=1, color=color)\n",
    "    scan_positions = res[0]\n",
    "    known_points = res[1]\n",
    "    o3d.visualization.draw_geometries([scan_positions, pcd_flat]+marker_meshes)"
   ]
  },
  {
   "cell_type": "code",
   "execution_count": 68,
   "metadata": {},
   "outputs": [],
   "source": [
    "valid_area = uniform_pc.select_by_index(list(known_points))\n",
    "valid_area_voxel = o3d.geometry.VoxelGrid.create_from_point_cloud(valid_area, 0.2)\n",
    "o3d.visualization.draw_geometries([valid_area_voxel, pcd_flat])"
   ]
  },
  {
   "cell_type": "code",
   "execution_count": 69,
   "metadata": {},
   "outputs": [
    {
     "ename": "RuntimeError",
     "evalue": "QH6154 Qhull precision error: Initial simplex is flat (facet 1 is coplanar with the interior point)\n\nWhile executing:  | qhull Qt\nOptions selected for Qhull 2020.2.r 2020/08/31:\n  run-id 1695488567  Qtriangulate  _pre-merge  _zero-centrum  _max-width 50\n  Error-roundoff 4.9e-14  _one-merge 3.4e-13  _near-inside 1.7e-12\n  Visible-distance 9.8e-14  U-max-coplanar 9.8e-14  Width-outside 2e-13\n  _wide-facet 5.9e-13  _maxoutside 3.9e-13\n\nThe input to qhull appears to be less than 3 dimensional, or a\ncomputation has overflowed.\n\nQhull could not construct a clearly convex simplex from points:\n- p2687(v4):   -32  -5.1 5.3e-07\n- p46(v3):   -12   9.7 5.3e-07\n- p590(v2):   2.7  -1.5 5.3e-07\n- p2684(v1):   -47   2.3 5.3e-07\n\nThe center point is coplanar with a facet, or a vertex is coplanar\nwith a neighboring facet.  The maximum round off error for\ncomputing distances is 4.9e-14.  The center point, facets and distances\nto the center point are as follows:\n\ncenter point   -22.08    1.301 5.275e-07\n\nfacet p46 p590 p2684 distance=    0\nfacet p2687 p590 p2684 distance=    0\nfacet p2687 p46 p2684 distance=    0\nfacet p2687 p46 p590 distance=    0\n\nThese points either have a maximum or minimum x-coordinate, or\nthey maximize the determinant for k coordinates.  Trial points\nare first selected from points that maximize a coordinate.\n\nThe min and max coordinates for each dimension are:\n  0:    -47.25     2.747  difference=   50\n  1:    -5.149     9.651  difference= 14.8\n  2:  5.275e-07  5.275e-07  difference=    0\n\nIf the input should be full dimensional, you have several options that\nmay determine an initial simplex:\n  - use 'QJ'  to joggle the input and make it full dimensional\n  - use 'QbB' to scale the points to the unit cube\n  - use 'QR0' to randomly rotate the input for different maximum points\n  - use 'Qs'  to search all points for the initial simplex\n  - use 'En'  to specify a maximum roundoff error less than 4.9e-14.\n  - trace execution with 'T3' to see the determinant for each point.\n\nIf the input is lower dimensional:\n  - use 'QJ' to joggle the input and make it full dimensional\n  - use 'Qbk:0Bk:0' to delete coordinate k from the input.  You should\n    pick the coordinate with the least range.  The hull will have the\n    correct topology.\n  - determine the flat containing the points, rotate the points\n    into a coordinate plane, and delete the other coordinates.\n  - add one or more points to make the input full dimensional.\n",
     "output_type": "error",
     "traceback": [
      "\u001b[0;31m---------------------------------------------------------------------------\u001b[0m",
      "\u001b[0;31mRuntimeError\u001b[0m                              Traceback (most recent call last)",
      "Cell \u001b[0;32mIn[69], line 1\u001b[0m\n\u001b[0;32m----> 1\u001b[0m hull, _ \u001b[39m=\u001b[39m pcd_flat\u001b[39m.\u001b[39;49mcompute_convex_hull()\n\u001b[1;32m      2\u001b[0m hull_ls \u001b[39m=\u001b[39m o3d\u001b[39m.\u001b[39mgeometry\u001b[39m.\u001b[39mLineSet\u001b[39m.\u001b[39mcreate_from_triangle_mesh(hull)\n\u001b[1;32m      3\u001b[0m hull_ls\u001b[39m.\u001b[39mpaint_uniform_color((\u001b[39m1\u001b[39m, \u001b[39m0\u001b[39m, \u001b[39m0\u001b[39m))\n",
      "\u001b[0;31mRuntimeError\u001b[0m: QH6154 Qhull precision error: Initial simplex is flat (facet 1 is coplanar with the interior point)\n\nWhile executing:  | qhull Qt\nOptions selected for Qhull 2020.2.r 2020/08/31:\n  run-id 1695488567  Qtriangulate  _pre-merge  _zero-centrum  _max-width 50\n  Error-roundoff 4.9e-14  _one-merge 3.4e-13  _near-inside 1.7e-12\n  Visible-distance 9.8e-14  U-max-coplanar 9.8e-14  Width-outside 2e-13\n  _wide-facet 5.9e-13  _maxoutside 3.9e-13\n\nThe input to qhull appears to be less than 3 dimensional, or a\ncomputation has overflowed.\n\nQhull could not construct a clearly convex simplex from points:\n- p2687(v4):   -32  -5.1 5.3e-07\n- p46(v3):   -12   9.7 5.3e-07\n- p590(v2):   2.7  -1.5 5.3e-07\n- p2684(v1):   -47   2.3 5.3e-07\n\nThe center point is coplanar with a facet, or a vertex is coplanar\nwith a neighboring facet.  The maximum round off error for\ncomputing distances is 4.9e-14.  The center point, facets and distances\nto the center point are as follows:\n\ncenter point   -22.08    1.301 5.275e-07\n\nfacet p46 p590 p2684 distance=    0\nfacet p2687 p590 p2684 distance=    0\nfacet p2687 p46 p2684 distance=    0\nfacet p2687 p46 p590 distance=    0\n\nThese points either have a maximum or minimum x-coordinate, or\nthey maximize the determinant for k coordinates.  Trial points\nare first selected from points that maximize a coordinate.\n\nThe min and max coordinates for each dimension are:\n  0:    -47.25     2.747  difference=   50\n  1:    -5.149     9.651  difference= 14.8\n  2:  5.275e-07  5.275e-07  difference=    0\n\nIf the input should be full dimensional, you have several options that\nmay determine an initial simplex:\n  - use 'QJ'  to joggle the input and make it full dimensional\n  - use 'QbB' to scale the points to the unit cube\n  - use 'QR0' to randomly rotate the input for different maximum points\n  - use 'Qs'  to search all points for the initial simplex\n  - use 'En'  to specify a maximum roundoff error less than 4.9e-14.\n  - trace execution with 'T3' to see the determinant for each point.\n\nIf the input is lower dimensional:\n  - use 'QJ' to joggle the input and make it full dimensional\n  - use 'Qbk:0Bk:0' to delete coordinate k from the input.  You should\n    pick the coordinate with the least range.  The hull will have the\n    correct topology.\n  - determine the flat containing the points, rotate the points\n    into a coordinate plane, and delete the other coordinates.\n  - add one or more points to make the input full dimensional.\n"
     ]
    }
   ],
   "source": [
    "\n",
    "\n",
    "\n",
    "hull, _ = pcd_flat.compute_convex_hull()\n",
    "hull_ls = o3d.geometry.LineSet.create_from_triangle_mesh(hull)\n",
    "hull_ls.paint_uniform_color((1, 0, 0))\n",
    "o3d.visualization.draw_geometries([pcd_flat, hull_ls])"
   ]
  },
  {
   "cell_type": "code",
   "execution_count": null,
   "metadata": {},
   "outputs": [],
   "source": []
  }
 ],
 "metadata": {
  "kernelspec": {
   "display_name": "Python 3",
   "language": "python",
   "name": "python3"
  },
  "language_info": {
   "codemirror_mode": {
    "name": "ipython",
    "version": 3
   },
   "file_extension": ".py",
   "mimetype": "text/x-python",
   "name": "python",
   "nbconvert_exporter": "python",
   "pygments_lexer": "ipython3",
   "version": "3.8.10"
  },
  "orig_nbformat": 4
 },
 "nbformat": 4,
 "nbformat_minor": 2
}
