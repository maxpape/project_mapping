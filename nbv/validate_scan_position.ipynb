{
 "cells": [
  {
   "cell_type": "code",
   "execution_count": 1,
   "metadata": {},
   "outputs": [
    {
     "name": "stdout",
     "output_type": "stream",
     "text": [
      "Jupyter environment detected. Enabling Open3D WebVisualizer.\n",
      "[Open3D INFO] WebRTC GUI backend enabled.\n",
      "[Open3D INFO] WebRTCWindowSystem: HTTP handshake server disabled.\n"
     ]
    }
   ],
   "source": [
    "import open3d as o3d\n",
    "import numpy as np\n",
    "import multiprocessing as mp\n",
    "from multiprocessing import Pool\n",
    "import copy as cp\n",
    "#import open3d.core as o3c\n",
    "import matplotlib.pyplot as plt\n",
    "import pyransac3d as pyrsc\n",
    "import time\n",
    "import functions\n",
    "from scipy.spatial.transform import Rotation\n",
    "from iteration_utilities import deepflatten\n",
    "from mpl_toolkits.mplot3d import Axes3D"
   ]
  },
  {
   "cell_type": "code",
   "execution_count": 11,
   "metadata": {},
   "outputs": [
    {
     "name": "stdout",
     "output_type": "stream",
     "text": [
      "<class 'numpy.ndarray'>\n",
      "[[-3.97290234  5.19235956  0.5       ]\n",
      " [-8.11327289  5.93962456  0.5       ]\n",
      " [-8.51439548  6.62725701  0.5       ]\n",
      " [-8.37032305  6.50910438  0.5       ]\n",
      " [-6.91224171  5.80460312  0.5       ]\n",
      " [-8.62191844  6.96890901  0.5       ]\n",
      " [-5.65194545 -2.03943957  0.5       ]\n",
      " [-6.64277137  5.35201411  0.5       ]\n",
      " [-6.12203445  5.93117367  0.5       ]]\n"
     ]
    }
   ],
   "source": [
    "best_positions = np.genfromtxt(\"best_pos.csv\", delimiter=\"; \")\n",
    "print(type(best_positions[0]))\n",
    "print(best_positions)"
   ]
  },
  {
   "cell_type": "code",
   "execution_count": 3,
   "metadata": {},
   "outputs": [],
   "source": [
    "pcd_flat = o3d.io.read_point_cloud(\"pcd_flat.pcd\")\n",
    "valid_area = o3d.io.read_point_cloud(\"valid_area.pcd\")\n",
    "valid_area_vg = o3d.geometry.VoxelGrid.create_from_point_cloud(valid_area, 0.2)\n",
    "o3d.visualization.draw_geometries([pcd_flat, valid_area_vg])"
   ]
  },
  {
   "cell_type": "code",
   "execution_count": 9,
   "metadata": {},
   "outputs": [],
   "source": [
    "\n",
    "    \n",
    "def box_points_on_groundplane(center, dimension):\n",
    "    cx, cy, cz = center\n",
    "\n",
    "    # Half side lengths of the square in each direction\n",
    "    side_x, side_y, side_z = dimension\n",
    "    half_side_x = side_x / 2\n",
    "    half_side_y = side_y / 2\n",
    "\n",
    "    # Calculate the four corner points\n",
    "    bottom_corners = [\n",
    "        (cx - half_side_x, cy - half_side_y, 0),\n",
    "        (cx + half_side_x, cy - half_side_y, 0),\n",
    "        (cx + half_side_x, cy + half_side_y, 0),\n",
    "        (cx - half_side_x, cy + half_side_y, 0)\n",
    "    ]\n",
    "\n",
    "    return np.asarray(bottom_corners)"
   ]
  },
  {
   "cell_type": "code",
   "execution_count": 45,
   "metadata": {},
   "outputs": [],
   "source": [
    "markers = []\n",
    "markers_pc = []\n",
    "\n",
    "for position in best_positions:\n",
    "    \n",
    "    position[2] = 0\n",
    "    box = functions.create_box_at_point(position, size=(0.5,0.5,0.5))\n",
    "    pc = functions.hull_to_uniform_pc(box, 0.1, [1,0,0])\n",
    "    pc_points = np.asarray(pc.points)\n",
    "    pc_points[:,2] = 0\n",
    "    \n",
    "    pc = o3d.geometry.PointCloud()\n",
    "    pc.points.extend(pc_points)\n",
    "    #pc = o3d.geometry.VoxelGrid.create_from_triangle_mesh(box, 0.1)\n",
    "    markers.append(box)\n",
    "    markers_pc.append(pc)\n",
    "    \n",
    "    \n",
    "o3d.visualization.draw_geometries([pcd_flat, valid_area_vg]+markers_pc)"
   ]
  },
  {
   "cell_type": "code",
   "execution_count": 46,
   "metadata": {},
   "outputs": [
    {
     "name": "stdout",
     "output_type": "stream",
     "text": [
      "0\n",
      "86\n",
      "74\n",
      "86\n",
      "86\n",
      "80\n",
      "88\n",
      "86\n",
      "86\n"
     ]
    }
   ],
   "source": [
    "inclusion = []\n",
    "for pc in markers_pc:\n",
    "    points = pc.points\n",
    "    \n",
    "    inc = valid_area_vg.check_if_included(points)\n",
    "    all_points = len(inc)\n",
    "    inc_sum = sum(inc)\n",
    "    if inc_sum == all_points:\n",
    "        inclusion.append(True)\n",
    "    else:\n",
    "        inclusion.append(False)\n",
    "    print(inc_sum)"
   ]
  },
  {
   "cell_type": "code",
   "execution_count": 47,
   "metadata": {},
   "outputs": [
    {
     "name": "stdout",
     "output_type": "stream",
     "text": [
      "[False, True, False, True, True, False, True, True, True]\n"
     ]
    }
   ],
   "source": [
    "\n",
    "\n",
    "#inclusion = valid_area_vg.check_if_included(pos_utility_vec)\n",
    "print(inclusion)\n",
    "for i in range(len(markers)):\n",
    "    if not inclusion[i]:\n",
    "        markers[i].paint_uniform_color([1,0,0])\n",
    "o3d.visualization.draw_geometries([pcd_flat, valid_area_vg]+markers)"
   ]
  }
 ],
 "metadata": {
  "kernelspec": {
   "display_name": "Python 3",
   "language": "python",
   "name": "python3"
  },
  "language_info": {
   "codemirror_mode": {
    "name": "ipython",
    "version": 3
   },
   "file_extension": ".py",
   "mimetype": "text/x-python",
   "name": "python",
   "nbconvert_exporter": "python",
   "pygments_lexer": "ipython3",
   "version": "3.8.10"
  },
  "orig_nbformat": 4
 },
 "nbformat": 4,
 "nbformat_minor": 2
}
