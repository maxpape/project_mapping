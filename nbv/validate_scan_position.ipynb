{
 "cells": [
  {
   "cell_type": "code",
   "execution_count": 1,
   "metadata": {},
   "outputs": [
    {
     "name": "stdout",
     "output_type": "stream",
     "text": [
      "Jupyter environment detected. Enabling Open3D WebVisualizer.\n",
      "[Open3D INFO] WebRTC GUI backend enabled.\n",
      "[Open3D INFO] WebRTCWindowSystem: HTTP handshake server disabled.\n"
     ]
    }
   ],
   "source": [
    "import open3d as o3d\n",
    "import numpy as np\n",
    "import multiprocessing as mp\n",
    "from multiprocessing import Pool\n",
    "import copy as cp\n",
    "#import open3d.core as o3c\n",
    "import matplotlib.pyplot as plt\n",
    "import pyransac3d as pyrsc\n",
    "import time\n",
    "import functions\n",
    "from scipy.spatial.transform import Rotation\n",
    "from iteration_utilities import deepflatten\n",
    "from mpl_toolkits.mplot3d import Axes3D"
   ]
  },
  {
   "cell_type": "code",
   "execution_count": 2,
   "metadata": {},
   "outputs": [
    {
     "name": "stdout",
     "output_type": "stream",
     "text": [
      "<class 'numpy.ndarray'>\n",
      "[[-3.97290234  5.19235956  0.5       ]\n",
      " [-8.11327289  5.93962456  0.5       ]\n",
      " [-8.51439548  6.62725701  0.5       ]\n",
      " [-8.37032305  6.50910438  0.5       ]\n",
      " [-6.91224171  5.80460312  0.5       ]\n",
      " [-8.62191844  6.96890901  0.5       ]\n",
      " [-5.65194545 -2.03943957  0.5       ]\n",
      " [-6.64277137  5.35201411  0.5       ]\n",
      " [-6.12203445  5.93117367  0.5       ]]\n"
     ]
    }
   ],
   "source": [
    "best_positions = np.genfromtxt(\"best_pos.csv\", delimiter=\"; \")\n",
    "print(type(best_positions[0]))\n",
    "print(best_positions)"
   ]
  },
  {
   "cell_type": "code",
   "execution_count": 3,
   "metadata": {},
   "outputs": [],
   "source": [
    "pcd_flat = o3d.io.read_point_cloud(\"pcd_flat.pcd\")\n",
    "valid_area = o3d.io.read_point_cloud(\"valid_area.pcd\")\n",
    "valid_area_vg = o3d.geometry.VoxelGrid.create_from_point_cloud(valid_area, 0.2)\n",
    "o3d.visualization.draw_geometries([pcd_flat, valid_area_vg])"
   ]
  },
  {
   "cell_type": "code",
   "execution_count": 7,
   "metadata": {},
   "outputs": [
    {
     "name": "stdout",
     "output_type": "stream",
     "text": [
      "[-3.97290234  5.19235956  0.        ]\n",
      "[-8.11327289  5.93962456  0.        ]\n",
      "[-8.51439548  6.62725701  0.        ]\n",
      "[-8.37032305  6.50910438  0.        ]\n",
      "[-6.91224171  5.80460312  0.        ]\n",
      "[-8.62191844  6.96890901  0.        ]\n",
      "[-5.65194545 -2.03943957  0.        ]\n",
      "[-6.64277137  5.35201411  0.        ]\n",
      "[-6.12203445  5.93117367  0.        ]\n"
     ]
    }
   ],
   "source": [
    "markers = []\n",
    "\n",
    "for position in best_positions:\n",
    "    position[2] = 0\n",
    "    print(position)\n",
    "    markers.append(functions.create_box_at_point(position, size=(0.5,0.5,0.5)))\n",
    "    \n",
    "o3d.visualization.draw_geometries([pcd_flat, valid_area_vg]+markers)"
   ]
  },
  {
   "cell_type": "code",
   "execution_count": 5,
   "metadata": {},
   "outputs": [
    {
     "name": "stdout",
     "output_type": "stream",
     "text": [
      "[[-3.82290234  5.64235956 -0.25      ]\n",
      " [-3.52290234  5.04235956 -0.25      ]\n",
      " [-3.82290234  5.64235956  0.25      ]\n",
      " [-4.42290234  5.34235956 -0.25      ]\n",
      " [-4.12290234  4.74235956  0.25      ]\n",
      " [-4.42290234  5.34235956  0.25      ]\n",
      " [-4.12290234  4.74235956 -0.25      ]\n",
      " [-3.52290234  5.04235956  0.25      ]]\n",
      "0\n",
      "[[-8.29002651  6.36628072  0.26057275]\n",
      " [-8.54281325  5.75618667  0.25104003]\n",
      " [-8.29002651  6.37421335 -0.2471158 ]\n",
      " [-7.68373254  6.11512982  0.25664852]\n",
      " [-7.93651928  5.5129684  -0.26057275]\n",
      " [-7.68373254  6.12306245 -0.25104003]\n",
      " [-7.93651928  5.50503577  0.2471158 ]\n",
      " [-8.54281325  5.7641193  -0.25664852]]\n",
      "0\n",
      "[[-8.51439548  6.87725701  0.5       ]\n",
      " [-8.01439548  6.87725701  0.        ]\n",
      " [-8.51439548  6.37725701  0.5       ]\n",
      " [-9.01439548  6.87725701  0.        ]\n",
      " [-8.51439548  6.37725701 -0.5       ]\n",
      " [-9.01439548  6.37725701  0.        ]\n",
      " [-8.51439548  6.87725701 -0.5       ]\n",
      " [-8.01439548  6.37725701  0.        ]]\n",
      "3\n",
      "[[-8.22032305  6.95910438 -0.25      ]\n",
      " [-7.92032305  6.35910438 -0.25      ]\n",
      " [-8.22032305  6.95910438  0.25      ]\n",
      " [-8.82032305  6.65910438 -0.25      ]\n",
      " [-8.52032305  6.05910438  0.25      ]\n",
      " [-8.82032305  6.65910438  0.25      ]\n",
      " [-8.52032305  6.05910438 -0.25      ]\n",
      " [-7.92032305  6.35910438  0.25      ]]\n",
      "0\n",
      "[[-6.48557236  5.62775501  0.25528605]\n",
      " [-6.73599093  6.23268301  0.25333026]\n",
      " [-6.4816362   5.62775537 -0.24858945]\n",
      " [-7.09242865  5.37652287  0.25054524]\n",
      " [-7.33891106  5.98145124 -0.25528605]\n",
      " [-7.08849249  5.37652323 -0.25333026]\n",
      " [-7.34284722  5.98145088  0.24858945]\n",
      " [-6.73205477  6.23268337 -0.25054524]]\n",
      "0\n",
      "[[-8.14233386  6.86078937 -0.25010758]\n",
      " [-8.73362265  6.49538613 -0.2598909 ]\n",
      " [-8.148306    6.85680762  0.25955648]\n",
      " [-8.50424209  7.44641364 -0.24977316]\n",
      " [-9.10150301  7.07702865  0.25010758]\n",
      " [-8.51021423  7.44243189  0.2598909 ]\n",
      " [-9.09553087  7.0810104  -0.25955648]\n",
      " [-8.73959479  6.49140438  0.24977316]]\n",
      "0\n",
      "[[-5.84174867 -2.45208709 -0.25690258]\n",
      " [-6.06634203 -1.84504903 -0.25057927]\n",
      " [-5.84174867 -2.4573491   0.24825094]\n",
      " [-5.23754887 -2.22856809 -0.25457426]\n",
      " [-5.46214223 -1.62679205  0.25690258]\n",
      " [-5.23754887 -2.2338301   0.25057927]\n",
      " [-5.46214223 -1.62153003 -0.24825094]\n",
      " [-6.06634203 -1.85031105  0.25457426]]\n",
      "0\n",
      "[[-6.67378476  4.85395475  0.25292211]\n",
      " [-6.14373537  5.32186041  0.25109435]\n",
      " [-6.67378476  4.85199402 -0.24902336]\n",
      " [-7.14180737  5.38412853  0.25085112]\n",
      " [-6.61175799  5.85007347 -0.25292211]\n",
      " [-7.14180737  5.3821678  -0.25109435]\n",
      " [-6.61175799  5.85203419  0.24902336]\n",
      " [-6.14373537  5.31989969 -0.25085112]]\n",
      "0\n",
      "[[-6.51225546  5.72362796  0.25082688]\n",
      " [-5.91402361  5.5425132   0.25285631]\n",
      " [-6.51094686  5.72231863 -0.25177071]\n",
      " [-6.33135389  6.32114347  0.24974128]\n",
      " [-5.73181343  6.13871937 -0.25082688]\n",
      " [-6.33004528  6.31983414 -0.25285631]\n",
      " [-5.73312203  6.1400287   0.25177071]\n",
      " [-5.912715    5.54120386 -0.24974128]]\n",
      "0\n"
     ]
    }
   ],
   "source": [
    "inclusion = []\n",
    "for marker in markers:\n",
    "    bb = marker.get_oriented_bounding_box()\n",
    "    points = bb.get_box_points()\n",
    "    print(np.asarray(points))\n",
    "    inc = valid_area_vg.check_if_included(points)\n",
    "    inc_sum = sum(inc)\n",
    "    if inc_sum >= 4:\n",
    "        inclusion.append(True)\n",
    "    else:\n",
    "        inclusion.append(False)\n",
    "    print(inc_sum)"
   ]
  },
  {
   "cell_type": "code",
   "execution_count": 6,
   "metadata": {},
   "outputs": [
    {
     "name": "stdout",
     "output_type": "stream",
     "text": [
      "[False, False, False, False, False, False, False, False, False]\n"
     ]
    }
   ],
   "source": [
    "for i in range(len(best_positions)):\n",
    "    best_positions[i][2] = 0\n",
    "pos_utility_vec = o3d.utility.Vector3dVector(best_positions)\n",
    "\n",
    "#inclusion = valid_area_vg.check_if_included(pos_utility_vec)\n",
    "print(inclusion)\n",
    "for i in range(len(markers)):\n",
    "    if not inclusion[i]:\n",
    "        markers[i].paint_uniform_color([1,0,0])\n",
    "o3d.visualization.draw_geometries([pcd_flat, valid_area_vg]+markers)"
   ]
  }
 ],
 "metadata": {
  "kernelspec": {
   "display_name": "Python 3",
   "language": "python",
   "name": "python3"
  },
  "language_info": {
   "codemirror_mode": {
    "name": "ipython",
    "version": 3
   },
   "file_extension": ".py",
   "mimetype": "text/x-python",
   "name": "python",
   "nbconvert_exporter": "python",
   "pygments_lexer": "ipython3",
   "version": "3.8.10"
  },
  "orig_nbformat": 4
 },
 "nbformat": 4,
 "nbformat_minor": 2
}
