{
 "cells": [
  {
   "cell_type": "code",
   "execution_count": 1,
   "id": "4242cd87",
   "metadata": {},
   "outputs": [
    {
     "name": "stdout",
     "output_type": "stream",
     "text": [
      "Jupyter environment detected. Enabling Open3D WebVisualizer.\n",
      "[Open3D INFO] WebRTC GUI backend enabled.\n",
      "[Open3D INFO] WebRTCWindowSystem: HTTP handshake server disabled.\n"
     ]
    }
   ],
   "source": [
    "import open3d as o3d\n",
    "import numpy as np\n",
    "import copy as cp\n",
    "import open3d.core as o3c\n",
    "import matplotlib.pyplot as plt\n",
    "import pyransac3d as pyrsc\n",
    "import multiprocessing as mp\n",
    "from multiprocessing import Pool\n",
    "from scipy.spatial.transform import Rotation\n",
    "from iteration_utilities import deepflatten"
   ]
  },
  {
   "cell_type": "code",
   "execution_count": 2,
   "id": "86d24068",
   "metadata": {},
   "outputs": [
    {
     "name": "stdout",
     "output_type": "stream",
     "text": [
      "\u001b[1;33m[Open3D WARNING] GLFW Error: GLX: Failed to create context: BadValue (integer parameter out of range for operation)\u001b[0;m\n",
      "\u001b[1;33m[Open3D WARNING] Failed to create window\u001b[0;m\n",
      "\u001b[1;33m[Open3D WARNING] [DrawGeometries] Failed creating OpenGL window.\u001b[0;m\n"
     ]
    }
   ],
   "source": [
    "#load pcd file, filter, downsample\n",
    "pcdn = o3d.io.read_point_cloud(\"final_cropped_ground_align.pcd\")\n",
    "pcdn.estimate_normals()\n",
    "cl, ind = pcdn.remove_statistical_outlier(nb_neighbors=20,\n",
    "                                                    std_ratio=0.8)\n",
    "\n",
    "pcd = pcdn.select_by_index(ind)\n",
    "pcd = pcd.voxel_down_sample(voxel_size=0.1)\n",
    "pcd.estimate_normals()\n",
    "pcd.orient_normals_consistent_tangent_plane(40)\n",
    "o3d.visualization.draw_geometries([pcd])"
   ]
  },
  {
   "cell_type": "code",
   "execution_count": 3,
   "id": "b3c9bfd0",
   "metadata": {},
   "outputs": [],
   "source": [
    "def create_cuboid(plane_eq):\n",
    "    # Extract the coefficients A, B, C, and D from the plane equations\n",
    "    A1, B1, C1, D1 = plane_eq[0]\n",
    "    A2, B2, C2, D2 = plane_eq[1]\n",
    "    A3, B3, C3, D3 = plane_eq[2]\n",
    "\n",
    "    # Calculate the intersection lines between the planes\n",
    "    line1 = np.cross([A1, B1, C1], [A2, B2, C2])\n",
    "    line2 = np.cross([A2, B2, C2], [A3, B3, C3])\n",
    "    line3 = np.cross([A3, B3, C3], [A1, B1, C1])\n",
    "\n",
    "    # Calculate the corner points of the cuboid\n",
    "    corner_points = []\n",
    "    for i in range(2):\n",
    "        for j in range(2):\n",
    "            for k in range(2):\n",
    "                corner_point = (\n",
    "                    line1 * i / np.linalg.norm(line1) +\n",
    "                    line2 * j / np.linalg.norm(line2) +\n",
    "                    line3 * k / np.linalg.norm(line3)\n",
    "                )\n",
    "                corner_points.append(corner_point)\n",
    "\n",
    "    return corner_points"
   ]
  },
  {
   "cell_type": "code",
   "execution_count": 4,
   "id": "3caea095",
   "metadata": {},
   "outputs": [],
   "source": [
    "points = np.asarray(pcd.points) # Load your point cloud as a numpy array (N, 3)\n",
    "\n",
    "cube1 = pyrsc.Cuboid()\n",
    "best_eq, best_inliers = cube1.fit(points, thresh=0.1, maxIteration=5000)\n",
    "box_points = create_cuboid(best_eq)\n",
    "\n",
    "o3d_box_points = o3d.utility.Vector3dVector(box_points)\n"
   ]
  },
  {
   "cell_type": "code",
   "execution_count": 5,
   "id": "80e1af83",
   "metadata": {},
   "outputs": [
    {
     "name": "stdout",
     "output_type": "stream",
     "text": [
      "[[-0.026707    0.02130382  0.99941627 -2.90296804]\n",
      " [-0.02742634 -0.99941215  0.02057083  1.0485655 ]\n",
      " [ 0.999267   -0.02686095  0.02727559 10.56841217]]\n",
      "\u001b[1;33m[Open3D WARNING] GLFW Error: GLX: Failed to create context: BadValue (integer parameter out of range for operation)\u001b[0;m\n",
      "\u001b[1;33m[Open3D WARNING] Failed to create window\u001b[0;m\n",
      "\u001b[1;33m[Open3D WARNING] [DrawGeometries] Failed creating OpenGL window.\u001b[0;m\n"
     ]
    }
   ],
   "source": [
    "print(best_eq)\n",
    "test = o3d.geometry.OrientedBoundingBox.create_from_points(o3d_box_points)\n",
    "test.color = (1,0,0)\n",
    "part_pcd = pcd.select_by_index(best_inliers)\n",
    "part_pcd.paint_uniform_color((1,0,0))\n",
    "\n",
    "o3d.visualization.draw_geometries([pcd, part_pcd, test])"
   ]
  },
  {
   "cell_type": "code",
   "execution_count": 6,
   "id": "ac15a2cf",
   "metadata": {},
   "outputs": [
    {
     "name": "stdout",
     "output_type": "stream",
     "text": [
      "Detected 69 patches\n",
      "\u001b[1;33m[Open3D WARNING] GLFW Error: GLX: Failed to create context: BadValue (integer parameter out of range for operation)\u001b[0;m\n",
      "\u001b[1;33m[Open3D WARNING] Failed to create window\u001b[0;m\n",
      "\u001b[1;33m[Open3D WARNING] [DrawGeometries] Failed creating OpenGL window.\u001b[0;m\n"
     ]
    }
   ],
   "source": [
    "oboxes = pcd.detect_planar_patches(\n",
    "normal_variance_threshold_deg=50,\n",
    "coplanarity_deg=85,\n",
    "outlier_ratio=0.75,\n",
    "min_plane_edge_length=1,\n",
    "min_num_points=10,\n",
    "search_param=o3d.geometry.KDTreeSearchParamKNN(knn=50))\n",
    "\n",
    "print(\"Detected {} patches\".format(len(oboxes)))\n",
    "\n",
    "geometries = []\n",
    "for obox in oboxes:\n",
    "\n",
    "    mesh = o3d.geometry.TriangleMesh.create_from_oriented_bounding_box(obox, scale=[1, 1, 0.0001])\n",
    "    mesh.paint_uniform_color(obox.color)\n",
    "    mesh.compute_triangle_normals()\n",
    "    mesh.compute_vertex_normals()\n",
    "    normals = np.asarray(mesh.vertex_normals)\n",
    "\n",
    "    \n",
    "    geometries.append(mesh)\n",
    "    geometries.append(obox)\n",
    "\n",
    "#o3d.visualization.draw_geometries(geometries + [boundarys.to_legacy()])\n",
    "o3d.visualization.draw_geometries([pcd] + geometries)"
   ]
  },
  {
   "cell_type": "code",
   "execution_count": 7,
   "id": "1812819a",
   "metadata": {},
   "outputs": [],
   "source": [
    "def filter_by_normal(pcd):\n",
    "    ind = []\n",
    "    for i in range(len(pcd.points)):\n",
    "        if ((np.abs(pcd.normals[i][2]) < 0.3) and ((np.abs(pcd.normals[i][0]) > 0.8) or (np.abs(pcd.normals[i][1]) > 0.8))):\n",
    "            pcd.points[i][2] = np.random.rand()*0.1\n",
    "            pass\n",
    "        else:\n",
    "            ind.append(i)\n",
    "    result = pcd.select_by_index(ind, invert=True)\n",
    "    return result"
   ]
  },
  {
   "cell_type": "code",
   "execution_count": 8,
   "id": "c1965944",
   "metadata": {},
   "outputs": [
    {
     "name": "stdout",
     "output_type": "stream",
     "text": [
      "\u001b[1;33m[Open3D WARNING] GLFW Error: GLX: Failed to create context: BadValue (integer parameter out of range for operation)\u001b[0;m\n",
      "\u001b[1;33m[Open3D WARNING] Failed to create window\u001b[0;m\n",
      "\u001b[1;33m[Open3D WARNING] [DrawGeometries] Failed creating OpenGL window.\u001b[0;m\n"
     ]
    }
   ],
   "source": [
    "filtered_pcd = filter_by_normal(pcd)\n",
    "voxel_grid = o3d.geometry.VoxelGrid.create_from_point_cloud(filtered_pcd, 0.1)\n",
    "o3d.visualization.draw_geometries([voxel_grid])\n",
    "\n",
    "#print(np.asarray(filtered_pcd.points[0:10]))\n"
   ]
  },
  {
   "cell_type": "code",
   "execution_count": 9,
   "id": "a7e860ce",
   "metadata": {},
   "outputs": [],
   "source": [
    "def create_box_at_point(point):\n",
    "    \n",
    "    box = o3d.geometry.TriangleMesh.create_box(0.1,0.1,0.1)\n",
    "    box.paint_uniform_color([0,1,0])\n",
    "    \n",
    "    box.translate(point, False)\n",
    "    \n",
    "    \n",
    "    return box\n",
    "    "
   ]
  },
  {
   "cell_type": "code",
   "execution_count": 10,
   "id": "e7b13434",
   "metadata": {},
   "outputs": [],
   "source": [
    "def get_points_on_line(point1, point2, distance):\n",
    "    # Calculate the direction vector of the line\n",
    "    direction_vector = point2 - point1\n",
    "\n",
    "    # Calculate the length of the line\n",
    "    line_length = np.linalg.norm(direction_vector)\n",
    "\n",
    "    # Calculate the number of points based on the given distance\n",
    "    num_points = int(line_length / distance) + 1\n",
    "\n",
    "    # Calculate the step size between each point\n",
    "    if (num_points <= 1):\n",
    "        num_points += 1\n",
    "    step_size = 1.0 / (num_points - 1)\n",
    "\n",
    "    # Calculate the parameter values for each point on the line\n",
    "    parameters = np.arange(0, 1 + step_size, step_size)\n",
    "\n",
    "    # Calculate the points on the line using the parameter values\n",
    "    points = [point1 + parameter * direction_vector for parameter in parameters]\n",
    "\n",
    "    return points"
   ]
  },
  {
   "cell_type": "code",
   "execution_count": 11,
   "id": "d0434844",
   "metadata": {},
   "outputs": [
    {
     "name": "stdout",
     "output_type": "stream",
     "text": [
      "\u001b[1;33m[Open3D WARNING] GLFW Error: GLX: Failed to create context: BadValue (integer parameter out of range for operation)\u001b[0;m\n",
      "\u001b[1;33m[Open3D WARNING] Failed to create window\u001b[0;m\n",
      "\u001b[1;33m[Open3D WARNING] [DrawGeometries] Failed creating OpenGL window.\u001b[0;m\n"
     ]
    }
   ],
   "source": [
    "n_points = len(filtered_pcd.points)\n",
    "line_points = [(np.random.randint(n_points), np.random.randint(n_points)) for i in range(0,n_points,10)]\n",
    "lineset = o3d.geometry.LineSet.create_from_point_cloud_correspondences(filtered_pcd, filtered_pcd, line_points)\n",
    "\n",
    "#o3d.visualization.draw_geometries([lineset])\n",
    "boxes = []\n",
    "indexes = []\n",
    "intersection_points = []\n",
    "int_points = o3d.geometry.PointCloud()\n",
    "for i in range(len(line_points)):\n",
    "    p1 = lineset.get_line_coordinate(i)[0]\n",
    "    p2 = lineset.get_line_coordinate(i)[1]\n",
    "  \n",
    "    linepoints = get_points_on_line(p1,p2,0.1)\n",
    "\n",
    "    lp_o3d = o3d.utility.Vector3dVector(linepoints)\n",
    "\n",
    "    is_included = voxel_grid.check_if_included(lp_o3d)\n",
    "\n",
    "    \n",
    "    for bl,x in zip(is_included, range(len(is_included))):\n",
    "        if bl:\n",
    "            indexes.append(voxel_grid.get_voxel(lp_o3d[x]))\n",
    "\n",
    "    intersection_points.append([linepoints[x] for x in range(len(linepoints))  if not  is_included[x]] )\n",
    "\n",
    "intersection_points = list(deepflatten(intersection_points, depth=1))\n",
    "\n",
    "int_points.points.extend(o3d.utility.Vector3dVector(intersection_points))  \n",
    "   \n",
    "\n",
    "o3d.visualization.draw_geometries([voxel_grid] + [int_points])"
   ]
  },
  {
   "cell_type": "code",
   "execution_count": 12,
   "id": "801a764a",
   "metadata": {},
   "outputs": [],
   "source": [
    "def angle_between_vectors(v1, v2):\n",
    "    \"\"\" Returns the angle in radians between vectors 'v1' and 'v2'::\n",
    "\n",
    "            >>> angle_between((1, 0, 0), (0, 1, 0))\n",
    "            1.5707963267948966\n",
    "            >>> angle_between((1, 0, 0), (1, 0, 0))\n",
    "            0.0\n",
    "            >>> angle_between((1, 0, 0), (-1, 0, 0))\n",
    "            3.141592653589793\n",
    "    \"\"\"\n",
    "    # Normalize the vectors to unit length\n",
    "    v1_u = v1 / np.linalg.norm(v1)\n",
    "    v2_u = v2 / np.linalg.norm(v2)\n",
    "    angle = np.arccos(np.clip(np.dot(v1_u, v2_u), -1.0, 1.0))\n",
    "    \n",
    "    return np.degrees(angle)"
   ]
  },
  {
   "cell_type": "code",
   "execution_count": 13,
   "id": "cfed8629",
   "metadata": {},
   "outputs": [],
   "source": [
    "def are_vectors_perpendicular(v1, v2, threshold):\n",
    "    \n",
    "    # Normalize the vectors to unit length\n",
    "    v1_u = v1 / np.linalg.norm(v1)\n",
    "    v2_u = v2 / np.linalg.norm(v2)\n",
    "    angle = np.arccos(np.clip(np.dot(v1_u, v2_u), -1.0, 1.0))\n",
    "    angle = np.degrees(angle)\n",
    "    \n",
    "    if (180 <= angle < 360):\n",
    "        angle -= 180\n",
    "        \n",
    "    if ((90-threshold) <= angle <= (90+threshold)):\n",
    "        return True\n",
    "    else:\n",
    "        return False\n"
   ]
  },
  {
   "cell_type": "code",
   "execution_count": 14,
   "id": "01d76ab2",
   "metadata": {},
   "outputs": [
    {
     "name": "stdout",
     "output_type": "stream",
     "text": [
      "Detected 23 patches\n"
     ]
    }
   ],
   "source": [
    "oboxes = filtered_pcd.detect_planar_patches(\n",
    "normal_variance_threshold_deg=50,\n",
    "coplanarity_deg=85,\n",
    "outlier_ratio=0.75,\n",
    "min_plane_edge_length=2,\n",
    "min_num_points=10,\n",
    "search_param=o3d.geometry.KDTreeSearchParamKNN(knn=50))\n",
    "\n",
    "print(\"Detected {} patches\".format(len(oboxes)))\n",
    "\n",
    "geometries = []\n",
    "meshes = []\n",
    "for obox in oboxes:\n",
    "\n",
    "    mesh = o3d.geometry.TriangleMesh.create_from_oriented_bounding_box(obox, scale=[1, 1, 0.0001])\n",
    "    mesh.paint_uniform_color(obox.color)\n",
    "    mesh.compute_triangle_normals()\n",
    "    mesh.compute_vertex_normals()\n",
    "    normals = np.asarray(mesh.vertex_normals)\n",
    "\n",
    "    \n",
    "    meshes.append(mesh)\n",
    "    geometries.append(obox)\n",
    "\n",
    "#o3d.visualization.draw_geometries(geometries + [boundarys.to_legacy()])\n",
    "#o3d.visualization.draw_geometries(geometries+[int_points])\n",
    "#for obox, mesh in zip(oboxes, meshes):\n",
    " #   print(obox.extent)\n",
    "  #  print(mesh.vertex_normals[0])"
   ]
  },
  {
   "cell_type": "code",
   "execution_count": 15,
   "id": "52a2ce1a",
   "metadata": {},
   "outputs": [
    {
     "name": "stdout",
     "output_type": "stream",
     "text": [
      "\u001b[1;33m[Open3D WARNING] GLFW Error: GLX: Failed to create context: BadValue (integer parameter out of range for operation)\u001b[0;m\n",
      "\u001b[1;33m[Open3D WARNING] Failed to create window\u001b[0;m\n",
      "\u001b[1;33m[Open3D WARNING] [DrawGeometries] Failed creating OpenGL window.\u001b[0;m\n"
     ]
    }
   ],
   "source": [
    "def devide_meshes_hor_ver(meshes):\n",
    "\n",
    "    first = meshes[0]\n",
    "\n",
    "    hor_patches = []\n",
    "    ver_patches = [first]\n",
    "\n",
    "    for i in range(1,len(meshes)):\n",
    "        patch_normal = meshes[i].vertex_normals[0]\n",
    "\n",
    "        if (are_vectors_perpendicular(first.vertex_normals[0], patch_normal, 15)):\n",
    "            hor_patches.append(meshes[i])\n",
    "        else:\n",
    "            ver_patches.append(meshes[i])\n",
    "\n",
    "\n",
    "\n",
    "    return hor_patches, ver_patches\n",
    "hor_patches, ver_patches = devide_meshes_hor_ver(meshes)\n",
    "o3d.visualization.draw_geometries(ver_patches)"
   ]
  },
  {
   "cell_type": "code",
   "execution_count": 16,
   "id": "9f9724a8",
   "metadata": {},
   "outputs": [],
   "source": [
    "def sample_multiple_meshes(meshes):\n",
    "    pc = o3d.geometry.PointCloud()\n",
    "\n",
    "    for mesh in meshes:\n",
    "        part = mesh.sample_points_poisson_disk(number_of_points=2000)\n",
    "        pc.points.extend(part.points)\n",
    "    return pc"
   ]
  },
  {
   "cell_type": "code",
   "execution_count": 17,
   "id": "7584c717",
   "metadata": {},
   "outputs": [],
   "source": [
    "hor_pointcloud = sample_multiple_meshes(hor_patches)\n",
    "ver_pointcloud = sample_multiple_meshes(ver_patches)\n",
    "\n"
   ]
  },
  {
   "cell_type": "code",
   "execution_count": 18,
   "id": "b6574aa8",
   "metadata": {},
   "outputs": [],
   "source": [
    "def mesh_correspondance(mesh1, mesh2, orientation):\n",
    "    o = {\n",
    "  \"vertical\": 0,\n",
    "  \"horizontal\": 1}\n",
    "    \n",
    "    bb1 = mesh1.get_oriented_bounding_box()\n",
    "    bb2 = mesh2.get_oriented_bounding_box()\n",
    "    bb1_min = bb1.get_min_bound()\n",
    "    bb1_max = bb1.get_max_bound()\n",
    "    bb2_min = bb2.get_min_bound()\n",
    "    bb2_max = bb2.get_max_bound()\n",
    "    \n",
    "    \n",
    "    if (bb1_min[o[orientation]] < bb2_min[o[orientation]] < bb1_max[o[orientation]]):\n",
    "        return True\n",
    "    if (bb1_min[o[orientation]] < bb2_max[o[orientation]] < bb1_max[o[orientation]]):\n",
    "        return True\n",
    "    if (bb2_min[o[orientation]] < bb1_min[o[orientation]] < bb2_max[o[orientation]]):\n",
    "        return True\n",
    "    if (bb2_min[o[orientation]] < bb1_max[o[orientation]] < bb2_max[o[orientation]]):\n",
    "        return True\n",
    "    \n",
    "    return False\n",
    "    "
   ]
  },
  {
   "cell_type": "code",
   "execution_count": 19,
   "id": "e783e55d",
   "metadata": {},
   "outputs": [],
   "source": [
    "def mesh_correspondance2(mesh1, mesh2, orientation):\n",
    "    o = {\n",
    "  \"vertical\": 0,\n",
    "  \"horizontal\": 1}\n",
    "    \n",
    "    bb1 = mesh1.get_oriented_bounding_box()\n",
    "    bb2 = mesh2.get_oriented_bounding_box()\n",
    "    bb1_min = bb1.get_min_bound()\n",
    "    bb1_max = bb1.get_max_bound()\n",
    "    bb2_min = bb2.get_min_bound()\n",
    "    bb2_max = bb2.get_max_bound()\n",
    "    bb1_center = bb1.get_center()[o[orientation]]\n",
    "    bb2_center = bb2.get_center()[o[orientation]]\n",
    "    \n",
    "    \n",
    "    if (np.abs(bb1_center-bb2_center)< 0.8):\n",
    "        return False\n",
    "    print(\"dist between planes: \", np.abs(bb1_center-bb2_center))\n",
    "    if (bb1_min[o[orientation]] < bb2_center < bb1_max[o[orientation]]):\n",
    "        \n",
    "        if (bb2_min[o[orientation]] < bb1_center < bb2_max[o[orientation]]):\n",
    "            return True\n",
    "    \n",
    "    \n",
    "    return False\n",
    "    "
   ]
  },
  {
   "cell_type": "code",
   "execution_count": 20,
   "id": "4b83ceee",
   "metadata": {},
   "outputs": [
    {
     "name": "stdout",
     "output_type": "stream",
     "text": [
      "dist between planes:  0.8263770303039729\n",
      "dist between planes:  2.4390972960331068\n",
      "dist between planes:  2.2957131410392644\n",
      "dist between planes:  2.6140895072885\n",
      "dist between planes:  2.7898375752444826\n",
      "dist between planes:  2.90196346506418\n",
      "dist between planes:  1.9657157479858012\n",
      "dist between planes:  1.2523177549372106\n",
      "dist between planes:  9.964103376849556\n",
      "dist between planes:  2.1254750341782085\n",
      "dist between planes:  3.40525489109332\n",
      "dist between planes:  10.39069042256391\n",
      "dist between planes:  3.056210034581758\n",
      "dist between planes:  2.9128258795879156\n",
      "dist between planes:  3.231202245837151\n",
      "dist between planes:  3.406950313793134\n",
      "dist between planes:  3.5190762036128316\n",
      "dist between planes:  2.582828486534453\n",
      "dist between planes:  10.581216115398206\n",
      "dist between planes:  2.7425877727268597\n",
      "dist between planes:  2.788142152544668\n",
      "dist between planes:  11.00780316111256\n",
      "dist between planes:  3.26547432633708\n",
      "dist between planes:  3.1220901713432374\n",
      "dist between planes:  3.440466537592473\n",
      "dist between planes:  3.6162146055484556\n",
      "dist between planes:  3.728340495368153\n",
      "dist between planes:  2.792092778289774\n",
      "dist between planes:  10.790480407153527\n",
      "dist between planes:  2.9518520644821815\n",
      "dist between planes:  2.5788778607893468\n",
      "dist between planes:  11.217067452867884\n",
      "dist between planes:  3.051532081916814\n",
      "dist between planes:  2.817336929503596\n",
      "dist between planes:  3.1599465322436724\n",
      "dist between planes:  3.6914150509703174\n",
      "dist between planes:  7.525006080816448\n",
      "dist between planes:  5.844352187126427\n",
      "dist between planes:  7.951593126530803\n",
      "dist between planes:  2.9081479269229717\n",
      "dist between planes:  2.6739527745097535\n",
      "dist between planes:  3.01656237724983\n",
      "dist between planes:  3.548030895976475\n",
      "dist between planes:  7.668390235810291\n",
      "dist between planes:  5.700968032132584\n",
      "dist between planes:  8.094977281524645\n",
      "dist between planes:  3.2265242931722073\n",
      "dist between planes:  3.40227236112819\n",
      "dist between planes:  3.5143982509478873\n",
      "dist between planes:  2.5781505338695085\n",
      "dist between planes:  10.576538162733263\n",
      "dist between planes:  2.737909820061916\n",
      "dist between planes:  2.7928201052096124\n",
      "dist between planes:  11.003125208447617\n",
      "dist between planes:  2.992329140758989\n",
      "dist between planes:  3.3349387434990656\n",
      "dist between planes:  3.8664072622257106\n",
      "dist between planes:  7.350013869561055\n",
      "dist between planes:  6.01934439838182\n",
      "dist between planes:  7.776600915275409\n",
      "dist between planes:  3.168077208714972\n",
      "dist between planes:  3.2802030985346695\n",
      "dist between planes:  2.343955381456291\n",
      "dist between planes:  0.8740781214667213\n",
      "dist between planes:  10.342343010320045\n",
      "dist between planes:  2.5037146676486977\n",
      "dist between planes:  3.02701525762283\n",
      "dist between planes:  10.7689300560344\n",
      "dist between planes:  3.5106868114550482\n",
      "dist between planes:  3.6228127012747455\n",
      "dist between planes:  2.686564984196367\n",
      "dist between planes:  10.684952613060121\n",
      "dist between planes:  2.846324270388774\n",
      "dist between planes:  2.684405654882754\n",
      "dist between planes:  11.111539658774475\n",
      "dist between planes:  0.8241218272586814\n",
      "dist between planes:  4.042155330181693\n",
      "dist between planes:  7.174265801605072\n",
      "dist between planes:  6.195092466337803\n",
      "dist between planes:  7.600852847319427\n",
      "dist between planes:  0.9362477170783787\n",
      "dist between planes:  4.1542812200013906\n",
      "dist between planes:  7.062139911785375\n",
      "dist between planes:  6.3072183561575\n",
      "dist between planes:  7.48872695749973\n",
      "dist between planes:  3.218033502923012\n",
      "dist between planes:  7.998387628863754\n",
      "dist between planes:  5.370970639079121\n",
      "dist between planes:  8.42497467457811\n",
      "dist between planes:  11.216421131786767\n",
      "dist between planes:  3.377792789115419\n",
      "dist between planes:  2.152937136156109\n",
      "dist between planes:  11.64300817750112\n",
      "dist between planes:  7.838628342671347\n",
      "dist between planes:  13.369358267942875\n",
      "dist between planes:  5.530729925271528\n",
      "dist between planes:  8.265215388385702\n",
      "dist between planes:  13.79594531365723\n",
      "\u001b[1;33m[Open3D WARNING] GLFW Error: GLX: Failed to create context: BadValue (integer parameter out of range for operation)\u001b[0;m\n",
      "\u001b[1;33m[Open3D WARNING] Failed to create window\u001b[0;m\n",
      "\u001b[1;33m[Open3D WARNING] [DrawGeometries] Failed creating OpenGL window.\u001b[0;m\n"
     ]
    }
   ],
   "source": [
    "corr = []\n",
    "for patch in hor_patches:\n",
    "    bb1 = patch.get_oriented_bounding_box()\n",
    "    \n",
    "    bb1_min = bb1.get_min_bound()\n",
    "    bb1_max = bb1.get_max_bound()\n",
    "    \n",
    "for i in range(len(hor_patches)):\n",
    "    mesh1 = hor_patches[i]\n",
    "    for j in range(i+1,len(hor_patches)):\n",
    "        mesh2 = hor_patches[j]\n",
    "        if (mesh_correspondance2(mesh1, mesh2, \"horizontal\")):\n",
    "            \n",
    "            part1 = mesh1.sample_points_poisson_disk(number_of_points=2000)\n",
    "            part2 = mesh2.sample_points_poisson_disk(number_of_points=2000)\n",
    "\n",
    "            n_points1 = len(part1.points)\n",
    "            n_points2 = len(part2.points)\n",
    "            line_points1 = [np.random.randint(n_points1) for i in range(0,n_points1,10)]\n",
    "            line_points2 = [np.random.randint(n_points2) for i in range(0,n_points2,10)]\n",
    "            lineset1 = o3d.geometry.LineSet.create_from_point_cloud_correspondences(part1, part2, list(zip(line_points1, line_points2)))\n",
    "            corr.append(lineset1)\n",
    "o3d.visualization.draw_geometries(corr)"
   ]
  },
  {
   "cell_type": "code",
   "execution_count": 21,
   "id": "5bb0331f",
   "metadata": {},
   "outputs": [
    {
     "name": "stdout",
     "output_type": "stream",
     "text": [
      "dist between planes:  41.37495197412685\n",
      "dist between planes:  10.98269032591486\n",
      "dist between planes:  3.678962039465869\n",
      "dist between planes:  8.204659917309941\n",
      "dist between planes:  30.392261648211992\n",
      "dist between planes:  45.05391401359272\n",
      "dist between planes:  33.170292056816905\n",
      "dist between planes:  40.66643781145024\n",
      "dist between planes:  14.661652365380728\n",
      "dist between planes:  2.778030408604918\n",
      "dist between planes:  10.274176163238243\n",
      "dist between planes:  11.88362195677581\n",
      "dist between planes:  4.387476202142485\n",
      "dist between planes:  7.496145754633325\n",
      "\u001b[1;33m[Open3D WARNING] GLFW Error: GLX: Failed to create context: BadValue (integer parameter out of range for operation)\u001b[0;m\n",
      "\u001b[1;33m[Open3D WARNING] Failed to create window\u001b[0;m\n",
      "\u001b[1;33m[Open3D WARNING] [DrawGeometries] Failed creating OpenGL window.\u001b[0;m\n"
     ]
    }
   ],
   "source": [
    "for patch in ver_patches:\n",
    "    bb1 = patch.get_oriented_bounding_box()\n",
    "    \n",
    "    bb1_min = bb1.get_min_bound()\n",
    "    bb1_max = bb1.get_max_bound()\n",
    "    \n",
    "for i in range(len(ver_patches)):\n",
    "    mesh1 = ver_patches[i]\n",
    "    for j in range(i+1,len(ver_patches)):\n",
    "        mesh2 = ver_patches[j]\n",
    "        if (mesh_correspondance2(mesh1, mesh2, \"vertical\")):\n",
    "            part1 = mesh1.sample_points_poisson_disk(number_of_points=2000)\n",
    "            part2 = mesh2.sample_points_poisson_disk(number_of_points=2000)\n",
    "\n",
    "            n_points1 = len(part1.points)\n",
    "            n_points2 = len(part2.points)\n",
    "            line_points1 = [np.random.randint(n_points1) for i in range(0,n_points1,10)]\n",
    "            line_points2 = [np.random.randint(n_points2) for i in range(0,n_points2,10)]\n",
    "            lineset1 = o3d.geometry.LineSet.create_from_point_cloud_correspondences(part1, part2, list(zip(line_points1, line_points2)))\n",
    "            corr.append(lineset1)\n",
    "o3d.visualization.draw_geometries(corr)"
   ]
  },
  {
   "cell_type": "code",
   "execution_count": 22,
   "id": "d532bb31",
   "metadata": {},
   "outputs": [
    {
     "name": "stdout",
     "output_type": "stream",
     "text": [
      "\u001b[1;33m[Open3D WARNING] GLFW Error: GLX: Failed to create context: BadValue (integer parameter out of range for operation)\u001b[0;m\n",
      "\u001b[1;33m[Open3D WARNING] Failed to create window\u001b[0;m\n",
      "\u001b[1;33m[Open3D WARNING] [DrawGeometries] Failed creating OpenGL window.\u001b[0;m\n"
     ]
    }
   ],
   "source": [
    "o3d.visualization.draw_geometries(hor_patches)"
   ]
  },
  {
   "cell_type": "code",
   "execution_count": 23,
   "id": "e3f07311",
   "metadata": {},
   "outputs": [
    {
     "name": "stdout",
     "output_type": "stream",
     "text": [
      "\u001b[1;33m[Open3D WARNING] GLFW Error: GLX: Failed to create context: BadValue (integer parameter out of range for operation)\u001b[0;m\n",
      "\u001b[1;33m[Open3D WARNING] Failed to create window\u001b[0;m\n",
      "\u001b[1;33m[Open3D WARNING] [DrawGeometries] Failed creating OpenGL window.\u001b[0;m\n"
     ]
    }
   ],
   "source": [
    "n_points1 = len(hor_pointcloud.points)\n",
    "line_points1 = [(np.random.randint(n_points1), np.random.randint(n_points1)) for i in range(0,n_points1,10)]\n",
    "lineset1 = o3d.geometry.LineSet.create_from_point_cloud_correspondences(hor_pointcloud, hor_pointcloud, line_points1)\n",
    "o3d.visualization.draw_geometries([lineset1])"
   ]
  }
 ],
 "metadata": {
  "kernelspec": {
   "display_name": "Python 3 (ipykernel)",
   "language": "python",
   "name": "python3"
  },
  "language_info": {
   "codemirror_mode": {
    "name": "ipython",
    "version": 3
   },
   "file_extension": ".py",
   "mimetype": "text/x-python",
   "name": "python",
   "nbconvert_exporter": "python",
   "pygments_lexer": "ipython3",
   "version": "3.8.10"
  }
 },
 "nbformat": 4,
 "nbformat_minor": 5
}
