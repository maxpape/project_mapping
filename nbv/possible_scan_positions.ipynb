{
 "cells": [
  {
   "cell_type": "code",
   "execution_count": 1,
   "id": "4242cd87",
   "metadata": {},
   "outputs": [
    {
     "name": "stdout",
     "output_type": "stream",
     "text": [
      "Jupyter environment detected. Enabling Open3D WebVisualizer.\n",
      "[Open3D INFO] WebRTC GUI backend enabled.\n",
      "[Open3D INFO] WebRTCWindowSystem: HTTP handshake server disabled.\n"
     ]
    }
   ],
   "source": [
    "import open3d as o3d\n",
    "import numpy as np\n",
    "import copy as cp\n",
    "import open3d.core as o3c\n",
    "import matplotlib.pyplot as plt\n",
    "import pyransac3d as pyrsc\n",
    "from scipy.spatial.transform import Rotation\n",
    "from iteration_utilities import deepflatten"
   ]
  },
  {
   "cell_type": "code",
   "execution_count": 2,
   "id": "86d24068",
   "metadata": {},
   "outputs": [],
   "source": [
    "#load pcd file, filter, downsample\n",
    "pcdn = o3d.io.read_point_cloud(\"loop.pcd\")\n",
    "pcdn.estimate_normals()\n",
    "cl, ind = pcdn.remove_statistical_outlier(nb_neighbors=20,\n",
    "                                                    std_ratio=0.8)\n",
    "\n",
    "pcd = pcdn.select_by_index(ind)\n",
    "pcd = pcd.voxel_down_sample(voxel_size=0.1)\n",
    "pcd.estimate_normals()\n",
    "pcd.orient_normals_consistent_tangent_plane(40)\n",
    "o3d.visualization.draw_geometries([pcd])"
   ]
  },
  {
   "cell_type": "code",
   "execution_count": 3,
   "id": "b3c9bfd0",
   "metadata": {},
   "outputs": [],
   "source": [
    "def create_cuboid(plane_eq):\n",
    "    # Extract the coefficients A, B, C, and D from the plane equations\n",
    "    A1, B1, C1, D1 = plane_eq[0]\n",
    "    A2, B2, C2, D2 = plane_eq[1]\n",
    "    A3, B3, C3, D3 = plane_eq[2]\n",
    "\n",
    "    # Calculate the intersection lines between the planes\n",
    "    line1 = np.cross([A1, B1, C1], [A2, B2, C2])\n",
    "    line2 = np.cross([A2, B2, C2], [A3, B3, C3])\n",
    "    line3 = np.cross([A3, B3, C3], [A1, B1, C1])\n",
    "\n",
    "    # Calculate the corner points of the cuboid\n",
    "    corner_points = []\n",
    "    for i in range(2):\n",
    "        for j in range(2):\n",
    "            for k in range(2):\n",
    "                corner_point = (\n",
    "                    line1 * i / np.linalg.norm(line1) +\n",
    "                    line2 * j / np.linalg.norm(line2) +\n",
    "                    line3 * k / np.linalg.norm(line3)\n",
    "                )\n",
    "                corner_points.append(corner_point)\n",
    "\n",
    "    return corner_points"
   ]
  },
  {
   "cell_type": "code",
   "execution_count": 4,
   "id": "3caea095",
   "metadata": {},
   "outputs": [],
   "source": [
    "points = np.asarray(pcd.points) # Load your point cloud as a numpy array (N, 3)\n",
    "\n",
    "cube1 = pyrsc.Cuboid()\n",
    "best_eq, best_inliers = cube1.fit(points, thresh=0.1, maxIteration=5000)\n",
    "box_points = create_cuboid(best_eq)\n",
    "\n",
    "o3d_box_points = o3d.utility.Vector3dVector(box_points)\n"
   ]
  },
  {
   "cell_type": "code",
   "execution_count": 5,
   "id": "80e1af83",
   "metadata": {},
   "outputs": [
    {
     "name": "stdout",
     "output_type": "stream",
     "text": [
      "[[-0.01775066  0.00841708  0.99980701  0.62060831]\n",
      " [-0.02535879 -0.99964668  0.0079655  -1.66161568]\n",
      " [ 0.99952081 -0.0252125   0.01795784  5.25616302]]\n"
     ]
    }
   ],
   "source": [
    "print(best_eq)\n",
    "test = o3d.geometry.OrientedBoundingBox.create_from_points(o3d_box_points)\n",
    "test.color = (1,0,0)\n",
    "part_pcd = pcd.select_by_index(best_inliers)\n",
    "part_pcd.paint_uniform_color((1,0,0))\n",
    "\n",
    "o3d.visualization.draw_geometries([pcd, part_pcd, test])"
   ]
  },
  {
   "cell_type": "code",
   "execution_count": 6,
   "id": "ac15a2cf",
   "metadata": {},
   "outputs": [
    {
     "name": "stdout",
     "output_type": "stream",
     "text": [
      "Detected 36 patches\n"
     ]
    }
   ],
   "source": [
    "oboxes = pcd.detect_planar_patches(\n",
    "normal_variance_threshold_deg=50,\n",
    "coplanarity_deg=85,\n",
    "outlier_ratio=0.75,\n",
    "min_plane_edge_length=1,\n",
    "min_num_points=10,\n",
    "search_param=o3d.geometry.KDTreeSearchParamKNN(knn=50))\n",
    "\n",
    "print(\"Detected {} patches\".format(len(oboxes)))\n",
    "\n",
    "geometries = []\n",
    "for obox in oboxes:\n",
    "\n",
    "    mesh = o3d.geometry.TriangleMesh.create_from_oriented_bounding_box(obox, scale=[1, 1, 0.0001])\n",
    "    mesh.paint_uniform_color(obox.color)\n",
    "    mesh.compute_triangle_normals()\n",
    "    mesh.compute_vertex_normals()\n",
    "    normals = np.asarray(mesh.vertex_normals)\n",
    "\n",
    "    \n",
    "    geometries.append(mesh)\n",
    "    geometries.append(obox)\n",
    "\n",
    "#o3d.visualization.draw_geometries(geometries + [boundarys.to_legacy()])\n",
    "o3d.visualization.draw_geometries([pcd] + geometries)"
   ]
  },
  {
   "cell_type": "code",
   "execution_count": 15,
   "id": "1812819a",
   "metadata": {},
   "outputs": [],
   "source": [
    "def filter_by_normal(pcd):\n",
    "    ind = []\n",
    "    for i in range(len(pcd.points)):\n",
    "        if ((np.abs(pcd.normals[i][2]) < 0.3) and ((np.abs(pcd.normals[i][0]) > 0.8) or (np.abs(pcd.normals[i][1]) > 0.8))):\n",
    "            pcd.points[i][2] = np.random.rand()*0.1\n",
    "            pass\n",
    "        else:\n",
    "            ind.append(i)\n",
    "    result = pcd.select_by_index(ind, invert=True)\n",
    "    return result"
   ]
  },
  {
   "cell_type": "code",
   "execution_count": 16,
   "id": "c1965944",
   "metadata": {},
   "outputs": [],
   "source": [
    "filtered_pcd = filter_by_normal(pcd)\n",
    "voxel_grid = o3d.geometry.VoxelGrid.create_from_point_cloud(filtered_pcd, 0.1)\n",
    "o3d.visualization.draw_geometries([voxel_grid])\n",
    "\n",
    "#print(np.asarray(filtered_pcd.points[0:10]))\n"
   ]
  },
  {
   "cell_type": "code",
   "execution_count": 9,
   "id": "a7e860ce",
   "metadata": {},
   "outputs": [],
   "source": [
    "def create_box_at_point(point):\n",
    "    \n",
    "    box = o3d.geometry.TriangleMesh.create_box(0.1,0.1,0.1)\n",
    "    box.paint_uniform_color([0,1,0])\n",
    "    \n",
    "    box.translate(point, False)\n",
    "    \n",
    "    \n",
    "    return box\n",
    "    "
   ]
  },
  {
   "cell_type": "code",
   "execution_count": 10,
   "id": "e7b13434",
   "metadata": {},
   "outputs": [],
   "source": [
    "def get_points_on_line(point1, point2, distance):\n",
    "    # Calculate the direction vector of the line\n",
    "    direction_vector = point2 - point1\n",
    "\n",
    "    # Calculate the length of the line\n",
    "    line_length = np.linalg.norm(direction_vector)\n",
    "\n",
    "    # Calculate the number of points based on the given distance\n",
    "    num_points = int(line_length / distance) + 1\n",
    "\n",
    "    # Calculate the step size between each point\n",
    "    if (num_points <= 1):\n",
    "        num_points += 1\n",
    "    step_size = 1.0 / (num_points - 1)\n",
    "\n",
    "    # Calculate the parameter values for each point on the line\n",
    "    parameters = np.arange(0, 1 + step_size, step_size)\n",
    "\n",
    "    # Calculate the points on the line using the parameter values\n",
    "    points = [point1 + parameter * direction_vector for parameter in parameters]\n",
    "\n",
    "    return points"
   ]
  },
  {
   "cell_type": "code",
   "execution_count": 17,
   "id": "d0434844",
   "metadata": {},
   "outputs": [],
   "source": [
    "n_points = len(filtered_pcd.points)\n",
    "line_points = [(np.random.randint(n_points), np.random.randint(n_points)) for i in range(0,n_points,10)]\n",
    "lineset = o3d.geometry.LineSet.create_from_point_cloud_correspondences(filtered_pcd, filtered_pcd, line_points)\n",
    "\n",
    "#o3d.visualization.draw_geometries([lineset])\n",
    "boxes = []\n",
    "indexes = []\n",
    "intersection_points = []\n",
    "int_points = o3d.geometry.PointCloud()\n",
    "for i in range(len(line_points)):\n",
    "    p1 = lineset.get_line_coordinate(i)[0]\n",
    "    p2 = lineset.get_line_coordinate(i)[1]\n",
    "  \n",
    "    linepoints = get_points_on_line(p1,p2,0.1)\n",
    "\n",
    "    lp_o3d = o3d.utility.Vector3dVector(linepoints)\n",
    "\n",
    "    is_included = voxel_grid.check_if_included(lp_o3d)\n",
    "\n",
    "    \n",
    "    for bl,x in zip(is_included, range(len(is_included))):\n",
    "        if bl:\n",
    "            indexes.append(voxel_grid.get_voxel(lp_o3d[x]))\n",
    "\n",
    "    intersection_points.append([linepoints[x] for x in range(len(linepoints))  if not  is_included[x]] )\n",
    "\n",
    "intersection_points = list(deepflatten(intersection_points, depth=1))\n",
    "\n",
    "int_points.points.extend(o3d.utility.Vector3dVector(intersection_points))  \n",
    "   \n",
    "\n",
    "o3d.visualization.draw_geometries([voxel_grid] + [int_points])"
   ]
  },
  {
   "cell_type": "code",
   "execution_count": 39,
   "id": "01d76ab2",
   "metadata": {},
   "outputs": [
    {
     "name": "stdout",
     "output_type": "stream",
     "text": [
      "Detected 14 patches\n"
     ]
    }
   ],
   "source": [
    "oboxes = filtered_pcd.detect_planar_patches(\n",
    "normal_variance_threshold_deg=50,\n",
    "coplanarity_deg=85,\n",
    "outlier_ratio=0.75,\n",
    "min_plane_edge_length=2,\n",
    "min_num_points=10,\n",
    "search_param=o3d.geometry.KDTreeSearchParamKNN(knn=50))\n",
    "\n",
    "print(\"Detected {} patches\".format(len(oboxes)))\n",
    "\n",
    "geometries = []\n",
    "for obox in oboxes:\n",
    "\n",
    "    mesh = o3d.geometry.TriangleMesh.create_from_oriented_bounding_box(obox, scale=[1, 1, 0.0001])\n",
    "    mesh.paint_uniform_color(obox.color)\n",
    "    mesh.compute_triangle_normals()\n",
    "    mesh.compute_vertex_normals()\n",
    "    normals = np.asarray(mesh.vertex_normals)\n",
    "\n",
    "    \n",
    "    geometries.append(mesh)\n",
    "    geometries.append(obox)\n",
    "\n",
    "#o3d.visualization.draw_geometries(geometries + [boundarys.to_legacy()])\n",
    "o3d.visualization.draw_geometries(geometries+[int_points])"
   ]
  }
 ],
 "metadata": {
  "kernelspec": {
   "display_name": "Python 3 (ipykernel)",
   "language": "python",
   "name": "python3"
  },
  "language_info": {
   "codemirror_mode": {
    "name": "ipython",
    "version": 3
   },
   "file_extension": ".py",
   "mimetype": "text/x-python",
   "name": "python",
   "nbconvert_exporter": "python",
   "pygments_lexer": "ipython3",
   "version": "3.8.10"
  }
 },
 "nbformat": 4,
 "nbformat_minor": 5
}
