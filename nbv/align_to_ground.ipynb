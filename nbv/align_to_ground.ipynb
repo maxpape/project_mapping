{
 "cells": [
  {
   "cell_type": "code",
   "execution_count": 62,
   "id": "d5ededf1",
   "metadata": {},
   "outputs": [],
   "source": [
    "import open3d as o3d\n",
    "import numpy as np\n",
    "import multiprocessing as mp\n",
    "from multiprocessing import Pool\n",
    "import copy as cp\n",
    "import open3d.core as o3c\n",
    "import matplotlib.pyplot as plt\n",
    "import pyransac3d as pyrsc\n",
    "import time\n",
    "\n",
    "from scipy.spatial.transform import Rotation\n",
    "from iteration_utilities import deepflatten\n",
    "from mpl_toolkits.mplot3d import Axes3D"
   ]
  },
  {
   "cell_type": "code",
   "execution_count": null,
   "id": "bae41be8",
   "metadata": {},
   "outputs": [],
   "source": []
  },
  {
   "cell_type": "code",
   "execution_count": 63,
   "id": "4676514f",
   "metadata": {},
   "outputs": [],
   "source": [
    "#load pcd file, filter, downsample\n",
    "pcd = o3d.io.read_point_cloud(\"final_cropped.pcd\")\n",
    "pcd_flat = o3d.io.read_point_cloud(\"pcd_flat.pcd\")\n",
    "pcd_flat.paint_uniform_color([0,1,0])\n",
    "pcd.estimate_normals()\n",
    "#pcd.orient_normals_consistent_tangent_plane(40)\n",
    "o3d.visualization.draw_geometries([pcd_flat])\n"
   ]
  },
  {
   "cell_type": "code",
   "execution_count": 64,
   "id": "81cd8082",
   "metadata": {},
   "outputs": [],
   "source": [
    "def detect_ground_plane(pcd):\n",
    "    plane_model, inliers = pcd.segment_plane(distance_threshold=0.01,\n",
    "                                         ransac_n=3,\n",
    "                                         num_iterations=1000)\n",
    "    \n",
    "    return plane_model, inliers\n",
    "    \n",
    "    "
   ]
  },
  {
   "cell_type": "code",
   "execution_count": 65,
   "id": "8b96f15f",
   "metadata": {},
   "outputs": [],
   "source": [
    "def compute_plane_transformation(plane1, plane2):\n",
    "    \"\"\"\n",
    "    Computes the transformation between two plane equations of the form ax + by + cz + d = 0.\n",
    "\n",
    "    Args:\n",
    "        plane1 (tuple): Coefficients of the first plane equation (a1, b1, c1, d1).\n",
    "        plane2 (tuple): Coefficients of the second plane equation (a2, b2, c2, d2).\n",
    "\n",
    "    Returns:\n",
    "        np.ndarray: A 4x4 transformation matrix.\n",
    "    \"\"\"\n",
    "    # Extract coefficients of the first plane equation\n",
    "    a1, b1, c1, d1 = plane1\n",
    "\n",
    "    # Extract coefficients of the second plane equation\n",
    "    a2, b2, c2, d2 = plane2\n",
    "\n",
    "    # Compute the transformation matrix coefficients\n",
    "    a = a2 * a1 + b2 * b1 + c2 * c1\n",
    "    b = a2 * d1 - a1 * d2\n",
    "    c = b2 * d1 - b1 * d2\n",
    "    d = c2 * d1 - c1 * d2\n",
    "\n",
    "    transformation_matrix = np.array([[a, 0, 0, b],\n",
    "                                      [0, a, 0, c],\n",
    "                                      [0, 0, a, d],\n",
    "                                      [0, 0, 0, 1]])\n",
    "\n",
    "    return transformation_matrix"
   ]
  },
  {
   "cell_type": "code",
   "execution_count": 66,
   "id": "35908c71",
   "metadata": {},
   "outputs": [],
   "source": [
    "def calculate_floor_alignment_matrix(pcd_ground_plane):\n",
    "    a, b, c, d = pcd_ground_plane\n",
    "    d = -d\n",
    "    # Calculate the normal vector of the plane\n",
    "    plane_normal = np.array([a, b, c])\n",
    "\n",
    "    # Find the z-axis (floor normal) of the transformed coordinate system\n",
    "    z_axis = plane_normal / np.linalg.norm(plane_normal)\n",
    "\n",
    "    # Define the x-axis (assuming it points in the direction of the original x-axis)\n",
    "    x_axis = np.array([1, 0, 0])\n",
    "\n",
    "    # Calculate the y-axis (cross product of z_axis and x_axis)\n",
    "    y_axis = np.cross(z_axis, x_axis)\n",
    "    y_axis /= np.linalg.norm(y_axis)\n",
    "\n",
    "    # Calculate the new x-axis (cross product of y_axis and z_axis)\n",
    "    x_axis = np.cross(y_axis, z_axis)\n",
    "    x_axis /= np.linalg.norm(x_axis)\n",
    "\n",
    "    # Construct the transformation matrix\n",
    "    transform_matrix = np.eye(4)\n",
    "    transform_matrix[0, :3] = x_axis\n",
    "    transform_matrix[1, :3] = y_axis\n",
    "    transform_matrix[2, :3] = z_axis\n",
    "\n",
    "    # Find the translation component to align the point cloud with the plane\n",
    "    centroid_on_plane = -plane_normal * (d / np.linalg.norm(plane_normal))\n",
    "    transform_matrix[:3, 3] = centroid_on_plane\n",
    "\n",
    "    return transform_matrix"
   ]
  },
  {
   "cell_type": "code",
   "execution_count": 67,
   "id": "0db24ec8",
   "metadata": {},
   "outputs": [
    {
     "name": "stdout",
     "output_type": "stream",
     "text": [
      "[[ 9.99558991e-01  7.41309839e-04  2.96862533e-02 -1.49097932e-02]\n",
      " [ 0.00000000e+00  9.99688358e-01 -2.49637031e-02  1.25284777e-02]\n",
      " [-2.96955077e-02  2.49526939e-02  9.99247487e-01  5.01711355e-01]\n",
      " [ 0.00000000e+00  0.00000000e+00  0.00000000e+00  1.00000000e+00]]\n"
     ]
    }
   ],
   "source": [
    "ground_plane = np.asarray([0,0,1,0])\n",
    "pcd_ground_plane, inliers = detect_ground_plane(pcd)\n",
    "inlier_cloud = pcd.select_by_index(inliers)\n",
    "inlier_cloud.paint_uniform_color([1.0, 0, 0])\n",
    "\n",
    "#trans = compute_plane_transformation(ground_plane, pcd_ground_plane)\n",
    "trans = calculate_floor_alignment_matrix(pcd_ground_plane)\n",
    "print(trans)\n",
    "test = cp.deepcopy(pcd)\n",
    "pcd_t = test.transform(trans)\n",
    "\n",
    "o3d.visualization.draw_geometries([pcd_t, pcd_flat])"
   ]
  },
  {
   "cell_type": "code",
   "execution_count": 68,
   "id": "f8c4645e",
   "metadata": {},
   "outputs": [],
   "source": [
    "#o3d.io.write_point_cloud(\"corridor_ground_align.pcd\", pcd_t)"
   ]
  },
  {
   "cell_type": "code",
   "execution_count": 69,
   "id": "59c46ee3",
   "metadata": {},
   "outputs": [
    {
     "name": "stdout",
     "output_type": "stream",
     "text": [
      "[-47.  -3.  -2.] [ 3.         10.16708183  3.        ]\n"
     ]
    }
   ],
   "source": [
    "bb = pcd_t.get_axis_aligned_bounding_box()\n",
    "min_bound = bb.get_min_bound()\n",
    "max_bound = bb.get_max_bound()\n",
    "\n",
    "min_bound[0] = -47\n",
    "min_bound[1] = -3\n",
    "min_bound[2] = - 2\n",
    "\n",
    "max_bound[0] = 3\n",
    "#max_bound[1] =\n",
    "max_bound[2] = 3\n",
    "print(min_bound, max_bound)\n",
    "\n",
    "pcd_new = cp.deepcopy(pcd_t)\n",
    "crob_bb = o3d.geometry.AxisAlignedBoundingBox(min_bound, max_bound)\n",
    "pcd_new = pcd_new.crop(crob_bb)\n",
    "\n",
    "\n",
    "o3d.visualization.draw_geometries([pcd_new, pcd_flat])"
   ]
  },
  {
   "cell_type": "code",
   "execution_count": 70,
   "id": "830455a5",
   "metadata": {},
   "outputs": [
    {
     "data": {
      "text/plain": [
       "True"
      ]
     },
     "execution_count": 70,
     "metadata": {},
     "output_type": "execute_result"
    }
   ],
   "source": [
    "o3d.io.write_point_cloud(\"final_cropped_ground_align2.pcd\", pcd_t)"
   ]
  }
 ],
 "metadata": {
  "kernelspec": {
   "display_name": "Python 3 (ipykernel)",
   "language": "python",
   "name": "python3"
  },
  "language_info": {
   "codemirror_mode": {
    "name": "ipython",
    "version": 3
   },
   "file_extension": ".py",
   "mimetype": "text/x-python",
   "name": "python",
   "nbconvert_exporter": "python",
   "pygments_lexer": "ipython3",
   "version": "3.8.10"
  }
 },
 "nbformat": 4,
 "nbformat_minor": 5
}
