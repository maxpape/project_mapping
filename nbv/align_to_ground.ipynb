{
 "cells": [
  {
   "cell_type": "code",
   "execution_count": 1,
   "id": "d5ededf1",
   "metadata": {},
   "outputs": [
    {
     "name": "stdout",
     "output_type": "stream",
     "text": [
      "Jupyter environment detected. Enabling Open3D WebVisualizer.\n",
      "[Open3D INFO] WebRTC GUI backend enabled.\n",
      "[Open3D INFO] WebRTCWindowSystem: HTTP handshake server disabled.\n"
     ]
    }
   ],
   "source": [
    "import open3d as o3d\n",
    "import numpy as np\n",
    "import multiprocessing as mp\n",
    "from multiprocessing import Pool\n",
    "import copy as cp\n",
    "import open3d.core as o3c\n",
    "import matplotlib.pyplot as plt\n",
    "import pyransac3d as pyrsc\n",
    "import time\n",
    "import functions\n",
    "\n",
    "from scipy.spatial.transform import Rotation\n",
    "from iteration_utilities import deepflatten\n",
    "from mpl_toolkits.mplot3d import Axes3D"
   ]
  },
  {
   "cell_type": "code",
   "execution_count": null,
   "id": "bae41be8",
   "metadata": {},
   "outputs": [],
   "source": []
  },
  {
   "cell_type": "code",
   "execution_count": 3,
   "id": "4676514f",
   "metadata": {},
   "outputs": [],
   "source": [
    "#load pcd file, filter, downsample\n",
    "pcd = o3d.io.read_point_cloud(\"final_cropped.pcd\")\n",
    "#pcd_flat = o3d.io.read_point_cloud(\"pcd_flat.pcd\")\n",
    "#pcd_flat.paint_uniform_color([0,1,0])\n",
    "pcd.estimate_normals()\n",
    "#pcd.orient_normals_consistent_tangent_plane(40)\n",
    "#o3d.visualization.draw_geometries([pcd_flat])\n"
   ]
  },
  {
   "cell_type": "code",
   "execution_count": 67,
   "id": "0db24ec8",
   "metadata": {},
   "outputs": [
    {
     "name": "stdout",
     "output_type": "stream",
     "text": [
      "[[ 9.99558991e-01  7.41309839e-04  2.96862533e-02 -1.49097932e-02]\n",
      " [ 0.00000000e+00  9.99688358e-01 -2.49637031e-02  1.25284777e-02]\n",
      " [-2.96955077e-02  2.49526939e-02  9.99247487e-01  5.01711355e-01]\n",
      " [ 0.00000000e+00  0.00000000e+00  0.00000000e+00  1.00000000e+00]]\n"
     ]
    }
   ],
   "source": [
    "ground_plane = np.asarray([0,0,1,0])\n",
    "pcd_ground_plane, inliers = functions.detect_ground_plane(pcd)\n",
    "inlier_cloud = pcd.select_by_index(inliers)\n",
    "inlier_cloud.paint_uniform_color([1.0, 0, 0])\n",
    "\n",
    "#trans = compute_plane_transformation(ground_plane, pcd_ground_plane)\n",
    "trans = functions.calculate_floor_alignment_matrix(pcd_ground_plane)\n",
    "print(trans)\n",
    "test = cp.deepcopy(pcd)\n",
    "pcd_t = test.transform(trans)\n",
    "\n",
    "o3d.visualization.draw_geometries([pcd_t, pcd_flat])"
   ]
  },
  {
   "cell_type": "code",
   "execution_count": 68,
   "id": "f8c4645e",
   "metadata": {},
   "outputs": [],
   "source": [
    "#o3d.io.write_point_cloud(\"corridor_ground_align.pcd\", pcd_t)"
   ]
  },
  {
   "cell_type": "code",
   "execution_count": 69,
   "id": "59c46ee3",
   "metadata": {},
   "outputs": [
    {
     "name": "stdout",
     "output_type": "stream",
     "text": [
      "[-47.  -3.  -2.] [ 3.         10.16708183  3.        ]\n"
     ]
    }
   ],
   "source": [
    "bb = pcd_t.get_axis_aligned_bounding_box()\n",
    "min_bound = bb.get_min_bound()\n",
    "max_bound = bb.get_max_bound()\n",
    "\n",
    "min_bound[0] = -47\n",
    "min_bound[1] = -3\n",
    "min_bound[2] = - 2\n",
    "\n",
    "max_bound[0] = 3\n",
    "#max_bound[1] =\n",
    "max_bound[2] = 3\n",
    "print(min_bound, max_bound)\n",
    "\n",
    "pcd_new = cp.deepcopy(pcd_t)\n",
    "crob_bb = o3d.geometry.AxisAlignedBoundingBox(min_bound, max_bound)\n",
    "pcd_new = pcd_new.crop(crob_bb)\n",
    "\n",
    "\n",
    "o3d.visualization.draw_geometries([pcd_new, pcd_flat])"
   ]
  },
  {
   "cell_type": "code",
   "execution_count": 70,
   "id": "830455a5",
   "metadata": {},
   "outputs": [
    {
     "data": {
      "text/plain": [
       "True"
      ]
     },
     "execution_count": 70,
     "metadata": {},
     "output_type": "execute_result"
    }
   ],
   "source": [
    "o3d.io.write_point_cloud(\"final_cropped_ground_align2.pcd\", pcd_t)"
   ]
  }
 ],
 "metadata": {
  "kernelspec": {
   "display_name": "Python 3 (ipykernel)",
   "language": "python",
   "name": "python3"
  },
  "language_info": {
   "codemirror_mode": {
    "name": "ipython",
    "version": 3
   },
   "file_extension": ".py",
   "mimetype": "text/x-python",
   "name": "python",
   "nbconvert_exporter": "python",
   "pygments_lexer": "ipython3",
   "version": "3.8.10"
  }
 },
 "nbformat": 4,
 "nbformat_minor": 5
}
