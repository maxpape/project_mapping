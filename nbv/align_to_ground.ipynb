{
 "cells": [
  {
   "cell_type": "code",
   "execution_count": 1,
   "id": "d5ededf1",
   "metadata": {},
   "outputs": [
    {
     "name": "stdout",
     "output_type": "stream",
     "text": [
      "Jupyter environment detected. Enabling Open3D WebVisualizer.\n",
      "[Open3D INFO] WebRTC GUI backend enabled.\n",
      "[Open3D INFO] WebRTCWindowSystem: HTTP handshake server disabled.\n"
     ]
    }
   ],
   "source": [
    "import open3d as o3d\n",
    "import numpy as np\n",
    "import multiprocessing as mp\n",
    "from multiprocessing import Pool\n",
    "import copy as cp\n",
    "import open3d.core as o3c\n",
    "import matplotlib.pyplot as plt\n",
    "import pyransac3d as pyrsc\n",
    "import time\n",
    "from scipy.spatial.transform import Rotation\n",
    "from iteration_utilities import deepflatten\n",
    "from mpl_toolkits.mplot3d import Axes3D"
   ]
  },
  {
   "cell_type": "code",
   "execution_count": 2,
   "id": "4676514f",
   "metadata": {},
   "outputs": [],
   "source": [
    "#load pcd file, filter, downsample\n",
    "pcd = o3d.io.read_point_cloud(\"final_cropped.pcd\")\n",
    "\n",
    "pcd.estimate_normals()\n",
    "#pcd.orient_normals_consistent_tangent_plane(40)\n",
    "#o3d.visualization.draw_geometries([pcd])\n"
   ]
  },
  {
   "cell_type": "code",
   "execution_count": 3,
   "id": "81cd8082",
   "metadata": {},
   "outputs": [],
   "source": [
    "def detect_ground_plane(pcd):\n",
    "    plane_model, inliers = pcd.segment_plane(distance_threshold=0.01,\n",
    "                                         ransac_n=3,\n",
    "                                         num_iterations=1000)\n",
    "    \n",
    "    return plane_model\n",
    "    \n",
    "    "
   ]
  },
  {
   "cell_type": "code",
   "execution_count": 4,
   "id": "8b96f15f",
   "metadata": {},
   "outputs": [],
   "source": [
    "def compute_plane_transformation(plane1, plane2):\n",
    "    \"\"\"\n",
    "    Computes the transformation between two plane equations of the form ax + by + cz + d = 0.\n",
    "\n",
    "    Args:\n",
    "        plane1 (tuple): Coefficients of the first plane equation (a1, b1, c1, d1).\n",
    "        plane2 (tuple): Coefficients of the second plane equation (a2, b2, c2, d2).\n",
    "\n",
    "    Returns:\n",
    "        np.ndarray: A 4x4 transformation matrix.\n",
    "    \"\"\"\n",
    "    # Extract coefficients of the first plane equation\n",
    "    a1, b1, c1, d1 = plane1\n",
    "\n",
    "    # Extract coefficients of the second plane equation\n",
    "    a2, b2, c2, d2 = plane2\n",
    "\n",
    "    # Compute the transformation matrix coefficients\n",
    "    a = a2 * a1 + b2 * b1 + c2 * c1\n",
    "    b = a2 * d1 - a1 * d2\n",
    "    c = b2 * d1 - b1 * d2\n",
    "    d = c2 * d1 - c1 * d2\n",
    "\n",
    "    transformation_matrix = np.array([[a, 0, 0, b],\n",
    "                                      [0, a, 0, c],\n",
    "                                      [0, 0, a, d],\n",
    "                                      [0, 0, 0, 1]])\n",
    "\n",
    "    return transformation_matrix"
   ]
  },
  {
   "cell_type": "code",
   "execution_count": 5,
   "id": "0db24ec8",
   "metadata": {},
   "outputs": [],
   "source": [
    "ground_plane = np.asarray([0,0,1,0])\n",
    "pcd_ground_plane = detect_ground_plane(pcd)\n",
    "trans = compute_plane_transformation( pcd_ground_plane, ground_plane)\n",
    "\n",
    "pcd_t = cp.deepcopy(pcd).transform(trans)\n",
    "pcd_t.paint_uniform_color((1,0,0))\n",
    "o3d.visualization.draw_geometries([pcd, pcd_t])"
   ]
  },
  {
   "cell_type": "code",
   "execution_count": 6,
   "id": "f8c4645e",
   "metadata": {},
   "outputs": [
    {
     "data": {
      "text/plain": [
       "True"
      ]
     },
     "execution_count": 6,
     "metadata": {},
     "output_type": "execute_result"
    }
   ],
   "source": [
    "o3d.io.write_point_cloud(\"final_cropped_ground_align.pcd\", pcd_t)"
   ]
  }
 ],
 "metadata": {
  "kernelspec": {
   "display_name": "Python 3 (ipykernel)",
   "language": "python",
   "name": "python3"
  },
  "language_info": {
   "codemirror_mode": {
    "name": "ipython",
    "version": 3
   },
   "file_extension": ".py",
   "mimetype": "text/x-python",
   "name": "python",
   "nbconvert_exporter": "python",
   "pygments_lexer": "ipython3",
   "version": "3.8.10"
  }
 },
 "nbformat": 4,
 "nbformat_minor": 5
}
