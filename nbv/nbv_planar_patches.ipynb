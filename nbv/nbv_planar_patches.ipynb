{
 "cells": [
  {
   "cell_type": "code",
   "execution_count": 1,
   "id": "6c234677",
   "metadata": {},
   "outputs": [
    {
     "name": "stdout",
     "output_type": "stream",
     "text": [
      "Jupyter environment detected. Enabling Open3D WebVisualizer.\n",
      "[Open3D INFO] WebRTC GUI backend enabled.\n",
      "[Open3D INFO] WebRTCWindowSystem: HTTP handshake server disabled.\n"
     ]
    }
   ],
   "source": [
    "import open3d as o3d\n",
    "import numpy as np\n",
    "import copy as cp\n",
    "import open3d.core as o3c\n",
    "import matplotlib.pyplot as plt\n",
    "from scipy.spatial.transform import Rotation\n",
    "from iteration_utilities import deepflatten"
   ]
  },
  {
   "cell_type": "code",
   "execution_count": 2,
   "id": "bd60c6fb",
   "metadata": {},
   "outputs": [],
   "source": [
    "#load pcd file, filter, downsample\n",
    "pcdn = o3d.io.read_point_cloud(\"final_cropped.pcd\")\n",
    "pcdn.estimate_normals()\n",
    "cl, ind = pcdn.remove_statistical_outlier(nb_neighbors=20,\n",
    "                                                    std_ratio=0.8)\n",
    "\n",
    "pcd = pcdn.select_by_index(ind)\n",
    "pcd = pcd.voxel_down_sample(voxel_size=0.1)\n",
    "pcd.estimate_normals()\n",
    "pcd.orient_normals_consistent_tangent_plane(40)\n",
    "o3d.visualization.draw_geometries([pcd])"
   ]
  },
  {
   "cell_type": "code",
   "execution_count": 3,
   "id": "2c5a6cca",
   "metadata": {},
   "outputs": [
    {
     "name": "stdout",
     "output_type": "stream",
     "text": [
      "Detect 15121 bnoundary points from 106083 points.\n"
     ]
    }
   ],
   "source": [
    "# detect boundarys in pointcloud\n",
    "\n",
    "test2 = cp.deepcopy(pcd)\n",
    "\n",
    "tensor_pcd = o3d.t.geometry.PointCloud.from_legacy(test2)\n",
    "\n",
    "boundarys, mask = tensor_pcd.compute_boundary_points(0.2, 100, 95)\n",
    "# TODO: not good to get size of points.\n",
    "print(f\"Detect {boundarys.point.positions.shape[0]} bnoundary points from {tensor_pcd.point.positions.shape[0]} points.\")\n",
    "\n",
    "boundarys = boundarys.paint_uniform_color([1.0, 0.0, 0.0])\n",
    "cl, ind = boundarys.to_legacy().remove_radius_outlier(2, 0.2)\n",
    "boundarys = boundarys.select_by_index(ind)\n",
    "\n",
    "\n",
    "o3d.visualization.draw_geometries([tensor_pcd.to_legacy().paint_uniform_color([0, 0, 0.0]), boundarys.to_legacy()])"
   ]
  },
  {
   "cell_type": "code",
   "execution_count": 13,
   "id": "ae2d4e83",
   "metadata": {},
   "outputs": [
    {
     "name": "stdout",
     "output_type": "stream",
     "text": [
      "Detected 126 patches\n"
     ]
    }
   ],
   "source": [
    "# detect patches in boundary points\n",
    "\n",
    "test4 = cp.deepcopy(boundarys.to_legacy())\n",
    "\n",
    "\n",
    "test4.estimate_normals()\n",
    "test4.orient_normals_consistent_tangent_plane(30)\n",
    "\n",
    "\n",
    "n_points = len(test4.points)\n",
    "#o3d.visualization.draw([pcd_down])\n",
    "# using all defaults\n",
    "oboxes = test4.detect_planar_patches(\n",
    "normal_variance_threshold_deg=60,\n",
    "coplanarity_deg=80,\n",
    "outlier_ratio=0.75,\n",
    "min_plane_edge_length=0.2,\n",
    "min_num_points=5,\n",
    "search_param=o3d.geometry.KDTreeSearchParamKNN(knn=50))\n",
    "\n",
    "print(\"Detected {} patches\".format(len(oboxes)))\n",
    "\n",
    "geometries = []\n",
    "for obox in oboxes:\n",
    "\n",
    "    mesh = o3d.geometry.TriangleMesh.create_from_oriented_bounding_box(obox, scale=[1, 1, 0.0001])\n",
    "    mesh.paint_uniform_color(obox.color)\n",
    "    mesh.compute_triangle_normals()\n",
    "    mesh.compute_vertex_normals()\n",
    "    normals = np.asarray(mesh.vertex_normals)\n",
    "\n",
    "    \n",
    "    geometries.append(mesh)\n",
    "    geometries.append(obox)\n",
    "\n",
    "#o3d.visualization.draw_geometries(geometries )\n",
    "#o3d.visualization.draw_geometries([pcd])"
   ]
  },
  {
   "cell_type": "code",
   "execution_count": 5,
   "id": "44ea9292",
   "metadata": {},
   "outputs": [],
   "source": [
    "def select_points_in_bb(pc, bbs, min_points_bb = 0):\n",
    "    pcds = []\n",
    "    bb_new = []\n",
    "    meshes =[]\n",
    "    \n",
    "    for x in bbs:\n",
    "        ind = x.get_point_indices_within_bounding_box(pc.points)\n",
    "        if (len(ind) >= min_points_bb):\n",
    "            tmp = pc.select_by_index(ind)\n",
    "            color = np.random.rand(3,1)\n",
    "            tmp.paint_uniform_color(color)\n",
    "            pcds.append(tmp)\n",
    "            \n",
    "            bb_new.append(x)\n",
    "            \n",
    "            mesh = o3d.geometry.TriangleMesh.create_from_oriented_bounding_box(x, scale=[1, 1, 0.0001])\n",
    "            mesh.paint_uniform_color(color)\n",
    "            mesh.compute_triangle_normals()\n",
    "            mesh.compute_vertex_normals()\n",
    "            meshes.append(mesh)\n",
    "        \n",
    "    return pcds, bb_new, meshes\n"
   ]
  },
  {
   "cell_type": "code",
   "execution_count": 6,
   "id": "d46de24c",
   "metadata": {},
   "outputs": [],
   "source": [
    "def compute_transform(vector1, vector2):\n",
    "    # Normalize the vectors to unit length\n",
    "    vector1 = vector1 / np.linalg.norm(vector1)\n",
    "    vector2 = vector2 / np.linalg.norm(vector2)\n",
    "\n",
    "    # Compute the rotation matrix\n",
    "    rotation_matrix = Rotation.align_vectors([vector1], [vector2])[0].as_matrix()\n",
    "\n",
    "    # Compute the translation vector\n",
    "    translation_vector = vector2 - np.dot(rotation_matrix, vector1)\n",
    "\n",
    "    return translation_vector, rotation_matrix"
   ]
  },
  {
   "cell_type": "code",
   "execution_count": 7,
   "id": "602a3f3e",
   "metadata": {},
   "outputs": [],
   "source": [
    "def check_vector_similar_direction(vec1, vec2):\n",
    "    \n",
    "    # Normalize the vectors\n",
    "    normalized_vec1 = np.array(vec1) / np.linalg.norm(vec1)\n",
    "    normalized_vec2 = np.array(vec2) / np.linalg.norm(vec2)\n",
    "    \n",
    "    # Calculate the dot product\n",
    "    dot_product = np.dot(normalized_vec1, normalized_vec2)\n",
    "    \n",
    "    if (dot_product > 0):\n",
    "        return True\n",
    "    else:\n",
    "        return False"
   ]
  },
  {
   "cell_type": "code",
   "execution_count": 8,
   "id": "8fb84953",
   "metadata": {},
   "outputs": [],
   "source": [
    "def return_normal_arrow_from_plane(mesh, pcd, bb):\n",
    "    mesh_normal = np.asarray(mesh.vertex_normals)[0]\n",
    "    mesh_center = mesh.get_center()\n",
    "    mesh_bb = bb\n",
    "    mesh_dim = np.cbrt(mesh_bb.volume()/mesh_bb.extent[2])\n",
    "    \n",
    "    ind = mesh_bb.get_point_indices_within_bounding_box(pcd.points)\n",
    "    part_pc = pcd.select_by_index(ind)\n",
    "    normals = np.asarray(part_pc.normals)\n",
    "    norm_average = np.average(normals, axis=0)\n",
    "    #print(\"Norm average:\")\n",
    "    #print(norm_average)\n",
    "    \n",
    "    #arrow = o3d.geometry.TriangleMesh.create_arrow(0.1,0.15,0.5,0.3)\n",
    "    arrow = o3d.geometry.TriangleMesh.create_arrow(0.1,0.15,mesh_dim,0.3)\n",
    "    arrow.paint_uniform_color([0,1,0])\n",
    "    arrow_bb = arrow.get_oriented_bounding_box()\n",
    "    arrow.compute_triangle_normals()\n",
    "    arrow.compute_vertex_normals()\n",
    "    arrow_normal = np.asarray(arrow.vertex_normals)[0]\n",
    "\n",
    "    translation, rotation = compute_transform(mesh_normal, arrow_normal)  \n",
    "    \n",
    "    arrow.rotate(rotation)\n",
    "    \n",
    "    arrow.translate(mesh_center, False)\n",
    "    \n",
    "    \n",
    "    arrow_normal = np.asarray(arrow.vertex_normals)[0]\n",
    "    arrow_center = arrow.get_center()\n",
    "    same_dir = check_vector_similar_direction(arrow_normal,norm_average)\n",
    "    R_x = np.asarray([[1, 0, 0],\n",
    "                       [0, -1, 0],\n",
    "                       [0, 0, -1]])\n",
    "    \n",
    "    arrow_cp = o3d.geometry.TriangleMesh.create_arrow(0.1,0.15,mesh_dim,0.3)\n",
    "    arrow_cp.paint_uniform_color([0,1,0])\n",
    "    if  (same_dir):\n",
    "        arrow_cp.rotate(R_x, arrow_center)\n",
    "        arrow_cp.rotate(rotation)\n",
    "        arrow_cp.translate(mesh_center, False)\n",
    "        return arrow_cp, arrow_bb\n",
    "    else:\n",
    "        return arrow, arrow_bb\n",
    "    "
   ]
  },
  {
   "cell_type": "code",
   "execution_count": 16,
   "id": "718f79e8",
   "metadata": {},
   "outputs": [
    {
     "name": "stderr",
     "output_type": "stream",
     "text": [
      "/tmp/ipykernel_24312/927153186.py:7: UserWarning: Optimal rotation is not uniquely or poorly defined for the given sets of vectors.\n",
      "  rotation_matrix = Rotation.align_vectors([vector1], [vector2])[0].as_matrix()\n"
     ]
    }
   ],
   "source": [
    "#test5, bbs, planes = select_points_in_bb(boundarys.to_legacy(), geometries, 0)\n",
    "\n",
    "arrows = []\n",
    "for plane, bb in zip(planes, bbs):\n",
    "    \n",
    "    arrow, arrow_bb = return_normal_arrow_from_plane(plane, boundarys.to_legacy(), bb)\n",
    "    arrows.append(arrow)\n",
    "    \n",
    "\n",
    "\n",
    "\n",
    "o3d.visualization.draw_geometries(arrows + [boundarys.to_legacy()] + geometries)"
   ]
  }
 ],
 "metadata": {
  "kernelspec": {
   "display_name": "Python 3 (ipykernel)",
   "language": "python",
   "name": "python3"
  },
  "language_info": {
   "codemirror_mode": {
    "name": "ipython",
    "version": 3
   },
   "file_extension": ".py",
   "mimetype": "text/x-python",
   "name": "python",
   "nbconvert_exporter": "python",
   "pygments_lexer": "ipython3",
   "version": "3.8.10"
  }
 },
 "nbformat": 4,
 "nbformat_minor": 5
}
