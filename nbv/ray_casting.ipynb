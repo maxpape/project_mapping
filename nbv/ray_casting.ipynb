{
 "cells": [
  {
   "cell_type": "code",
   "execution_count": 1,
   "id": "290b17fa",
   "metadata": {},
   "outputs": [
    {
     "name": "stdout",
     "output_type": "stream",
     "text": [
      "Jupyter environment detected. Enabling Open3D WebVisualizer.\n",
      "[Open3D INFO] WebRTC GUI backend enabled.\n",
      "[Open3D INFO] WebRTCWindowSystem: HTTP handshake server disabled.\n"
     ]
    }
   ],
   "source": [
    "import open3d as o3d\n",
    "import numpy as np\n",
    "import copy as cp\n",
    "import open3d.core as o3c\n",
    "import matplotlib.pyplot as plt\n",
    "import pyransac3d as pyrsc\n",
    "from scipy.spatial.transform import Rotation\n",
    "from iteration_utilities import deepflatten"
   ]
  },
  {
   "cell_type": "code",
   "execution_count": 2,
   "id": "dee011c5",
   "metadata": {},
   "outputs": [],
   "source": [
    "#load pcd file, filter, downsample\n",
    "pcdn = o3d.io.read_point_cloud(\"final_cropped.pcd\")\n",
    "pcdn.estimate_normals()\n",
    "cl, ind = pcdn.remove_statistical_outlier(nb_neighbors=20,\n",
    "                                                    std_ratio=0.8)\n",
    "\n",
    "pcd = pcdn.select_by_index(ind)\n",
    "pcd = pcd.voxel_down_sample(voxel_size=0.1)\n",
    "pcd.estimate_normals()\n",
    "pcd.orient_normals_consistent_tangent_plane(40)\n",
    "o3d.visualization.draw_geometries([pcd])"
   ]
  },
  {
   "cell_type": "code",
   "execution_count": 3,
   "id": "5b320fa4",
   "metadata": {},
   "outputs": [
    {
     "name": "stdout",
     "output_type": "stream",
     "text": [
      "Detect 15121 bnoundary points from 106083 points.\n"
     ]
    }
   ],
   "source": [
    "# detect boundarys in pointcloud\n",
    "\n",
    "test2 = cp.deepcopy(pcd)\n",
    "\n",
    "tensor_pcd = o3d.t.geometry.PointCloud.from_legacy(test2)\n",
    "\n",
    "boundarys, mask = tensor_pcd.compute_boundary_points(0.2, 100, 95)\n",
    "# TODO: not good to get size of points.\n",
    "print(f\"Detect {boundarys.point.positions.shape[0]} bnoundary points from {tensor_pcd.point.positions.shape[0]} points.\")\n",
    "\n",
    "boundarys = boundarys.paint_uniform_color([1.0, 0.0, 0.0])\n",
    "cl, ind = boundarys.to_legacy().remove_radius_outlier(2, 0.2)\n",
    "boundarys = boundarys.select_by_index(ind)\n",
    "\n",
    "\n",
    "o3d.visualization.draw_geometries([tensor_pcd.to_legacy().paint_uniform_color([0, 0, 0.0]), boundarys.to_legacy()])"
   ]
  },
  {
   "cell_type": "code",
   "execution_count": 4,
   "id": "65fa238a",
   "metadata": {},
   "outputs": [
    {
     "name": "stdout",
     "output_type": "stream",
     "text": [
      "Detected 126 patches\n"
     ]
    }
   ],
   "source": [
    "# detect patches in boundary points\n",
    "\n",
    "test4 = cp.deepcopy(boundarys.to_legacy())\n",
    "\n",
    "\n",
    "test4.estimate_normals()\n",
    "test4.orient_normals_consistent_tangent_plane(30)\n",
    "\n",
    "\n",
    "n_points = len(test4.points)\n",
    "#o3d.visualization.draw([pcd_down])\n",
    "# using all defaults\n",
    "oboxes = test4.detect_planar_patches(\n",
    "normal_variance_threshold_deg=60,\n",
    "coplanarity_deg=80,\n",
    "outlier_ratio=0.75,\n",
    "min_plane_edge_length=0.2,\n",
    "min_num_points=5,\n",
    "search_param=o3d.geometry.KDTreeSearchParamKNN(knn=50))\n",
    "\n",
    "print(\"Detected {} patches\".format(len(oboxes)))\n",
    "\n",
    "geometries = []\n",
    "for obox in oboxes:\n",
    "\n",
    "    mesh = o3d.geometry.TriangleMesh.create_from_oriented_bounding_box(obox, scale=[1, 1, 0.0001])\n",
    "    mesh.paint_uniform_color(obox.color)\n",
    "    mesh.compute_triangle_normals()\n",
    "    mesh.compute_vertex_normals()\n",
    "    normals = np.asarray(mesh.vertex_normals)\n",
    "\n",
    "    \n",
    "    geometries.append(mesh)\n",
    "    #geometries.append(obox)\n",
    "\n",
    "o3d.visualization.draw_geometries(geometries )\n",
    "#o3d.visualization.draw_geometries([pcd])"
   ]
  },
  {
   "cell_type": "code",
   "execution_count": 5,
   "id": "888ad696",
   "metadata": {},
   "outputs": [],
   "source": [
    "def add_vector_to_point(point, vector, length):\n",
    "    \n",
    "\n",
    "    # Calculate the new point coordinates\n",
    "    new_point = point + length * vector\n",
    "\n",
    "    # Return the new point as a NumPy array\n",
    "    return new_point"
   ]
  },
  {
   "cell_type": "code",
   "execution_count": 6,
   "id": "2b2300a0",
   "metadata": {},
   "outputs": [],
   "source": [
    "def calc_mesh_area_sorted(meshes):\n",
    "    areas = np.zeros((len(meshes),2))\n",
    "    for i in range(len(meshes)):\n",
    "        mesh_bb = meshes[i].get_oriented_bounding_box()\n",
    "        area = mesh_bb.volume()/mesh_bb.extent[2]\n",
    "        areas[i][0] = i\n",
    "        areas[i][1] = area\n",
    "    sorted_indices = np.argsort(areas[:, 1])[::-1]\n",
    "    return areas[sorted_indices]\n",
    "        "
   ]
  },
  {
   "cell_type": "code",
   "execution_count": 7,
   "id": "259cdea4",
   "metadata": {},
   "outputs": [],
   "source": [
    "dimensions = calc_mesh_area_sorted(geometries)\n"
   ]
  },
  {
   "cell_type": "code",
   "execution_count": 8,
   "id": "a2c9592e",
   "metadata": {},
   "outputs": [
    {
     "name": "stdout",
     "output_type": "stream",
     "text": [
      "[-37.55931125   0.48600167  -1.63776755]\n",
      "[-37.73427908   0.58178916   3.35825197]\n",
      "[-37.55931125   0.48600167   0.5       ]\n",
      "[-37.73427908   0.58178916   0.5       ]\n"
     ]
    }
   ],
   "source": [
    "middle = geometries[115].get_center()\n",
    "normal = np.asarray(geometries[115].vertex_normals)[0]\n",
    "\n",
    "cam_pos = add_vector_to_point(middle, normal, 5)\n",
    "print(middle)\n",
    "print(cam_pos)\n",
    "cam_pos[2] = 0.5\n",
    "middle[2] = 0.5\n",
    "print(middle)\n",
    "print(cam_pos)"
   ]
  },
  {
   "cell_type": "code",
   "execution_count": 9,
   "id": "0559f9b2",
   "metadata": {},
   "outputs": [],
   "source": [
    "scene = o3d.t.geometry.RaycastingScene()\n",
    "\n",
    "for mesh in geometries:\n",
    "    \n",
    "    scene.add_triangles(o3d.t.geometry.TriangleMesh.from_legacy(mesh))\n",
    "\n"
   ]
  },
  {
   "cell_type": "code",
   "execution_count": 10,
   "id": "2b22db78",
   "metadata": {},
   "outputs": [],
   "source": [
    "def count_hits_ray_cast(hit_array, dist_thresh):\n",
    "    dist_lower = dist_thresh[0]\n",
    "    dist_upper = dist_thresh[1]\n",
    "    flattened_hit_array = hit_array.flatten()\n",
    "    n_pixels = len(flattened_hit_array)\n",
    "    \n",
    "    \n",
    "    n_hits = np.sum((flattened_hit_array >= dist_lower) & (flattened_hit_array <= dist_upper))\n",
    "    \n",
    "    return n_hits/n_pixels\n",
    "    "
   ]
  },
  {
   "cell_type": "code",
   "execution_count": 12,
   "id": "162384b9",
   "metadata": {},
   "outputs": [],
   "source": [
    "def compute_transform(vector1, vector2):\n",
    "    # Normalize the vectors to unit length\n",
    "    vector1 = vector1 / np.linalg.norm(vector1)\n",
    "    vector2 = vector2 / np.linalg.norm(vector2)\n",
    "\n",
    "    # Compute the rotation matrix\n",
    "    rotation_matrix = Rotation.align_vectors([vector1], [vector2])[0].as_matrix()\n",
    "\n",
    "    # Compute the translation vector\n",
    "    translation_vector = vector2 - np.dot(rotation_matrix, vector1)\n",
    "\n",
    "    return translation_vector, rotation_matrix"
   ]
  },
  {
   "cell_type": "code",
   "execution_count": 17,
   "id": "a7ea4ec9",
   "metadata": {},
   "outputs": [],
   "source": [
    "def rotation_matrix_to_axis_angle(matrix):\n",
    "    r = Rotation.from_matrix(matrix)\n",
    "    return r.as_euler('xyz', degrees=True)"
   ]
  },
  {
   "cell_type": "code",
   "execution_count": 21,
   "id": "223eac25",
   "metadata": {},
   "outputs": [
    {
     "name": "stdout",
     "output_type": "stream",
     "text": [
      "[ 0.01653912  0.99920696 -0.03622037]\n",
      "0.36550684799382716\n",
      "[ 0.  0. 90.]\n"
     ]
    },
    {
     "name": "stderr",
     "output_type": "stream",
     "text": [
      "/tmp/ipykernel_4888/927153186.py:7: UserWarning: Optimal rotation is not uniquely or poorly defined for the given sets of vectors.\n",
      "  rotation_matrix = Rotation.align_vectors([vector1], [vector2])[0].as_matrix()\n"
     ]
    },
    {
     "data": {
      "image/png": "[encoded data removed]",
      "text/plain": [
       "<Figure size 640x480 with 1 Axes>"
      ]
     },
     "metadata": {},
     "output_type": "display_data"
    }
   ],
   "source": [
    "rays = o3d.t.geometry.RaycastingScene.create_rays_pinhole(\n",
    "    fov_deg=120,\n",
    "    center=middle,\n",
    "    eye=cam_pos,\n",
    "    up=[0, 0, -1],\n",
    "    width_px=1920,\n",
    "    height_px=1080,\n",
    ")\n",
    "# We can directly pass the rays tensor to the cast_rays function.\n",
    "ans = scene.cast_rays(rays)\n",
    "plt.imshow(ans['t_hit'].numpy())\n",
    "\n",
    "normals = ans['primitive_normals'].numpy()\n",
    "print(normals[0,1919])\n",
    "normals_interp = np.interp(normals, (normals.min(), normals.max()), (0, 1))\n",
    "plt.imshow(normals_interp)\n",
    "hits = ans['t_hit'].numpy()\n",
    "print(count_hits_ray_cast(hits, (1,10)))\n",
    "\n",
    "_, rot_mat = compute_transform(np.asarray([0,1,0]),np.asarray([1,0,0]))\n",
    "print(rotation_matrix_to_axis_angle(rot_mat))"
   ]
  }
 ],
 "metadata": {
  "kernelspec": {
   "display_name": "Python 3 (ipykernel)",
   "language": "python",
   "name": "python3"
  },
  "language_info": {
   "codemirror_mode": {
    "name": "ipython",
    "version": 3
   },
   "file_extension": ".py",
   "mimetype": "text/x-python",
   "name": "python",
   "nbconvert_exporter": "python",
   "pygments_lexer": "ipython3",
   "version": "3.8.10"
  }
 },
 "nbformat": 4,
 "nbformat_minor": 5
}
