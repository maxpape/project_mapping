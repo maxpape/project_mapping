{
 "cells": [
  {
   "cell_type": "code",
   "execution_count": 1,
   "id": "290b17fa",
   "metadata": {},
   "outputs": [
    {
     "name": "stdout",
     "output_type": "stream",
     "text": [
      "Jupyter environment detected. Enabling Open3D WebVisualizer.\n",
      "[Open3D INFO] WebRTC GUI backend enabled.\n",
      "[Open3D INFO] WebRTCWindowSystem: HTTP handshake server disabled.\n"
     ]
    }
   ],
   "source": [
    "import open3d as o3d\n",
    "import numpy as np\n",
    "import multiprocessing as mp\n",
    "from multiprocessing import Pool\n",
    "import copy as cp\n",
    "import open3d.core as o3c\n",
    "import matplotlib.pyplot as plt\n",
    "import pyransac3d as pyrsc\n",
    "import time\n",
    "from scipy.spatial.transform import Rotation\n",
    "from iteration_utilities import deepflatten\n",
    "from mpl_toolkits.mplot3d import Axes3D"
   ]
  },
  {
   "cell_type": "code",
   "execution_count": 62,
   "id": "dee011c5",
   "metadata": {},
   "outputs": [],
   "source": [
    "#load pcd file, filter, downsample\n",
    "pcdn = o3d.io.read_point_cloud(\"final_cropped_ground_align.pcd\")\n",
    "pcdn.estimate_normals()\n",
    "cl, ind = pcdn.remove_statistical_outlier(nb_neighbors=20,\n",
    "                                                    std_ratio=0.8)\n",
    "\n",
    "pcd = pcdn.select_by_index(ind)\n",
    "pcd = pcd.voxel_down_sample(voxel_size=0.1)\n",
    "pcd.estimate_normals()\n",
    "pcd.orient_normals_consistent_tangent_plane(40)\n",
    "o3d.visualization.draw_geometries([pcd])"
   ]
  },
  {
   "cell_type": "code",
   "execution_count": 26,
   "id": "5b320fa4",
   "metadata": {},
   "outputs": [
    {
     "name": "stdout",
     "output_type": "stream",
     "text": [
      "Detect 15126 bnoundary points from 105811 points.\n"
     ]
    }
   ],
   "source": [
    "# detect boundarys in pointcloud\n",
    "\n",
    "test2 = cp.deepcopy(pcd)\n",
    "\n",
    "tensor_pcd = o3d.t.geometry.PointCloud.from_legacy(test2)\n",
    "\n",
    "boundarys, mask = tensor_pcd.compute_boundary_points(0.2, 100, 95)\n",
    "# TODO: not good to get size of points.\n",
    "print(f\"Detect {boundarys.point.positions.shape[0]} bnoundary points from {tensor_pcd.point.positions.shape[0]} points.\")\n",
    "\n",
    "boundarys = boundarys.paint_uniform_color([1.0, 0.0, 0.0])\n",
    "cl, ind = boundarys.to_legacy().remove_radius_outlier(2, 0.2)\n",
    "boundarys = boundarys.select_by_index(ind)\n",
    "\n",
    "\n",
    "#o3d.visualization.draw_geometries([tensor_pcd.to_legacy().paint_uniform_color([0, 0, 0.0]), boundarys.to_legacy()])"
   ]
  },
  {
   "cell_type": "code",
   "execution_count": 58,
   "id": "65fa238a",
   "metadata": {},
   "outputs": [
    {
     "name": "stdout",
     "output_type": "stream",
     "text": [
      "Detected 57 patches\n"
     ]
    }
   ],
   "source": [
    "# detect patches in boundary points\n",
    "\n",
    "test4 = cp.deepcopy(boundarys.to_legacy())\n",
    "\n",
    "\n",
    "test4.estimate_normals()\n",
    "test4.orient_normals_consistent_tangent_plane(30)\n",
    "\n",
    "\n",
    "n_points = len(test4.points)\n",
    "#o3d.visualization.draw([pcd_down])\n",
    "# using all defaults\n",
    "oboxes = test4.detect_planar_patches(\n",
    "normal_variance_threshold_deg=60,\n",
    "coplanarity_deg=80,\n",
    "outlier_ratio=0.75,\n",
    "min_plane_edge_length=1,\n",
    "min_num_points=5,\n",
    "search_param=o3d.geometry.KDTreeSearchParamKNN(knn=50))\n",
    "\n",
    "print(\"Detected {} patches\".format(len(oboxes)))\n",
    "\n",
    "geometries = []\n",
    "for obox in oboxes:\n",
    "\n",
    "    mesh = o3d.geometry.TriangleMesh.create_from_oriented_bounding_box(obox, scale=[1, 1, 0.0001])\n",
    "    mesh.paint_uniform_color(obox.color)\n",
    "    mesh.compute_triangle_normals()\n",
    "    mesh.compute_vertex_normals()\n",
    "    normals = np.asarray(mesh.vertex_normals)\n",
    "\n",
    "    \n",
    "    geometries.append(mesh)\n",
    "    #geometries.append(obox)\n",
    "\n",
    "#o3d.visualization.draw_geometries(geometries )\n",
    "#o3d.visualization.draw_geometries([pcd])"
   ]
  },
  {
   "cell_type": "code",
   "execution_count": 6,
   "id": "888ad696",
   "metadata": {},
   "outputs": [],
   "source": [
    "def add_vector_to_point(point, vector, length):\n",
    "    \n",
    "\n",
    "    # Calculate the new point coordinates\n",
    "    new_point = point + length * vector\n",
    "\n",
    "    # Return the new point as a NumPy array\n",
    "    return new_point"
   ]
  },
  {
   "cell_type": "code",
   "execution_count": 7,
   "id": "2b2300a0",
   "metadata": {},
   "outputs": [],
   "source": [
    "def calc_mesh_area_sorted(meshes):\n",
    "    areas = np.zeros((len(meshes),2))\n",
    "    for i in range(len(meshes)):\n",
    "        mesh_bb = meshes[i].get_oriented_bounding_box()\n",
    "        area = mesh_bb.volume()/mesh_bb.extent[2]\n",
    "        areas[i][0] = i\n",
    "        areas[i][1] = area\n",
    "    sorted_indices = np.argsort(areas[:, 1])[::-1]\n",
    "    return areas[sorted_indices]\n",
    "        "
   ]
  },
  {
   "cell_type": "code",
   "execution_count": 8,
   "id": "259cdea4",
   "metadata": {},
   "outputs": [],
   "source": [
    "dimensions = calc_mesh_area_sorted(geometries)\n"
   ]
  },
  {
   "cell_type": "code",
   "execution_count": 9,
   "id": "1b8f8fcc",
   "metadata": {},
   "outputs": [],
   "source": [
    "def is_perpendicular(angle, threshold):\n",
    "    \n",
    "    if (180 <= angle < 360):\n",
    "        angle -= 180\n",
    "        \n",
    "    if ((90-threshold) <= angle <= (90+threshold)):\n",
    "        return True\n",
    "    else:\n",
    "        return False\n"
   ]
  },
  {
   "cell_type": "code",
   "execution_count": 11,
   "id": "f5c898d8",
   "metadata": {},
   "outputs": [],
   "source": [
    "def compute_transform(vector1, vector2):\n",
    "    # Normalize the vectors to unit length\n",
    "    vector1 = vector1 / np.linalg.norm(vector1)\n",
    "    vector2 = vector2 / np.linalg.norm(vector2)\n",
    "\n",
    "    # Compute the rotation matrix\n",
    "    rotation_matrix = Rotation.align_vectors([vector1], [vector2])[0].as_matrix()\n",
    "\n",
    "    # Compute the translation vector\n",
    "    translation_vector = vector2 - np.dot(rotation_matrix, vector1)\n",
    "\n",
    "    return translation_vector, rotation_matrix"
   ]
  },
  {
   "cell_type": "code",
   "execution_count": 12,
   "id": "60025b7a",
   "metadata": {},
   "outputs": [],
   "source": [
    "def rotation_matrix_to_axis_angle(matrix):\n",
    "    r = Rotation.from_matrix(matrix)\n",
    "    return r.as_euler('xyz', degrees=True)"
   ]
  },
  {
   "cell_type": "code",
   "execution_count": 13,
   "id": "6b4efe01",
   "metadata": {},
   "outputs": [],
   "source": [
    "def invert_normalized_vector(vector):\n",
    "    inverted_vector = []\n",
    "    for component in vector:\n",
    "        inverted_component = -component\n",
    "        inverted_vector.append(inverted_component)\n",
    "    return inverted_vector"
   ]
  },
  {
   "cell_type": "code",
   "execution_count": 14,
   "id": "361570cc",
   "metadata": {},
   "outputs": [],
   "source": [
    "def visualize_3d_vectors(vector1, vector2):\n",
    "    # Create a figure and a 3D axis\n",
    "    fig = plt.figure()\n",
    "    ax = fig.add_subplot(111, projection='3d')\n",
    "    \n",
    "    # normalize vectors\n",
    "    vector1 = vector1 / np.linalg.norm(vector1)\n",
    "    vector2 = vector2 / np.linalg.norm(vector2)\n",
    "    \n",
    "    if check_vector_similar_direction(vector1, vector2):\n",
    "        pass\n",
    "    else:\n",
    "        pass\n",
    "        #vector2 = invert_normalized_vector(vector2)\n",
    "        \n",
    "    \n",
    "    # Extract individual coordinates from the vectors\n",
    "    x1, y1, z1 = vector1\n",
    "    x2, y2, z2 = vector2\n",
    "    \n",
    "    # Plot the vectors as lines\n",
    "    ax.plot([0, x1], [0, y1], [0, z1], color='r', label='Cam orientation')\n",
    "    ax.plot([0, x2], [0, y2], [0, z2], color='b', label='Plane normal orientation')\n",
    "    \n",
    "    # Set the limits and labels of the plot\n",
    "    max_x = max(np.max(x1), np.max(x2))\n",
    "    max_y = max(np.max(y1), np.max(y2))\n",
    "    max_z = max(np.max(z1), np.max(z2))\n",
    "    ax.set_xlim([0, 1])\n",
    "    ax.set_ylim([0, 1])\n",
    "    ax.set_zlim([0, 1])\n",
    "    ax.set_xlabel('X')\n",
    "    ax.set_ylabel('Y')\n",
    "    ax.set_zlabel('Z')\n",
    "    \n",
    "    # Add a legend\n",
    "    ax.legend()\n",
    "    \n",
    "    # Show the plot\n",
    "    plt.show()"
   ]
  },
  {
   "cell_type": "code",
   "execution_count": 15,
   "id": "21e445c8",
   "metadata": {},
   "outputs": [],
   "source": [
    "def check_vector_similar_direction(vec1, vec2):\n",
    "    \n",
    "    # Normalize the vectors\n",
    "    normalized_vec1 = np.array(vec1) / np.linalg.norm(vec1)\n",
    "    normalized_vec2 = np.array(vec2) / np.linalg.norm(vec2)\n",
    "    \n",
    "    # Calculate the dot product\n",
    "    dot_product = np.dot(normalized_vec1, normalized_vec2)\n",
    "    \n",
    "    if (dot_product > 0):\n",
    "        return True\n",
    "    else:\n",
    "        return False"
   ]
  },
  {
   "cell_type": "code",
   "execution_count": 16,
   "id": "8f7a05a9",
   "metadata": {},
   "outputs": [],
   "source": [
    "def angle_between_vectors(v1, v2):\n",
    "    \"\"\" Returns the angle in radians between vectors 'v1' and 'v2'::\n",
    "\n",
    "            >>> angle_between((1, 0, 0), (0, 1, 0))\n",
    "            1.5707963267948966\n",
    "            >>> angle_between((1, 0, 0), (1, 0, 0))\n",
    "            0.0\n",
    "            >>> angle_between((1, 0, 0), (-1, 0, 0))\n",
    "            3.141592653589793\n",
    "    \"\"\"\n",
    "    # Normalize the vectors to unit length\n",
    "    v1_u = v1 / np.linalg.norm(v1)\n",
    "    v2_u = v2 / np.linalg.norm(v2)\n",
    "    angle = np.arccos(np.clip(np.dot(v1_u, v2_u), -1.0, 1.0))\n",
    "    \n",
    "    return np.degrees(angle)\n"
   ]
  },
  {
   "cell_type": "code",
   "execution_count": 17,
   "id": "40c34fcb",
   "metadata": {},
   "outputs": [],
   "source": [
    "def create_arrow_from_vector(vector, location):\n",
    "    mesh_normal = vector\n",
    "    mesh_center = location\n",
    "    \n",
    "    #print(\"Norm average:\")\n",
    "    #print(norm_average)\n",
    "    \n",
    "    arrow = o3d.geometry.TriangleMesh.create_cone(0.5,1)\n",
    "    \n",
    "    arrow.paint_uniform_color([1,0,0])\n",
    "    arrow_bb = arrow.get_oriented_bounding_box()\n",
    "    arrow.compute_triangle_normals()\n",
    "    arrow.compute_vertex_normals()\n",
    "    arrow_normal = np.asarray(arrow.vertex_normals)[0]\n",
    "\n",
    "    translation, rotation = compute_transform(mesh_normal, arrow_normal)  \n",
    "    \n",
    "    arrow.rotate(rotation)\n",
    "    \n",
    "    arrow.translate(mesh_center, False)\n",
    "    \n",
    "    \n",
    "    arrow_normal = np.asarray(arrow.vertex_normals)[0]\n",
    "    arrow_center = arrow.get_center()\n",
    "    same_dir = check_vector_similar_direction(arrow_normal,mesh_normal)\n",
    "    R_x = np.asarray([[1, 0, 0],\n",
    "                       [0, -1, 0],\n",
    "                       [0, 0, -1]])\n",
    "    \n",
    "    arrow_cp = o3d.geometry.TriangleMesh.create_cone(0.5,1)\n",
    "    arrow_cp.paint_uniform_color([1,0,0])\n",
    "    arrow_cp.compute_triangle_normals()\n",
    "    arrow_cp.compute_vertex_normals()\n",
    "    if  (same_dir):\n",
    "        arrow_cp.rotate(R_x, arrow_center)\n",
    "        arrow_cp.rotate(rotation)\n",
    "        arrow_cp.translate(mesh_center, False)\n",
    "        #return arrow_cp\n",
    "        return arrow\n",
    "    else:\n",
    "        return arrow\n",
    "    "
   ]
  },
  {
   "cell_type": "code",
   "execution_count": 18,
   "id": "659c6865",
   "metadata": {},
   "outputs": [],
   "source": [
    "\n",
    "\n",
    "\n",
    "\n",
    "\n",
    "def count_hits_ray_cast2(process_data):\n",
    "    \n",
    "    \n",
    "    scene_answer =  process_data[0]\n",
    "    cam_normal = process_data[1]\n",
    "    dist_thresh = process_data[2]\n",
    "    angle_thresh = process_data[3]\n",
    "    \n",
    "    \n",
    "    cast_normals = scene_answer['primitive_normals'].numpy()\n",
    "    cast_distances = scene_answer['t_hit'].numpy()\n",
    "    \n",
    "    dist_lower = dist_thresh[0]\n",
    "    dist_upper = dist_thresh[1]\n",
    "    n_valid_hits = 0\n",
    "    flattened_dist_array = cast_distances.flatten()\n",
    "    n_pixels = len(flattened_dist_array)\n",
    "    flattened_normal_array = cast_normals.reshape(n_pixels,3)\n",
    "\n",
    "    \n",
    "\n",
    "    \n",
    "    for i in range(n_pixels):\n",
    "        \n",
    "        if (flattened_dist_array[i] >= dist_lower) & (flattened_dist_array[i] <= dist_upper):\n",
    "            pass\n",
    "        else:\n",
    "            continue\n",
    "        \n",
    "        point_normal = flattened_normal_array[i]\n",
    "        angle = angle_between_vectors(point_normal, cam_normal)\n",
    "        \n",
    "        if is_perpendicular(angle, angle_thresh):\n",
    "            continue\n",
    "        else:\n",
    "            n_valid_hits += 1\n",
    "        \n",
    "            \n",
    "    #n_valid_hits = np.sum((flattened_dist_array >= dist_lower) & (flattened_dist_array <= dist_upper) & angles)\n",
    "    \n",
    "    return n_valid_hits/n_pixels"
   ]
  },
  {
   "cell_type": "code",
   "execution_count": 28,
   "id": "e22271ae",
   "metadata": {},
   "outputs": [],
   "source": [
    "def rank_all_views2(hole_patches, dist_thresh, angle_thresh):\n",
    "    \n",
    "    scene = o3d.t.geometry.RaycastingScene()\n",
    "    hole_centers = []\n",
    "    hole_normals = []\n",
    "    cam_positions = []\n",
    "    cam_normals = []\n",
    "    hit_areas = []\n",
    "    scene_answers = []\n",
    "    dist_threshes = [dist_thresh]*len(hole_patches)\n",
    "    angle_threshes = [angle_thresh]*len(hole_patches)\n",
    "    \n",
    "    tik = time.time() \n",
    "    for hole in hole_patches:\n",
    "        scene.add_triangles(o3d.t.geometry.TriangleMesh.from_legacy(hole))\n",
    "        center = hole.get_center()\n",
    "        normal = np.asarray(hole.vertex_normals)[0]\n",
    "        cam_pos = add_vector_to_point(center, normal, 5)\n",
    "        cam_pos[2] = 0.5\n",
    "        center[2] = 0.5\n",
    "        hole_centers.append(center)\n",
    "        hole_normals.append(normal)\n",
    "        cam_positions.append(cam_pos)\n",
    "        cam_normal = (center-cam_pos)\n",
    "        cam_normals.append(cam_normal)\n",
    "    tok = time.time()\n",
    "    print(\"time for scene creation:\", (tok-tik))\n",
    "    \n",
    "    tik = time.time()\n",
    "    for i in range(len(hole_patches)):\n",
    "        rays = o3d.t.geometry.RaycastingScene.create_rays_pinhole(\n",
    "                fov_deg=90,\n",
    "                center=hole_centers[i],\n",
    "                eye=cam_positions[i],\n",
    "                up=[0, 0, -1],\n",
    "                width_px=500,\n",
    "                height_px=500)\n",
    "        ans = scene.cast_rays(rays)\n",
    "        scene_answers.append(ans)\n",
    "    tok = time.time()\n",
    "    print(\"time for ray casting:\", (tok-tik))\n",
    "    \n",
    "    \n",
    "    tik = time.time()\n",
    "    process_data = zip(scene_answers, cam_normals, dist_threshes, angle_threshes)\n",
    "    \n",
    "    with Pool(mp.cpu_count()) as p:\n",
    "        hit_areas = p.map(count_hits_ray_cast2, process_data)\n",
    "    tok = time.time()\n",
    "    print(\"time for mp hit area calculation:\", (tok-tik))\n",
    "    \n",
    "    \n",
    "    return list(zip(hit_areas, cam_positions, cam_normals, scene_answers))\n",
    "\n"
   ]
  },
  {
   "cell_type": "code",
   "execution_count": 29,
   "id": "13082cae",
   "metadata": {},
   "outputs": [
    {
     "name": "stdout",
     "output_type": "stream",
     "text": [
      "time for scene creation: 0.006138324737548828\n",
      "time for ray casting: 0.1419391632080078\n",
      "time for mp hit area calculation: 6.262523651123047\n"
     ]
    }
   ],
   "source": [
    "tik2 = time.time()      \n",
    "ranked_views2 = rank_all_views2(geometries, (2,10), 10 )\n",
    "tok2 = time.time()\n",
    "\n",
    "#print(ranked_views2)\n",
    "#print(\"overall time:\", (tok2-tik2))"
   ]
  },
  {
   "cell_type": "code",
   "execution_count": 56,
   "id": "c9572ab9",
   "metadata": {},
   "outputs": [
    {
     "name": "stdout",
     "output_type": "stream",
     "text": [
      "[0.0, 0.0, 0.000452, 0.009108, 0.01808, 0.020928, 0.02872, 0.041432, 0.048612, 0.055076, 0.0668, 0.075012, 0.0753, 0.085876, 0.090252, 0.103736, 0.113244, 0.114124, 0.117152, 0.130468, 0.14216, 0.154072, 0.162748, 0.190488, 0.198824, 0.218076, 0.218416, 0.235544, 0.241216, 0.279208, 0.386384, 0.494104, 0.537812, 0.580508]\n",
      "[-3.90708329  4.85315368  0.5       ] [1.18470829 0.06172201 0.        ]\n"
     ]
    }
   ],
   "source": [
    "#sort views in ascending order according to area covered\n",
    "ranked_views2.sort(key=lambda x:x[0])\n",
    "\n",
    "print([view[0] for view in ranked_views2])\n",
    "best_pos = ranked_views2[-1][1]\n",
    "best_orientation = ranked_views2[-1][2]\n",
    "\n",
    "print(best_pos, best_orientation)\n"
   ]
  },
  {
   "cell_type": "code",
   "execution_count": null,
   "id": "eda7572c",
   "metadata": {},
   "outputs": [],
   "source": [
    "vec1 = np.asarray([-1,0,0])\n",
    "vec2 = np.asarray([0,1,2])\n",
    "\n",
    "_, rot_mat = compute_transform(vec1 ,vec2)\n",
    "print(rotation_matrix_to_axis_angle(rot_mat))\n",
    "print(angle_between_vectors(vec1, vec2))\n",
    "visualize_3d_vectors(vec1 ,vec2)\n"
   ]
  },
  {
   "cell_type": "code",
   "execution_count": 54,
   "id": "8140a6fa",
   "metadata": {},
   "outputs": [
    {
     "data": {
      "image/png": "[encoded data removed]",
      "text/plain": [
       "<Figure size 1000x600 with 1 Axes>"
      ]
     },
     "metadata": {},
     "output_type": "display_data"
    },
    {
     "data": {
      "image/png": "[encoded data removed]",
      "text/plain": [
       "<Figure size 1000x600 with 1 Axes>"
      ]
     },
     "metadata": {},
     "output_type": "display_data"
    },
    {
     "data": {
      "image/png": "[encoded data removed]",
      "text/plain": [
       "<Figure size 1000x600 with 1 Axes>"
      ]
     },
     "metadata": {},
     "output_type": "display_data"
    },
    {
     "data": {
      "image/png": "[encoded data removed]",
      "text/plain": [
       "<Figure size 1000x600 with 1 Axes>"
      ]
     },
     "metadata": {},
     "output_type": "display_data"
    },
    {
     "data": {
      "image/png": "[encoded data removed]",
      "text/plain": [
       "<Figure size 1000x600 with 1 Axes>"
      ]
     },
     "metadata": {},
     "output_type": "display_data"
    },
    {
     "data": {
      "image/png": "[encoded data removed]",
      "text/plain": [
       "<Figure size 1000x600 with 1 Axes>"
      ]
     },
     "metadata": {},
     "output_type": "display_data"
    },
    {
     "data": {
      "image/png": "[encoded data removed]",
      "text/plain": [
       "<Figure size 1000x600 with 1 Axes>"
      ]
     },
     "metadata": {},
     "output_type": "display_data"
    },
    {
     "data": {
      "image/png": "[encoded data removed]",
      "text/plain": [
       "<Figure size 1000x600 with 1 Axes>"
      ]
     },
     "metadata": {},
     "output_type": "display_data"
    },
    {
     "data": {
      "image/png": "[encoded data removed]",
      "text/plain": [
       "<Figure size 1000x600 with 1 Axes>"
      ]
     },
     "metadata": {},
     "output_type": "display_data"
    }
   ],
   "source": [
    "for i in range(1,10):\n",
    "    best_pos = ranked_views2[-i][1]\n",
    "    best_orientation = ranked_views2[-i][2]\n",
    "    best_ans = ranked_views2[-i][3]\n",
    "\n",
    "    #normals = best_ans['primitive_normals'].numpy()\n",
    "    normals = np.abs(best_ans['primitive_normals'].numpy())\n",
    "    hits = best_ans['t_hit'].numpy()\n",
    "    #normals_interp = np.interp(normals, (normals.min(), normals.max()), (0, 1))\n",
    "    plt.figure(figsize=(10,6))\n",
    "    plt.imshow(normals) "
   ]
  },
  {
   "cell_type": "code",
   "execution_count": 63,
   "id": "bba844b2",
   "metadata": {},
   "outputs": [
    {
     "name": "stderr",
     "output_type": "stream",
     "text": [
      "/tmp/ipykernel_5740/927153186.py:7: UserWarning: Optimal rotation is not uniquely or poorly defined for the given sets of vectors.\n",
      "  rotation_matrix = Rotation.align_vectors([vector1], [vector2])[0].as_matrix()\n"
     ]
    }
   ],
   "source": [
    "ranked_views2[-1][0]\n",
    "\n",
    "for i in range(1,10):\n",
    "    best_pos = ranked_views2[-i][1]\n",
    "    best_orientation = ranked_views2[-i][2]\n",
    "    best_ans = ranked_views2[-i][3]\n",
    "\n",
    "    \n",
    "\n",
    "    cone = create_arrow_from_vector(best_orientation, best_pos)\n",
    "\n",
    "    o3d.visualization.draw_geometries([pcd] + [cone] )"
   ]
  }
 ],
 "metadata": {
  "kernelspec": {
   "display_name": "Python 3 (ipykernel)",
   "language": "python",
   "name": "python3"
  },
  "language_info": {
   "codemirror_mode": {
    "name": "ipython",
    "version": 3
   },
   "file_extension": ".py",
   "mimetype": "text/x-python",
   "name": "python",
   "nbconvert_exporter": "python",
   "pygments_lexer": "ipython3",
   "version": "3.8.10"
  }
 },
 "nbformat": 4,
 "nbformat_minor": 5
}
